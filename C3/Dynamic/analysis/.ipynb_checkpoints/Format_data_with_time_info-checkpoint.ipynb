{
 "cells": [
  {
   "cell_type": "markdown",
   "metadata": {},
   "source": [
    "Open and reshape data"
   ]
  },
  {
   "cell_type": "code",
   "execution_count": 3,
   "metadata": {
    "collapsed": true
   },
   "outputs": [],
   "source": [
    "import pandas as pd\n",
    "import numpy as np\n",
    "import pickle\n",
    "import matplotlib.pyplot as plt\n",
    "from os import listdir\n",
    "import pdb\n"
   ]
  },
  {
   "cell_type": "code",
   "execution_count": 23,
   "metadata": {},
   "outputs": [
    {
     "name": "stdout",
     "output_type": "stream",
     "text": [
      "10-436_13-437_learner_dynamic.csv\n",
      "13-437_10-436_teacher_dynamic.csv\n",
      "10-305_13-434_teacher_dynamic.csv\n",
      "28-63_13-304_learner_dynamic.csv\n",
      "28-63_13-304_teacher_dynamic.csv\n",
      "13-437_10-436_learner_dynamic.csv\n",
      "10-305_13-434_learner_dynamic.csv\n",
      "10-436_13-437_teacher_dynamic.csv\n"
     ]
    }
   ],
   "source": [
    "# READ AND FORMAT DATA FILES\n",
    "\n",
    "where='/home/ahaimovici/Documents/Teaching/Rectangle_Game/Data/Dynamic/with_time_info/';\n",
    "files=[];\n",
    "for file in listdir(where):\n",
    "    if file.endswith(\".csv\"):\n",
    "        files.append(file);\n",
    "#def read_files(where,files):    \n",
    "Data=[];\n",
    "for f in files:\n",
    "    print(f)\n",
    "    Pair={};\n",
    "    i1=f.find('-');\n",
    "    i2=f.find('_');\n",
    "    i3=f[i1+1:].find('-')+i1+1;\n",
    "    i4=f[i2+1:].find('_')+i2+1;\n",
    "    Pair['Teachers_age']=int(f[0:i1]);\n",
    "    Pair['Teachers_Id']=int(f[i1+1:i2]);\n",
    "    Pair['Learners_age']=int(f[i2+1:i3]);    \n",
    "    Pair['Learners_Id']=int(f[i3+1:i4]);             \n",
    "    if Pair['Teachers_Id']>=400 or Pair['Learners_Id']>=400:\n",
    "        Pair['Conscent']=False;\n",
    "    else:\n",
    "        Pair['Conscent']=True;\n",
    "\n",
    "    df = pd.read_csv(where+f, delimiter=',');\n",
    "    columns=df.columns.tolist();        \n",
    "    tuples = [tuple(x) for x in df.values];\n",
    "    Pair['Total_time']=int(tuples[-1][columns.index('time_elapsed')])/60000; # minutes\n",
    "    Pair['Trials']=[];\n",
    "    n_trial=0;\n",
    "    for row in tuples:\n",
    "        if row[1]=='teacher' or row[1]=='learner':\n",
    "            n_trial+=1;\n",
    "            if n_trial>2: # first two trials are training                  \n",
    "                examples=row[columns.index('Examples')];\n",
    "                inside=row[columns.index('Inside')];\n",
    "                inside=inside.split(',');\n",
    "                examples_list=[];                \n",
    "                if not(pd.isnull(examples)):\n",
    "                    examples=examples.split(\",\");            \n",
    "                    for element in examples:                \n",
    "                        if element[0]=='[':\n",
    "                            element=element[1:];\n",
    "                        if element[-1]==']':\n",
    "                            element=element[0:-1];\n",
    "                        examples_list.append(float(element));\n",
    "                    examples_list = list(zip(*[iter(examples_list)] * 2));\n",
    "                Examples=[];                \n",
    "                i=0;\n",
    "                for element in examples_list:\n",
    "                    Examples.append({'x':element[0],'y':element[1],'inside':inside[i]})\n",
    "                    i+=1;\n",
    "                \n",
    "                \n",
    "                \n",
    "                teachers_box=row[columns.index('Teachers_Box')];\n",
    "                teachers_box=teachers_box[1:-1];\n",
    "                teachers_box=teachers_box.split(\",\");   \n",
    "                aux=[];\n",
    "                for element in teachers_box:\n",
    "                    element=int(element);\n",
    "                    aux.append(element);\n",
    "                teachers_box=aux;\n",
    "                learners_guess=row[columns.index('Learners_Guess')];\n",
    "                learners_guess=learners_guess.split(\",\");\n",
    "                learners_guess_list=[];\n",
    "                for element in learners_guess:\n",
    "                    if element[0]=='[':\n",
    "                        element=element[1:];\n",
    "                    if element[-1]==']':\n",
    "                        element=element[0:-1];\n",
    "                    learners_guess_list.append(float(element));\n",
    "                learners_guess_list = list(zip(*[iter(learners_guess_list)] * 4))  \n",
    "                won=row[columns.index('won')];\n",
    "                Pair['Trials'].append({'Teachers_box':teachers_box,'Examples':Examples,'n_examples':len(Examples),'Learners_guess':learners_guess_list,'won':won});\n",
    "    Data.append(Pair);\n",
    "#    return Data;"
   ]
  },
  {
   "cell_type": "code",
   "execution_count": 26,
   "metadata": {},
   "outputs": [
    {
     "data": {
      "text/plain": [
       "{'Examples': [{'inside': 'true', 'x': 368.0, 'y': 386.0},\n",
       "  {'inside': 'true', 'x': 366.0, 'y': 630.0},\n",
       "  {'inside': 'true', 'x': 305.0, 'y': 502.0},\n",
       "  {'inside': 'true', 'x': 433.0, 'y': 500.0}],\n",
       " 'Learners_guess': [(363.0, 861.0, 382.0, 862.0),\n",
       "  (362.0, 865.0, 380.0, 636.0),\n",
       "  (300.0, 862.0, 377.0, 640.0),\n",
       "  (297.0, 442.0, 375.0, 639.0)],\n",
       " 'Teachers_box': [301, 435, 380, 632],\n",
       " 'won': True}"
      ]
     },
     "execution_count": 26,
     "metadata": {},
     "output_type": "execute_result"
    }
   ],
   "source": [
    "Pair['Trials'][0]"
   ]
  },
  {
   "cell_type": "code",
   "execution_count": null,
   "metadata": {},
   "outputs": [],
   "source": [
    "# ADD MISSING FILES\n",
    "\n",
    "where='/home/ahaimovici/Documents/Teaching/Rectangle_Game/Data/Dynamic/with_time_info/';\n",
    "files=[];\n",
    "for file in listdir(where):\n",
    "    if file.endswith(\".csv\"):\n",
    "        files.append(file);\n",
    "\n",
    "Data=read_files(where,files);\n",
    "\n",
    "'''\n",
    "where='/home/ahaimovici/Documents/Teaching/Rectangle_Game/Data/Dynamic/learners/';\n",
    "files=[];\n",
    "for file in listdir(where):\n",
    "    if file.endswith(\".csv\"):\n",
    "        files.append(file);\n",
    "\n",
    "Data_L=read_files(where,files);\n",
    "\n",
    "New_data=[];\n",
    "for P in Data_L:\n",
    "    new_pair=True;\n",
    "    for Q in Data:\n",
    "        if P['Teachers_Id']==Q['Teachers_Id'] and P['Learners_Id']==Q['Learners_Id']:\n",
    "            new_pair=False;\n",
    "    if new_pair:\n",
    "        New_data.append(P);\n",
    "for P in New_data:\n",
    "    Data.append(P);\n",
    "'''\n",
    "\n",
    "\n",
    "\n"
   ]
  },
  {
   "cell_type": "code",
   "execution_count": null,
   "metadata": {
    "collapsed": true
   },
   "outputs": [],
   "source": [
    "n_trials=[];\n",
    "n_examples=[];\n",
    "sd_examples=[];\n",
    "n_examples_win=[];\n",
    "sd_examples_win=[];\n",
    "p_win=[];\n",
    "time=[];\n",
    "edades=[];\n",
    "workable_trial=0;\n",
    "non_workable_trial=0;\n",
    "workable_couple=0;\n",
    "for P in Data:\n",
    "    edades.append(str(P['Teachers_age'])+'-'+str(P['Learners_age']))\n",
    "    n_trials.append(len(P['Trials']));    \n",
    "    time.append(P['Total_time']);    \n",
    "    nex=[];\n",
    "    nex_w=[];\n",
    "    n_won=0;\n",
    "    for trial in P['Trials']:\n",
    "        nex.append(len(trial['Circles'])+len(trial['Crosses']));\n",
    "        if trial['won']:\n",
    "            nex_w.append(len(trial['Circles'])+len(trial['Crosses']));            \n",
    "    n_examples.append(np.mean(nex));\n",
    "    sd_examples.append(np.std(nex));\n",
    "    n_examples_win.append(np.mean(nex_w));\n",
    "    sd_examples_win.append(np.std(nex_w));\n",
    "    p_win.append(len(nex_w)/len(nex));\n",
    "    flag=True;\n",
    "    if not(P['Conscent']):\n",
    "        print(P['Teachers_Id'])\n",
    "    for trial in P['Trials']:\n",
    "        if not trial['Crosses'] or not trial['Circles']:            \n",
    "            workable_trial+=1;\n",
    "            if flag:\n",
    "                workable_couple+=1;\n",
    "                flag=False;\n",
    "                "
   ]
  },
  {
   "cell_type": "code",
   "execution_count": null,
   "metadata": {
    "collapsed": true
   },
   "outputs": [],
   "source": [
    "a=[1,2,3]\n",
    "np.std(a)"
   ]
  },
  {
   "cell_type": "code",
   "execution_count": null,
   "metadata": {
    "collapsed": true
   },
   "outputs": [],
   "source": [
    "print('Edades','||||','Trials','||||','% win','||||','av. examples','||||','av. examples|w','||||','time')\n",
    "[print (*[edades[i],'||||',n_trials[i],'||||',round(p_win[i]*10)/10,'||||',round(n_examples[i]*10)/10,'+/-',round(sd_examples[i]*10)/10,'||||',round(n_examples_win[i]*10)/10,'+/-',round(sd_examples_win[i]*10)/10,'||||',round(time[i]*10)/10]) for i in range(0,len(time))];\n"
   ]
  },
  {
   "cell_type": "code",
   "execution_count": null,
   "metadata": {
    "collapsed": true
   },
   "outputs": [],
   "source": [
    "def individual_histogram(pair,center): # as in the paper. # center: make the box be in the center of the crosses histogram\n",
    "    n_bins=3;\n",
    "    canvas_size=865;\n",
    "    inner_bins=np.zeros([n_bins,n_bins]); \n",
    "    if center:\n",
    "        outer_bins=np.zeros([2*n_bins+1,2*n_bins+1]);             \n",
    "    else:\n",
    "        outer_bins=np.zeros([n_bins+1,n_bins+1]);             \n",
    "    n_trial=-1;\n",
    "    for trial in pair['Trials']:\n",
    "            n_trial=n_trial+1;\n",
    "            box=trial['Teachers_box'];\n",
    "            width=box[1]-box[0];\n",
    "            height=box[3]-box[2];                \n",
    "            for circle in trial['Circles']:\n",
    "                x=circle[0]-box[0];\n",
    "                y=circle[1]-box[2];\n",
    "                x_bin=np.int(np.floor(x/(width/n_bins)));\n",
    "                y_bin=np.int(np.floor(y/(height/n_bins)));\n",
    "                if(x_bin==3):\n",
    "                    x_bin=2;\n",
    "                if(y_bin==3):\n",
    "                    y_bin=2;                \n",
    "                inner_bins[x_bin,y_bin ]=inner_bins[x_bin,y_bin]+1;                \n",
    "            for cross in trial['Crosses']:\n",
    "                if (cross[0]-box[0])<0: #left side\n",
    "                    x=box[0]-cross[0];\n",
    "                    x_bin=np.int(np.floor(x/(box[0]/n_bins)))+1; # bins 1,2 or 3\n",
    "                    if center:\n",
    "                        x_bin=-x_bin+n_bins; # make the box be in the center\n",
    "                elif cross[0]>box[1]: #right side\n",
    "                    x=cross[0]-box[1];\n",
    "                    x_bin=np.int(np.floor(x/((canvas_size-box[1])/n_bins)))+1;\n",
    "                    if center:\n",
    "                        x_bin=x_bin+n_bins;\n",
    "                else: # above or below the box\n",
    "                    x_bin=0;\n",
    "                    if center:\n",
    "                        x_bin=x_bin+n_bins;\n",
    "                if (cross[1]-box[2])<0: # above\n",
    "                    y=box[2]-cross[1];\n",
    "                    y_bin=np.int(np.floor(y/(box[2]/n_bins)))+1;\n",
    "                    if center:\n",
    "                        y_bin=y_bin+n_bins;\n",
    "                elif cross[1]>box[3]: # below\n",
    "                    y=cross[1]-box[3];\n",
    "                    y_bin=np.int(np.floor(y/((canvas_size-box[3])/n_bins)))+1;\n",
    "                    if center:\n",
    "                        y_bin=-y_bin+n_bins;\n",
    "                else:                                                                              \n",
    "                    y_bin=0;                \n",
    "                    if center:\n",
    "                        y_bin=y_bin+n_bins;\n",
    "                outer_bins[x_bin,y_bin]=outer_bins[x_bin,y_bin]+1;            \n",
    "    return inner_bins, outer_bins;\n",
    "\n",
    "\n",
    "def plot_inner_histo(histo_inside):\n",
    "    fig=plt.figure();\n",
    "    plt.pcolor(np.flip(histo_inside,0),cmap='Greys')     \n",
    "    plt.colorbar();    \n",
    "    plt.plot([0,3,3,0,0],[0,0,3,3,0],'b')\n",
    "    plt.xlim([-0.5,3.5])\n",
    "    plt.ylim([-0.5,3.5])\n",
    "    plt.tick_params(bottom=False,top=False,left=False,right=False,labelbottom=False,labelleft=False)    \n",
    "    plt.show()\n",
    "    \n",
    "    \n",
    "    \n",
    "def plot_outer_histo(histo_outside,center):\n",
    "    fig=plt.figure();\n",
    "    plt.title('')        \n",
    "    if center:\n",
    "        plt.pcolor(np.flip(histo_outside,0),cmap='Greys')\n",
    "        plt.plot([3,4,4,3,3],[3,3,4,4,3],'b')\n",
    "        plt.xlim([0,7])\n",
    "        plt.ylim([0,7])    \n",
    "    else:\n",
    "        plt.pcolor(histo_outside,cmap='Greys')\n",
    "        plt.plot([0,1,1,0,0],[0,0,1,1,0],'b')\n",
    "        plt.xlim([-0.03,4])\n",
    "        plt.ylim([-0.01,4])    \n",
    "    plt.colorbar();    \n",
    "    plt.tick_params(bottom=False,top=False,left=False,right=False,labelbottom=False,labelleft=False)\n",
    "    plt.show()"
   ]
  },
  {
   "cell_type": "code",
   "execution_count": null,
   "metadata": {
    "collapsed": true,
    "scrolled": false
   },
   "outputs": [],
   "source": [
    "i=0;\n",
    "for pair in Data:    \n",
    "    [inner,outer]=individual_histogram(pair,True);\n",
    "    print('Edad-T:'+str(pair['Teachers_age'])+' Edad-L:'+str(pair['Learners_age']))\n",
    "    plot_inner_histo(inner)\n",
    "    plot_outer_histo(outer,True)\n",
    "    "
   ]
  },
  {
   "cell_type": "code",
   "execution_count": null,
   "metadata": {
    "collapsed": true
   },
   "outputs": [],
   "source": [
    "print(inner)\n",
    "print(np.flip(inner,0))"
   ]
  }
 ],
 "metadata": {
  "kernelspec": {
   "display_name": "Python 3",
   "language": "python",
   "name": "python3"
  },
  "language_info": {
   "codemirror_mode": {
    "name": "ipython",
    "version": 3
   },
   "file_extension": ".py",
   "mimetype": "text/x-python",
   "name": "python",
   "nbconvert_exporter": "python",
   "pygments_lexer": "ipython3",
   "version": "3.6.1"
  }
 },
 "nbformat": 4,
 "nbformat_minor": 2
}
