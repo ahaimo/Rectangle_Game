{
 "cells": [
  {
   "cell_type": "code",
   "execution_count": 1,
   "metadata": {
    "collapsed": true
   },
   "outputs": [],
   "source": [
    "import numpy as np\n",
    "import ipdb\n",
    "import pandas as pd\n",
    "from copy import deepcopy\n",
    "import pickle\n",
    "import matplotlib.pyplot as plt"
   ]
  },
  {
   "cell_type": "markdown",
   "metadata": {},
   "source": [
    "## Load data"
   ]
  },
  {
   "cell_type": "code",
   "execution_count": 2,
   "metadata": {
    "collapsed": true
   },
   "outputs": [],
   "source": [
    "#reload object from file\n",
    "\n",
    "\n",
    "file2 = open(r'/home/ahaimovici/Documents/Teaching/Rectangle_Game/C3/Data/Individual/Teachers.pkl', 'rb')\n",
    "Teachers = pickle.load(file2)\n",
    "file2.close()\n",
    "\n",
    "file2 = open(r'/home/ahaimovici/Documents/Teaching/Rectangle_Game/C3/Data/Individual/Learners.pkl', 'rb')\n",
    "Learners = pickle.load(file2)\n",
    "file2.close()\n"
   ]
  },
  {
   "cell_type": "markdown",
   "metadata": {},
   "source": [
    "## Check consistency in learners and remove bad trials and bad learners"
   ]
  },
  {
   "cell_type": "code",
   "execution_count": 3,
   "metadata": {
    "collapsed": true
   },
   "outputs": [],
   "source": [
    "Errors=[]; # trials labeled as inconsistent which are consistent and viceversa. This is happened in a few trials where subjects clicked outside or in the border of the canvas\n",
    "\n",
    "New_Learners=[];\n",
    "\n",
    "for subject in Learners:\n",
    "    n_trial=-1;\n",
    "    s1=deepcopy(subject);\n",
    "    New_Learners.append(s1);\n",
    "    New_Learners[len(New_Learners)-1]['trials']=[];\n",
    "    for trial in subject['trials']:        \n",
    "        n_trial=n_trial+1;\n",
    "        box=trial['Box'];\n",
    "        consistent=True;\n",
    "        for circle in trial['Circles']:\n",
    "            if not(circle[0]>=box[0] and circle[0]<=box[1] and circle[1]>=box[2] and circle[1]<=box[3]):\n",
    "                consistent=False;\n",
    "        for cross in trial['Crosses']:\n",
    "            if cross[0]>=box[0] and cross[0]<=box[1] and cross[1]>=box[2] and cross[1]<=box[3]:\n",
    "                consistent=False;\n",
    "        if consistent and trial['Consistent']:\n",
    "            New_Learners[len(New_Learners)-1]['trials'].append(trial);\n",
    "                \n",
    "Learners=New_Learners;\n",
    "\n",
    "New_Learners=[];\n",
    "for s in Learners:\n",
    "    if s['inconsistent_trials']<0.1:\n",
    "        New_Learners.append(s)        \n",
    "Learners=New_Learners;     \n",
    "            \n",
    "            "
   ]
  },
  {
   "cell_type": "code",
   "execution_count": 4,
   "metadata": {
    "collapsed": true
   },
   "outputs": [],
   "source": [
    "\n",
    "\n",
    "def individual_histogram(subject): # as in the paper\n",
    "    n_bins=3;\n",
    "    canvas_size=974;\n",
    "    inner_bins=np.zeros([n_bins,n_bins]); \n",
    "    outer_bins=np.zeros([n_bins+1,n_bins+1]);             \n",
    "    n_trial=-1;\n",
    "    for trial in subject['trials']:\n",
    "            n_trial=n_trial+1;\n",
    "            box=trial['Box'];\n",
    "            width=box[1]-box[0];\n",
    "            height=box[3]-box[2];                \n",
    "            for circle in trial['Circles']:\n",
    "                x=circle[0]-box[0];\n",
    "                y=circle[1]-box[2];\n",
    "                x_bin=np.int(np.floor(x/(width/n_bins)));\n",
    "                y_bin=np.int(np.floor(y/(height/n_bins)));\n",
    "                if(x_bin==3):\n",
    "                    x_bin=2;\n",
    "                if(y_bin==3):\n",
    "                    y_bin=2;                \n",
    "                inner_bins[x_bin,y_bin ]=inner_bins[x_bin,y_bin]+1;                \n",
    "            for cross in trial['Crosses']:\n",
    "                if (cross[0]-box[0])<0: #left side\n",
    "                    x=box[0]-cross[0];\n",
    "                    x_bin=np.int(np.floor(x/(box[0]/n_bins)))+1; # bins 1,2 or 3\n",
    "                elif cross[0]>box[1]: #right side\n",
    "                    x=cross[0]-box[1];\n",
    "                    x_bin=np.int(np.floor(x/((canvas_size-box[1])/n_bins)))+1;\n",
    "                else: # above or below the box\n",
    "                    x_bin=0;                \n",
    "                if (cross[1]-box[2])<0: # above\n",
    "                    y=box[2]-cross[1];\n",
    "                    y_bin=np.int(np.floor(y/(box[2]/n_bins)))+1;\n",
    "                elif cross[1]>box[3]:\n",
    "                    y=cross[1]-box[3];\n",
    "                    y_bin=np.int(np.floor(y/((canvas_size-box[3])/n_bins)))+1;\n",
    "                else:\n",
    "                    y_bin=0;\n",
    "                if x_bin>3 or y_bin>3:\n",
    "                    ipdb.set_trace()\n",
    "                outer_bins[x_bin,y_bin]=outer_bins[x_bin,y_bin]+1;            \n",
    "    return inner_bins, outer_bins;\n",
    "\n",
    "\n",
    "def distance_to_box(subject):\n",
    "    # returns a list with the distance to the nearest side of the box\n",
    "    sample_dist=[];\n",
    "    for trial in subject['trials']:    \n",
    "        box=trial['Box'];\n",
    "        corner_1=[box[0],box[2]];\n",
    "        corner_2=[box[0],box[3]];\n",
    "        corner_3=[box[1],box[2]];\n",
    "        corner_4=[box[1],box[3]];    \n",
    "        for sample in trial['Circles']:                       \n",
    "            dist=min(sample[0]-box[0],box[1]-sample[0],sample[1]-box[2],box[3]-sample[1]);                        \n",
    "            sample_dist.append(dist);\n",
    "        for sample in trial['Crosses']:\n",
    "            if (sample[0]>=box[0])and(sample[0]<=box[1]): # top or bottom\n",
    "                dist=min(abs(sample[1]-box[2]),abs(sample[1]-box[3]));\n",
    "            elif(sample[1]>=box[2])and(sample[1]<=box[3]): # right or left\n",
    "                dist=min(abs(sample[0]-box[0]),abs(sample[0]-box[1]));\n",
    "            else:                    \n",
    "                dist=min(euclidean_dist(sample,corner_1),euclidean_dist(sample,corner_2),euclidean_dist(sample,corner_3),euclidean_dist(sample,corner_4));                \n",
    "            sample_dist.append(dist);             \n",
    "    return sample_dist;\n",
    "    \n",
    "\n",
    "\n",
    "\n",
    "\n",
    "def distance_to_corner(subject):\n",
    "    # returns a list with the distance to the nearest corner of every sample\n",
    "    sample_dist=[];\n",
    "    for trial in subject['trials']:    \n",
    "        box=trial['Box'];\n",
    "        corner_1=[box[0],box[2]];\n",
    "        corner_2=[box[0],box[3]];\n",
    "        corner_3=[box[1],box[2]];\n",
    "        corner_4=[box[1],box[3]];    \n",
    "        for sample in trial['Circles']:\n",
    "            dist=np.inf;        \n",
    "            dist=min(dist,euclidean_dist(sample,corner_1));\n",
    "            dist=min(dist,euclidean_dist(sample,corner_2));\n",
    "            dist=min(dist,euclidean_dist(sample,corner_3));\n",
    "            dist=min(dist,euclidean_dist(sample,corner_4));\n",
    "            sample_dist.append(dist);\n",
    "        for sample in trial['Crosses']:\n",
    "            dist=np.inf;        \n",
    "            dist=min(dist,euclidean_dist(sample,corner_1));\n",
    "            dist=min(dist,euclidean_dist(sample,corner_2));\n",
    "            dist=min(dist,euclidean_dist(sample,corner_3));\n",
    "            dist=min(dist,euclidean_dist(sample,corner_4));\n",
    "            sample_dist.append(dist);                \n",
    "    return sample_dist;\n",
    "        \n",
    "def euclidean_dist(X,Y):\n",
    "    return np.sqrt((X[0]-Y[0])**2+(X[1]-Y[1])**2);\n",
    "       \n",
    "        \n",
    "def flat_list(some_list):\n",
    "    # turns a list of lists into a single flat list\n",
    "    elements=[]\n",
    "    for item in some_list:\n",
    "        if type(item) == type([]):\n",
    "            elements += flat_list(item)\n",
    "        else:\n",
    "            elements.append(item)\n",
    "    return elements\n",
    "        \n",
    "def draw_trial(trial):\n",
    "    box=trial['Box'];\n",
    "    fig=plt.figure;\n",
    "    plt.plot([box[0],box[0],box[1],box[1],box[0]],[box[3],box[2],box[2],box[3],box[3]],'b')\n",
    "    for circle in trial['Circles']:\n",
    "        plt.plot(circle[0],circle[1],'og')    \n",
    "    for cross in trial['Crosses']:\n",
    "        plt.plot(cross[0],cross[1],'xk')                \n",
    "    plt.show()\n",
    "    plt.ylim([0,972]);\n",
    "    plt.xlim([0,972]);\n",
    "    \n",
    "def plot_inner_histo(histo_inside):\n",
    "    fig=plt.figure();      \n",
    "    plt.pcolor(histo_inside,cmap='Greys')     \n",
    "    plt.colorbar();    \n",
    "    plt.plot([0,3,3,0,0],[0,0,3,3,0],'b')\n",
    "    plt.xlim([-0.5,3.5])\n",
    "    plt.ylim([-0.5,3.5])\n",
    "    plt.tick_params(bottom=False,top=False,left=False,right=False,labelbottom=False,labelleft=False)    \n",
    "    plt.show()\n",
    "    \n",
    "    \n",
    "    \n",
    "def plot_outer_histo(histo_outside):\n",
    "    fig=plt.figure();\n",
    "    plt.title('')\n",
    "    plt.pcolor(histo_outside,cmap='Greys')\n",
    "    plt.colorbar();\n",
    "    plt.plot([0,1,1,0,0],[0,0,1,1,0],'b')\n",
    "    plt.xlim([-0.03,4])\n",
    "    plt.ylim([-0.01,4])    \n",
    "    plt.tick_params(bottom=False,top=False,left=False,right=False,labelbottom=False,labelleft=False)\n",
    "    plt.show()\n",
    "    "
   ]
  },
  {
   "cell_type": "markdown",
   "metadata": {},
   "source": [
    "## DISTANCIAS A LAS ESQUINAS"
   ]
  },
  {
   "cell_type": "markdown",
   "metadata": {},
   "source": [
    "Rol=Learners;\n",
    "\n",
    "Edades=[];\n",
    "for subject in Rol:\n",
    "    Edades.append(subject['age']);\n",
    "Edades=np.sort(Edades);\n",
    "\n",
    "mx=0;\n",
    "i=0;\n",
    "n_trials=[];\n",
    "fig=plt.figure();\n",
    "Edades=12;\n",
    "for e in np.unique(Edades):\n",
    "    D=[];\n",
    "    N=0;\n",
    "    for subject in Rol:     \n",
    "        if (subject['understood'] and subject['age']==e and len(subject['trials'])>2):\n",
    "            n_trials.append(len(subject['trials']));\n",
    "            N=N+1;\n",
    "            #dists=distance_to_corner(subject);\n",
    "            dists=distance_to_box(subject);\n",
    "            #ind_hist=plt.hist(dists);\n",
    "            #norm_hist = [n/sum(ind_hist[0]) for n in ind_hist[0]];            \n",
    "            \n",
    "            dists[:] = [x / 972 for x in dists];\n",
    "            D.append(dists);            \n",
    "            print(subject['Id'])\n",
    "            [inner,outer]=individual_histogram(subject);               \n",
    "            plot_inner_histo(inner);\n",
    "            plot_outer_histo(outer);  \n",
    "            fig=plt.figure();  \n",
    "            print(\"distance to box\")\n",
    "            plt.hist(dists);\n",
    "            plt.show();\n",
    "            \n",
    "                                    \n",
    "    '''\n",
    "    D=flat_list(D);\n",
    "    mx=max(mx,max(D));            \n",
    "    i=i+1;    \n",
    "    plt.figure;\n",
    "    plt.hist(D)    ;\n",
    "    plt.title('Edad='+str(e)+' N='+str(N));    \n",
    "    plt.xlabel('Distance to corner')\n",
    "    plt.ylabel('Number of examples')    \n",
    "    plt.xlim([0,1000])         \n",
    "    #fig.savefig('Distance_to_corner_Edad_'+str(e)+'_teachers', bbox_inches='tight')\n",
    "    plt.show();\n",
    "    '''\n",
    "            "
   ]
  },
  {
   "cell_type": "code",
   "execution_count": 5,
   "metadata": {},
   "outputs": [
    {
     "name": "stdout",
     "output_type": "stream",
     "text": [
      "53\n",
      "5 5 2\n",
      "6 6 4\n",
      "7 7 3\n",
      "8 3 1\n",
      "9 6 3\n",
      "10 6 2\n",
      "11 4 1\n",
      "12 2 1\n",
      "13 1 1\n",
      "14 1 1\n",
      "16 1 1\n",
      "18 2 2\n",
      "20 1 0\n",
      "32 1 1\n",
      "40 2 1\n",
      "41 1 0\n",
      "42 1 0\n",
      "44 1 1\n",
      "49 1 0\n",
      "57 1 1\n"
     ]
    }
   ],
   "source": [
    "\n",
    "Edades=[];\n",
    "G=[];\n",
    "Rol=Teachers;\n",
    "for subject in Rol:\n",
    "    Edades.append(subject['age']);    \n",
    "    \n",
    "Edades=np.sort(Edades);\n",
    "unique_elements, counts_elements = np.unique(Edades, return_counts=True)\n",
    "\n",
    "n_F=[];\n",
    "for e in unique_elements:\n",
    "    n=0;\n",
    "    for subject in Rol:        \n",
    "        if subject['age']==e and subject['gender']=='F':\n",
    "            n+=1;\n",
    "    n_F.append(n);\n",
    "\n",
    "print(len(Rol))\n",
    "\n",
    "for i in range(0,len(unique_elements)):\n",
    "    print(unique_elements[i],counts_elements[i],n_F[i])\n",
    "\n",
    "\n"
   ]
  },
  {
   "cell_type": "code",
   "execution_count": 9,
   "metadata": {},
   "outputs": [
    {
     "name": "stdout",
     "output_type": "stream",
     "text": [
      "4\n",
      "41\n",
      "85\n",
      "26\n",
      "96\n",
      "76\n",
      "91\n",
      "31\n",
      "107\n",
      "20\n",
      "25\n",
      "99\n",
      "70\n",
      "89\n",
      "84\n",
      "80\n",
      "34\n",
      "51\n",
      "1\n",
      "46\n",
      "110\n",
      "65\n",
      "64\n",
      "66\n",
      "75\n",
      "55\n",
      "39\n",
      "104\n",
      "82\n",
      "3\n",
      "11\n",
      "303\n",
      "249\n",
      "48\n",
      "43\n",
      "275\n",
      "212\n",
      "251\n",
      "291\n",
      "301\n",
      "33\n",
      "247\n",
      "201\n",
      "278\n",
      "44\n",
      "304\n",
      "279\n",
      "220\n",
      "236\n",
      "286\n",
      "239\n",
      "285\n",
      "259\n"
     ]
    }
   ],
   "source": [
    "for t in Teachers:\n",
    "    print(t['Id'])"
   ]
  },
  {
   "cell_type": "markdown",
   "metadata": {},
   "source": [
    "##  HISTOGRAMAS COMO EN EL PAPER"
   ]
  },
  {
   "cell_type": "code",
   "execution_count": 11,
   "metadata": {
    "scrolled": true
   },
   "outputs": [
    {
     "name": "stdout",
     "output_type": "stream",
     "text": [
      "5\n",
      "[1, 3, 107, 301, 303]\n",
      "Edades: 5 N: 5\n"
     ]
    },
    {
     "data": {
      "text/plain": [
       "<matplotlib.figure.Figure at 0x7f453ed1a048>"
      ]
     },
     "metadata": {},
     "output_type": "display_data"
    },
    {
     "data": {
      "text/plain": [
       "<matplotlib.figure.Figure at 0x7f453ed0de48>"
      ]
     },
     "metadata": {},
     "output_type": "display_data"
    },
    {
     "data": {
      "image/png": "[encoded data removed]",
      "text/plain": [
       "<matplotlib.figure.Figure at 0x7f453ea382e8>"
      ]
     },
     "metadata": {},
     "output_type": "display_data"
    },
    {
     "data": {
      "text/plain": [
       "<matplotlib.figure.Figure at 0x7f453e897ef0>"
      ]
     },
     "metadata": {},
     "output_type": "display_data"
    },
    {
     "data": {
      "image/png": "[encoded data removed]",
      "text/plain": [
       "<matplotlib.figure.Figure at 0x7f453e8720f0>"
      ]
     },
     "metadata": {},
     "output_type": "display_data"
    },
    {
     "name": "stdout",
     "output_type": "stream",
     "text": [
      "6\n",
      "[41, 51, 75, 80, 239, 251]\n",
      "Edades: 6 N: 6\n"
     ]
    },
    {
     "data": {
      "text/plain": [
       "<matplotlib.figure.Figure at 0x7f453ebd3438>"
      ]
     },
     "metadata": {},
     "output_type": "display_data"
    },
    {
     "data": {
      "text/plain": [
       "<matplotlib.figure.Figure at 0x7f453e7eb160>"
      ]
     },
     "metadata": {},
     "output_type": "display_data"
    },
    {
     "data": {
      "image/png": "[encoded data removed]",
      "text/plain": [
       "<matplotlib.figure.Figure at 0x7f453e79e940>"
      ]
     },
     "metadata": {},
     "output_type": "display_data"
    },
    {
     "data": {
      "text/plain": [
       "<matplotlib.figure.Figure at 0x7f453eb04f98>"
      ]
     },
     "metadata": {},
     "output_type": "display_data"
    },
    {
     "data": {
      "image/png": "[encoded data removed]",
      "text/plain": [
       "<matplotlib.figure.Figure at 0x7f453edcc5f8>"
      ]
     },
     "metadata": {},
     "output_type": "display_data"
    },
    {
     "name": "stdout",
     "output_type": "stream",
     "text": [
      "7\n",
      "[26, 39, 55, 96, 104, 236, 279]\n",
      "Edades: 7 N: 7\n"
     ]
    },
    {
     "data": {
      "text/plain": [
       "<matplotlib.figure.Figure at 0x7f453eaaf128>"
      ]
     },
     "metadata": {},
     "output_type": "display_data"
    },
    {
     "data": {
      "text/plain": [
       "<matplotlib.figure.Figure at 0x7f45427f80b8>"
      ]
     },
     "metadata": {},
     "output_type": "display_data"
    },
    {
     "data": {
      "image/png": "[encoded data removed]",
      "text/plain": [
       "<matplotlib.figure.Figure at 0x7f453eaaf978>"
      ]
     },
     "metadata": {},
     "output_type": "display_data"
    },
    {
     "data": {
      "text/plain": [
       "<matplotlib.figure.Figure at 0x7f453e9d5828>"
      ]
     },
     "metadata": {},
     "output_type": "display_data"
    },
    {
     "data": {
      "image/png": "[encoded data removed]",
      "text/plain": [
       "<matplotlib.figure.Figure at 0x7f453e87c240>"
      ]
     },
     "metadata": {},
     "output_type": "display_data"
    },
    {
     "name": "stdout",
     "output_type": "stream",
     "text": [
      "8\n",
      "[66, 99, 259]\n",
      "Edades: 8 N: 3\n"
     ]
    },
    {
     "data": {
      "text/plain": [
       "<matplotlib.figure.Figure at 0x7f453ec19c50>"
      ]
     },
     "metadata": {},
     "output_type": "display_data"
    },
    {
     "data": {
      "text/plain": [
       "<matplotlib.figure.Figure at 0x7f453ed1d128>"
      ]
     },
     "metadata": {},
     "output_type": "display_data"
    },
    {
     "data": {
      "image/png": "[encoded data removed]",
      "text/plain": [
       "<matplotlib.figure.Figure at 0x7f453e9c5f60>"
      ]
     },
     "metadata": {},
     "output_type": "display_data"
    },
    {
     "data": {
      "text/plain": [
       "<matplotlib.figure.Figure at 0x7f453ed6a208>"
      ]
     },
     "metadata": {},
     "output_type": "display_data"
    },
    {
     "data": {
      "image/png": "[encoded data removed]",
      "text/plain": [
       "<matplotlib.figure.Figure at 0x7f453eb47a20>"
      ]
     },
     "metadata": {},
     "output_type": "display_data"
    },
    {
     "name": "stdout",
     "output_type": "stream",
     "text": [
      "9\n",
      "[4, 46, 65, 220, 247, 278]\n",
      "Edades: 9 N: 6\n"
     ]
    },
    {
     "data": {
      "text/plain": [
       "<matplotlib.figure.Figure at 0x7f453e96c908>"
      ]
     },
     "metadata": {},
     "output_type": "display_data"
    },
    {
     "data": {
      "text/plain": [
       "<matplotlib.figure.Figure at 0x7f453e8ed400>"
      ]
     },
     "metadata": {},
     "output_type": "display_data"
    },
    {
     "data": {
      "image/png": "[encoded data removed]",
      "text/plain": [
       "<matplotlib.figure.Figure at 0x7f453e96c978>"
      ]
     },
     "metadata": {},
     "output_type": "display_data"
    },
    {
     "data": {
      "text/plain": [
       "<matplotlib.figure.Figure at 0x7f453e8e28d0>"
      ]
     },
     "metadata": {},
     "output_type": "display_data"
    },
    {
     "data": {
      "image/png": "[encoded data removed]",
      "text/plain": [
       "<matplotlib.figure.Figure at 0x7f454229ad68>"
      ]
     },
     "metadata": {},
     "output_type": "display_data"
    },
    {
     "name": "stdout",
     "output_type": "stream",
     "text": [
      "10\n",
      "[11, 70, 76, 275, 285, 286]\n",
      "Edades: 10 N: 6\n"
     ]
    },
    {
     "data": {
      "text/plain": [
       "<matplotlib.figure.Figure at 0x7f453ed62d68>"
      ]
     },
     "metadata": {},
     "output_type": "display_data"
    },
    {
     "data": {
      "text/plain": [
       "<matplotlib.figure.Figure at 0x7f453e72b9e8>"
      ]
     },
     "metadata": {},
     "output_type": "display_data"
    },
    {
     "data": {
      "image/png": "[encoded data removed]",
      "text/plain": [
       "<matplotlib.figure.Figure at 0x7f453e82e828>"
      ]
     },
     "metadata": {},
     "output_type": "display_data"
    },
    {
     "data": {
      "text/plain": [
       "<matplotlib.figure.Figure at 0x7f453ea37048>"
      ]
     },
     "metadata": {},
     "output_type": "display_data"
    },
    {
     "data": {
      "image/png": "[encoded data removed]",
      "text/plain": [
       "<matplotlib.figure.Figure at 0x7f453e8faba8>"
      ]
     },
     "metadata": {},
     "output_type": "display_data"
    },
    {
     "name": "stdout",
     "output_type": "stream",
     "text": [
      "11\n",
      "[84, 85, 110, 249]\n",
      "Edades: 11 N: 4\n"
     ]
    },
    {
     "data": {
      "text/plain": [
       "<matplotlib.figure.Figure at 0x7f453eb33908>"
      ]
     },
     "metadata": {},
     "output_type": "display_data"
    },
    {
     "data": {
      "text/plain": [
       "<matplotlib.figure.Figure at 0x7f453eb5d4a8>"
      ]
     },
     "metadata": {},
     "output_type": "display_data"
    },
    {
     "data": {
      "image/png": "[encoded data removed]",
      "text/plain": [
       "<matplotlib.figure.Figure at 0x7f453e85e1d0>"
      ]
     },
     "metadata": {},
     "output_type": "display_data"
    },
    {
     "data": {
      "text/plain": [
       "<matplotlib.figure.Figure at 0x7f453edf6550>"
      ]
     },
     "metadata": {},
     "output_type": "display_data"
    },
    {
     "data": {
      "image/png": "[encoded data removed]",
      "text/plain": [
       "<matplotlib.figure.Figure at 0x7f453cef6278>"
      ]
     },
     "metadata": {},
     "output_type": "display_data"
    },
    {
     "name": "stdout",
     "output_type": "stream",
     "text": [
      "12\n",
      "[91, 291]\n",
      "Edades: 12 N: 2\n"
     ]
    },
    {
     "data": {
      "text/plain": [
       "<matplotlib.figure.Figure at 0x7f453ecc9940>"
      ]
     },
     "metadata": {},
     "output_type": "display_data"
    },
    {
     "data": {
      "text/plain": [
       "<matplotlib.figure.Figure at 0x7f453ecc9e80>"
      ]
     },
     "metadata": {},
     "output_type": "display_data"
    },
    {
     "data": {
      "image/png": "[encoded data removed]",
      "text/plain": [
       "<matplotlib.figure.Figure at 0x7f453edf67f0>"
      ]
     },
     "metadata": {},
     "output_type": "display_data"
    },
    {
     "data": {
      "text/plain": [
       "<matplotlib.figure.Figure at 0x7f453e8fd9e8>"
      ]
     },
     "metadata": {},
     "output_type": "display_data"
    },
    {
     "data": {
      "image/png": "[encoded data removed]",
      "text/plain": [
       "<matplotlib.figure.Figure at 0x7f453ed3ec18>"
      ]
     },
     "metadata": {},
     "output_type": "display_data"
    },
    {
     "name": "stdout",
     "output_type": "stream",
     "text": [
      "13\n",
      "[304]\n",
      "Edades: 13 N: 1\n"
     ]
    },
    {
     "data": {
      "text/plain": [
       "<matplotlib.figure.Figure at 0x7f453eba1f98>"
      ]
     },
     "metadata": {},
     "output_type": "display_data"
    },
    {
     "data": {
      "text/plain": [
       "<matplotlib.figure.Figure at 0x7f453e772710>"
      ]
     },
     "metadata": {},
     "output_type": "display_data"
    },
    {
     "data": {
      "image/png": "[encoded data removed]",
      "text/plain": [
       "<matplotlib.figure.Figure at 0x7f454283e748>"
      ]
     },
     "metadata": {},
     "output_type": "display_data"
    },
    {
     "data": {
      "text/plain": [
       "<matplotlib.figure.Figure at 0x7f453ebcd5f8>"
      ]
     },
     "metadata": {},
     "output_type": "display_data"
    },
    {
     "data": {
      "image/png": "[encoded data removed]",
      "text/plain": [
       "<matplotlib.figure.Figure at 0x7f453eb23630>"
      ]
     },
     "metadata": {},
     "output_type": "display_data"
    },
    {
     "name": "stdout",
     "output_type": "stream",
     "text": [
      "14\n",
      "[64]\n",
      "Edades: 14 N: 1\n"
     ]
    },
    {
     "data": {
      "text/plain": [
       "<matplotlib.figure.Figure at 0x7f453e804a58>"
      ]
     },
     "metadata": {},
     "output_type": "display_data"
    },
    {
     "data": {
      "text/plain": [
       "<matplotlib.figure.Figure at 0x7f453eb3c438>"
      ]
     },
     "metadata": {},
     "output_type": "display_data"
    },
    {
     "data": {
      "image/png": "[encoded data removed]",
      "text/plain": [
       "<matplotlib.figure.Figure at 0x7f453e804668>"
      ]
     },
     "metadata": {},
     "output_type": "display_data"
    },
    {
     "data": {
      "text/plain": [
       "<matplotlib.figure.Figure at 0x7f453edc6390>"
      ]
     },
     "metadata": {},
     "output_type": "display_data"
    },
    {
     "data": {
      "image/png": "[encoded data removed]",
      "text/plain": [
       "<matplotlib.figure.Figure at 0x7f453edaa908>"
      ]
     },
     "metadata": {},
     "output_type": "display_data"
    },
    {
     "name": "stdout",
     "output_type": "stream",
     "text": [
      "16\n",
      "[212]\n",
      "Edades: 16 N: 1\n"
     ]
    },
    {
     "name": "stderr",
     "output_type": "stream",
     "text": [
      "/home/ahaimovici/anaconda3/lib/python3.6/site-packages/ipykernel_launcher.py:42: RuntimeWarning: invalid value encountered in true_divide\n"
     ]
    },
    {
     "data": {
      "text/plain": [
       "<matplotlib.figure.Figure at 0x7f453ed8a588>"
      ]
     },
     "metadata": {},
     "output_type": "display_data"
    },
    {
     "data": {
      "text/plain": [
       "<matplotlib.figure.Figure at 0x7f453e802ef0>"
      ]
     },
     "metadata": {},
     "output_type": "display_data"
    },
    {
     "name": "stderr",
     "output_type": "stream",
     "text": [
      "/home/ahaimovici/anaconda3/lib/python3.6/site-packages/matplotlib/colors.py:496: RuntimeWarning: invalid value encountered in less\n",
      "  cbook._putmask(xa, xa < 0.0, -1)\n"
     ]
    },
    {
     "data": {
      "image/png": "[encoded data removed]",
      "text/plain": [
       "<matplotlib.figure.Figure at 0x7f453eb57c88>"
      ]
     },
     "metadata": {},
     "output_type": "display_data"
    },
    {
     "data": {
      "text/plain": [
       "<matplotlib.figure.Figure at 0x7f4542154f28>"
      ]
     },
     "metadata": {},
     "output_type": "display_data"
    },
    {
     "data": {
      "image/png": "[encoded data removed]",
      "text/plain": [
       "<matplotlib.figure.Figure at 0x7f453eda9048>"
      ]
     },
     "metadata": {},
     "output_type": "display_data"
    },
    {
     "name": "stdout",
     "output_type": "stream",
     "text": [
      "18\n",
      "[31, 82]\n",
      "Edades: 18 N: 2\n"
     ]
    },
    {
     "data": {
      "text/plain": [
       "<matplotlib.figure.Figure at 0x7f453e939208>"
      ]
     },
     "metadata": {},
     "output_type": "display_data"
    },
    {
     "data": {
      "text/plain": [
       "<matplotlib.figure.Figure at 0x7f453ebffe80>"
      ]
     },
     "metadata": {},
     "output_type": "display_data"
    },
    {
     "data": {
      "image/png": "[encoded data removed]",
      "text/plain": [
       "<matplotlib.figure.Figure at 0x7f453e939b38>"
      ]
     },
     "metadata": {},
     "output_type": "display_data"
    },
    {
     "data": {
      "text/plain": [
       "<matplotlib.figure.Figure at 0x7f453ed1b7b8>"
      ]
     },
     "metadata": {},
     "output_type": "display_data"
    },
    {
     "data": {
      "image/png": "[encoded data removed]",
      "text/plain": [
       "<matplotlib.figure.Figure at 0x7f453ec4a240>"
      ]
     },
     "metadata": {},
     "output_type": "display_data"
    },
    {
     "name": "stdout",
     "output_type": "stream",
     "text": [
      "20\n",
      "[34]\n",
      "Edades: 20 N: 1\n"
     ]
    },
    {
     "data": {
      "text/plain": [
       "<matplotlib.figure.Figure at 0x7f453eb773c8>"
      ]
     },
     "metadata": {},
     "output_type": "display_data"
    },
    {
     "data": {
      "text/plain": [
       "<matplotlib.figure.Figure at 0x7f453e7533c8>"
      ]
     },
     "metadata": {},
     "output_type": "display_data"
    },
    {
     "data": {
      "image/png": "[encoded data removed]",
      "text/plain": [
       "<matplotlib.figure.Figure at 0x7f453ec44a58>"
      ]
     },
     "metadata": {},
     "output_type": "display_data"
    },
    {
     "data": {
      "text/plain": [
       "<matplotlib.figure.Figure at 0x7f453eaecd30>"
      ]
     },
     "metadata": {},
     "output_type": "display_data"
    },
    {
     "data": {
      "image/png": "[encoded data removed]",
      "text/plain": [
       "<matplotlib.figure.Figure at 0x7f453ebc4a20>"
      ]
     },
     "metadata": {},
     "output_type": "display_data"
    },
    {
     "name": "stdout",
     "output_type": "stream",
     "text": [
      "32\n",
      "[20]\n",
      "Edades: 32 N: 1\n"
     ]
    },
    {
     "data": {
      "text/plain": [
       "<matplotlib.figure.Figure at 0x7f453ed5b6a0>"
      ]
     },
     "metadata": {},
     "output_type": "display_data"
    },
    {
     "data": {
      "text/plain": [
       "<matplotlib.figure.Figure at 0x7f453ed25550>"
      ]
     },
     "metadata": {},
     "output_type": "display_data"
    },
    {
     "data": {
      "image/png": "[encoded data removed]",
      "text/plain": [
       "<matplotlib.figure.Figure at 0x7f453ed5b0f0>"
      ]
     },
     "metadata": {},
     "output_type": "display_data"
    },
    {
     "data": {
      "text/plain": [
       "<matplotlib.figure.Figure at 0x7f453ebe14e0>"
      ]
     },
     "metadata": {},
     "output_type": "display_data"
    },
    {
     "data": {
      "image/png": "[encoded data removed]",
      "text/plain": [
       "<matplotlib.figure.Figure at 0x7f453e965438>"
      ]
     },
     "metadata": {},
     "output_type": "display_data"
    },
    {
     "name": "stdout",
     "output_type": "stream",
     "text": [
      "40\n",
      "[43, 201]\n",
      "Edades: 40 N: 2\n"
     ]
    },
    {
     "data": {
      "text/plain": [
       "<matplotlib.figure.Figure at 0x7f453ed08cf8>"
      ]
     },
     "metadata": {},
     "output_type": "display_data"
    },
    {
     "data": {
      "text/plain": [
       "<matplotlib.figure.Figure at 0x7f453eada9e8>"
      ]
     },
     "metadata": {},
     "output_type": "display_data"
    },
    {
     "data": {
      "image/png": "[encoded data removed]",
      "text/plain": [
       "<matplotlib.figure.Figure at 0x7f453ed08d30>"
      ]
     },
     "metadata": {},
     "output_type": "display_data"
    },
    {
     "data": {
      "text/plain": [
       "<matplotlib.figure.Figure at 0x7f453eb3ce10>"
      ]
     },
     "metadata": {},
     "output_type": "display_data"
    },
    {
     "data": {
      "image/png": "[encoded data removed]",
      "text/plain": [
       "<matplotlib.figure.Figure at 0x7f453eb5cac8>"
      ]
     },
     "metadata": {},
     "output_type": "display_data"
    },
    {
     "name": "stdout",
     "output_type": "stream",
     "text": [
      "41\n",
      "[25]\n",
      "Edades: 41 N: 1\n"
     ]
    },
    {
     "data": {
      "text/plain": [
       "<matplotlib.figure.Figure at 0x7f453e8d2a90>"
      ]
     },
     "metadata": {},
     "output_type": "display_data"
    },
    {
     "data": {
      "text/plain": [
       "<matplotlib.figure.Figure at 0x7f453e8a2da0>"
      ]
     },
     "metadata": {},
     "output_type": "display_data"
    },
    {
     "data": {
      "image/png": "[encoded data removed]",
      "text/plain": [
       "<matplotlib.figure.Figure at 0x7f453e8bfcc0>"
      ]
     },
     "metadata": {},
     "output_type": "display_data"
    },
    {
     "data": {
      "text/plain": [
       "<matplotlib.figure.Figure at 0x7f453e8a8e80>"
      ]
     },
     "metadata": {},
     "output_type": "display_data"
    },
    {
     "data": {
      "image/png": "[encoded data removed]",
      "text/plain": [
       "<matplotlib.figure.Figure at 0x7f453e8a2a20>"
      ]
     },
     "metadata": {},
     "output_type": "display_data"
    },
    {
     "name": "stdout",
     "output_type": "stream",
     "text": [
      "42\n",
      "[48]\n",
      "Edades: 42 N: 1\n"
     ]
    },
    {
     "data": {
      "text/plain": [
       "<matplotlib.figure.Figure at 0x7f453eacad68>"
      ]
     },
     "metadata": {},
     "output_type": "display_data"
    },
    {
     "data": {
      "text/plain": [
       "<matplotlib.figure.Figure at 0x7f453ebc7b00>"
      ]
     },
     "metadata": {},
     "output_type": "display_data"
    },
    {
     "data": {
      "image/png": "[encoded data removed]",
      "text/plain": [
       "<matplotlib.figure.Figure at 0x7f453e72b470>"
      ]
     },
     "metadata": {},
     "output_type": "display_data"
    },
    {
     "data": {
      "text/plain": [
       "<matplotlib.figure.Figure at 0x7f453ed7a400>"
      ]
     },
     "metadata": {},
     "output_type": "display_data"
    },
    {
     "data": {
      "image/png": "[encoded data removed]",
      "text/plain": [
       "<matplotlib.figure.Figure at 0x7f453ed96b00>"
      ]
     },
     "metadata": {},
     "output_type": "display_data"
    },
    {
     "name": "stdout",
     "output_type": "stream",
     "text": [
      "44\n",
      "[44]\n",
      "Edades: 44 N: 1\n"
     ]
    },
    {
     "data": {
      "text/plain": [
       "<matplotlib.figure.Figure at 0x7f453e9b3c88>"
      ]
     },
     "metadata": {},
     "output_type": "display_data"
    },
    {
     "data": {
      "text/plain": [
       "<matplotlib.figure.Figure at 0x7f453e9d0a58>"
      ]
     },
     "metadata": {},
     "output_type": "display_data"
    },
    {
     "data": {
      "image/png": "[encoded data removed]",
      "text/plain": [
       "<matplotlib.figure.Figure at 0x7f453e9c17b8>"
      ]
     },
     "metadata": {},
     "output_type": "display_data"
    },
    {
     "data": {
      "text/plain": [
       "<matplotlib.figure.Figure at 0x7f453e8461d0>"
      ]
     },
     "metadata": {},
     "output_type": "display_data"
    },
    {
     "data": {
      "image/png": "[encoded data removed]",
      "text/plain": [
       "<matplotlib.figure.Figure at 0x7f453e971400>"
      ]
     },
     "metadata": {},
     "output_type": "display_data"
    },
    {
     "name": "stdout",
     "output_type": "stream",
     "text": [
      "49\n",
      "[89]\n",
      "Edades: 49 N: 1\n"
     ]
    },
    {
     "data": {
      "text/plain": [
       "<matplotlib.figure.Figure at 0x7f453e970ac8>"
      ]
     },
     "metadata": {},
     "output_type": "display_data"
    },
    {
     "data": {
      "text/plain": [
       "<matplotlib.figure.Figure at 0x7f453eb74be0>"
      ]
     },
     "metadata": {},
     "output_type": "display_data"
    },
    {
     "data": {
      "image/png": "[encoded data removed]",
      "text/plain": [
       "<matplotlib.figure.Figure at 0x7f453e9706a0>"
      ]
     },
     "metadata": {},
     "output_type": "display_data"
    },
    {
     "data": {
      "text/plain": [
       "<matplotlib.figure.Figure at 0x7f453ebc4ef0>"
      ]
     },
     "metadata": {},
     "output_type": "display_data"
    },
    {
     "data": {
      "image/png": "[encoded data removed]",
      "text/plain": [
       "<matplotlib.figure.Figure at 0x7f4542282da0>"
      ]
     },
     "metadata": {},
     "output_type": "display_data"
    },
    {
     "name": "stdout",
     "output_type": "stream",
     "text": [
      "57\n",
      "[33]\n",
      "Edades: 57 N: 1\n"
     ]
    },
    {
     "name": "stderr",
     "output_type": "stream",
     "text": [
      "/home/ahaimovici/anaconda3/lib/python3.6/site-packages/ipykernel_launcher.py:43: RuntimeWarning: invalid value encountered in true_divide\n"
     ]
    },
    {
     "data": {
      "text/plain": [
       "<matplotlib.figure.Figure at 0x7f453ed9d668>"
      ]
     },
     "metadata": {},
     "output_type": "display_data"
    },
    {
     "data": {
      "text/plain": [
       "<matplotlib.figure.Figure at 0x7f453e8c2908>"
      ]
     },
     "metadata": {},
     "output_type": "display_data"
    },
    {
     "data": {
      "image/png": "[encoded data removed]",
      "text/plain": [
       "<matplotlib.figure.Figure at 0x7f45427f8f98>"
      ]
     },
     "metadata": {},
     "output_type": "display_data"
    },
    {
     "data": {
      "text/plain": [
       "<matplotlib.figure.Figure at 0x7f453ea490b8>"
      ]
     },
     "metadata": {},
     "output_type": "display_data"
    },
    {
     "data": {
      "image/png": "[encoded data removed]",
      "text/plain": [
       "<matplotlib.figure.Figure at 0x7f453e8b7cc0>"
      ]
     },
     "metadata": {},
     "output_type": "display_data"
    }
   ],
   "source": [
    "\n",
    "#Rol=Teachers;\n",
    "#rol='teachers';\n",
    "\n",
    "Rol=Learners;\n",
    "rol='learners';\n",
    "\n",
    "Edades=[];\n",
    "for subject in Rol:\n",
    "    Edades.append(subject['age']);\n",
    "Edades=np.sort(Edades);\n",
    "\n",
    "#Edades=[[5,6],[7,8],[9,10],[11,12],range(13,99)]\n",
    "\n",
    "\n",
    "for e in np.unique(Edades):\n",
    "    print(e)\n",
    "    N=0;    \n",
    "    n_i=0;\n",
    "    n_o=0;\n",
    "    histo_inside=np.zeros([3,3]);\n",
    "    histo_outside=np.zeros([4,4]);\n",
    "    Id=[];\n",
    "    for subject in Rol:                  \n",
    "        if (subject['understood'] and subject['age'] == e):\n",
    "        #if (subject['understood'] and subject['age'] in e):\n",
    "            N=N+1;\n",
    "            Id.append(subject['Id']);\n",
    "            [inner,outer]=individual_histogram(subject);    \n",
    "            if np.sum(inner)>0:\n",
    "                n_i=n_i+1;\n",
    "                histo_inside=histo_inside+inner/np.sum(inner);\n",
    "            if np.sum(outer)>0:\n",
    "                n_o=n_o+1;\n",
    "                histo_outside=histo_outside+outer/np.sum(outer);\n",
    "                \n",
    "    \n",
    "    plt.clf();   \n",
    "    fig=plt.figure();\n",
    "    Id.sort();\n",
    "    print(Id)\n",
    "    histo_inside=histo_inside/n_i;    \n",
    "    histo_outside=histo_outside/n_o;    \n",
    "    print('Edades:',e,'N:',N)\n",
    "    fig=plt.figure();      \n",
    "    plt.pcolor(histo_inside,cmap='Greys')     \n",
    "    plt.colorbar();    \n",
    "    plt.plot([0,3,3,0,0],[0,0,3,3,0],'b')\n",
    "    plt.xlim([-0.5,3.5])\n",
    "    plt.ylim([-0.5,3.5])\n",
    "    plt.tick_params(bottom=False,top=False,left=False,right=False,labelbottom=False,labelleft=False)    ;\n",
    "    plt.show()\n",
    "    #fig.savefig('Age_'+str(e)+'_N_'+str(N)+'_circles_'+rol+'.png',bbox_inches='tight');\n",
    "    \n",
    "    \n",
    "    plt.clf();\n",
    "    fig=plt.figure();\n",
    "    plt.title('');\n",
    "    plt.pcolor(histo_outside,cmap='Greys');\n",
    "    plt.colorbar();\n",
    "    plt.plot([0,1,1,0,0],[0,0,1,1,0],'b')\n",
    "    plt.xlim([-0.03,4])\n",
    "    plt.ylim([-0.01,4])    \n",
    "    plt.tick_params(bottom=False,top=False,left=False,right=False,labelbottom=False,labelleft=False);\n",
    "    plt.show()\n",
    "    \n",
    "    #fig.savefig('Age_'+str(e)+'_N_'+str(N)+'_crosses_'+rol+'.png',bbox_inches='tight');\n",
    "        \n",
    "    \n",
    "    \n"
   ]
  },
  {
   "cell_type": "code",
   "execution_count": null,
   "metadata": {},
   "outputs": [],
   "source": [
    "set(Edades)"
   ]
  },
  {
   "cell_type": "markdown",
   "metadata": {},
   "source": [
    "## Corners vs non corners"
   ]
  },
  {
   "cell_type": "code",
   "execution_count": null,
   "metadata": {
    "scrolled": true
   },
   "outputs": [],
   "source": [
    "\n",
    "Rol=Teachers;\n",
    "rol='teachers';\n",
    "\n",
    "#Rol=Learners;\n",
    "#rol='learners';\n",
    "\n",
    "Edades=[];\n",
    "for subject in Rol:\n",
    "    Edades.append(subject['age']);\n",
    "Edades=np.sort(Edades);\n",
    "\n",
    "#for e in np.unique(Edades):\n",
    "for e in np.unique(Edades):\n",
    "    print(e)\n",
    "    N=0;                    \n",
    "    corners_prop=[];\n",
    "    non_corners_prop=[];    \n",
    "    near_prop=[];\n",
    "    middle_prop=[];\n",
    "    far_prop=[];\n",
    "    for subject in Rol:                  \n",
    "        if (subject['understood'] and subject['age'] == e):\n",
    "            N=N+1;\n",
    "            [inner,outer]=individual_histogram(subject);    \n",
    "            if np.sum(inner)>0:\n",
    "                n_i=n_i+1;                \n",
    "                corners=inner[0,0]+inner[0,2]+inner[2,0]+inner[2,2];\n",
    "                non_corners=np.sum(inner)-corners;\n",
    "                corners=corners/(np.sum(inner));\n",
    "                non_corners=non_corners/(np.sum(inner));\n",
    "                corners_prop.append(corners);\n",
    "                non_corners_prop.append(non_corners);\n",
    "            if np.sum(outer)>0:      \n",
    "                near=(outer[0,1]+outer[1,0]+outer[1,1])/np.sum(outer); # near\n",
    "                middle=(outer[0,2]+outer[1,2]+outer[2,2]+outer[2,0]+outer[2,1])/np.sum(outer); # middle\n",
    "                far=1-near-middle;\n",
    "                near_prop.append(near);\n",
    "                middle_prop.append(middle);\n",
    "                far_prop.append(far);\n",
    "                \n",
    "    \n",
    "    # Build the plot\n",
    "    fig, ax = plt.subplots();    \n",
    "    ax.bar([1,2], [np.mean(corners_prop),np.mean(non_corners_prop)], yerr=[np.std(corners_prop)/np.sqrt(len(corners_prop)),np.std(non_corners_prop)/np.sqrt(len(non_corners_prop))], align='center', alpha=0.5,facecolor='black' ,ecolor='black', capsize=10)\n",
    "    ax.set_ylabel('Proportion')\n",
    "    ax.set_xticks([1,2])\n",
    "    ax.set_xticklabels(['Corners','Non-corners'])\n",
    "    ax.set_title(rol)\n",
    "    plt.show()\n",
    "    \n",
    "    fig, ax = plt.subplots();    \n",
    "    ax.bar([1,2,3], [np.mean(near_prop),np.mean(middle_prop),np.mean(far_prop)], yerr=[np.std(near_prop)/np.sqrt(len(near_prop)),np.std(middle_prop)/np.sqrt(len(middle_prop)),np.std(far_prop)/np.sqrt(len(far_prop))], align='center', alpha=0.5,facecolor='black' ,ecolor='black', capsize=10)\n",
    "    ax.set_ylabel('Proportion')\n",
    "    ax.set_xticks([1,2,3])\n",
    "    ax.set_xticklabels(['Near','Middle','Far'])\n",
    "    ax.set_title(rol)\n",
    "    plt.show()\n",
    "        \n",
    "    \n",
    "    \n",
    "    \n",
    "\n",
    "\n",
    "\n",
    "\n",
    "\n"
   ]
  },
  {
   "cell_type": "code",
   "execution_count": null,
   "metadata": {
    "scrolled": true
   },
   "outputs": [],
   "source": [
    "\n",
    "\n",
    "Teachers\n"
   ]
  },
  {
   "cell_type": "code",
   "execution_count": null,
   "metadata": {},
   "outputs": [],
   "source": []
  }
 ],
 "metadata": {
  "kernelspec": {
   "display_name": "Python 3",
   "language": "python",
   "name": "python3"
  },
  "language_info": {
   "codemirror_mode": {
    "name": "ipython",
    "version": 3
   },
   "file_extension": ".py",
   "mimetype": "text/x-python",
   "name": "python",
   "nbconvert_exporter": "python",
   "pygments_lexer": "ipython3",
   "version": "3.6.1"
  }
 },
 "nbformat": 4,
 "nbformat_minor": 2
}
