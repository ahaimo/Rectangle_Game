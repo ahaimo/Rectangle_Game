{
 "cells": [
  {
   "cell_type": "markdown",
   "metadata": {},
   "source": [
    "Open and reshape data"
   ]
  },
  {
   "cell_type": "code",
   "execution_count": 1,
   "metadata": {
    "collapsed": true
   },
   "outputs": [],
   "source": [
    "import pandas as pd\n",
    "import numpy as np\n",
    "import pickle\n",
    "import ipdb\n",
    "from os import listdir\n",
    "import copy\n",
    "\n"
   ]
  },
  {
   "cell_type": "markdown",
   "metadata": {},
   "source": [
    "Ad-hoc information: List of subjects who played the other role before:"
   ]
  },
  {
   "cell_type": "code",
   "execution_count": null,
   "metadata": {
    "collapsed": true
   },
   "outputs": [],
   "source": []
  },
  {
   "cell_type": "code",
   "execution_count": 14,
   "metadata": {
    "collapsed": true
   },
   "outputs": [],
   "source": [
    "def learners_data(where,files,name):\n",
    "    Learners=[];\n",
    "    for f in files:\n",
    "        if f[-11:-4]=='learner':\n",
    "            df = pd.read_csv(where+f, delimiter=',');\n",
    "            tuples = [tuple(x) for x in df.values]\n",
    "            dicts = df.to_dict().values()\n",
    "            subject={};\n",
    "            if name=='Id':\n",
    "                subject['Id']=int(tuples[0][6][0:tuples[0][6].index('-')]);\n",
    "                subject['age']=int(tuples[0][6][tuples[0][6].index('-')+1:]); \n",
    "                subject['gender']=f[f.index('_')-1:f.index('_')];\n",
    "            else:\n",
    "                subject['age']=int(tuples[0][6][0:tuples[0][6].index('-')]);\n",
    "                subject['Id']=int(tuples[0][6][tuples[0][6].index('-')+1:]);\n",
    "                if subject['Id'] in Id:\n",
    "                    subject['gender']=genders[Id.index(subject['Id'])][0];    \n",
    "                else:\n",
    "                    subject['gender']=[];\n",
    "                    print(str(subject['Id'])+' no encontrado en la planilla')\n",
    "            subject['type']='learner';\n",
    "            subject['start_time']=tuples[0][5];                           \n",
    "            if tuples[10][10]==0:\n",
    "                subject['understood']=True;\n",
    "            else:\n",
    "                subject['understood']=False;\n",
    "            subject['trials']=[];    \n",
    "            n_errors=0;\n",
    "            for row in tuples:\n",
    "                if row[1]=='learner' and row[11]==False:\n",
    "                    circles=row[16];\n",
    "                    crosses=row[17];\n",
    "                    circles_list=[];\n",
    "                    crosses_list=[];\n",
    "                    if not(pd.isnull(circles)):           \n",
    "                        circles=circles.split(\",\");            \n",
    "                        for element in circles:                \n",
    "                            if element[0]=='[':\n",
    "                                element=element[1:];\n",
    "                            if element[-1]==']':\n",
    "                                element=element[0:-1];\n",
    "                            circles_list.append(float(element));\n",
    "                        circles_list = list(zip(*[iter(circles_list)] * 2))\n",
    "\n",
    "                    if not(pd.isnull(crosses)):    \n",
    "                        crosses=crosses.split(\",\");            \n",
    "                        for element in crosses:\n",
    "                            if element[0]=='[':\n",
    "                                element=element[1:];\n",
    "                            if element[-1]==']':\n",
    "                                element=element[0:-1];\n",
    "                            crosses_list.append(float(element));\n",
    "                        crosses_list = list(zip(*[iter(crosses_list)] * 2))\n",
    "                    if not(np.any([x<0 for x in row[12:16]])):\n",
    "                        subject['trials'].append({'Circles':circles_list,'Crosses':crosses_list,'rt':row[7],'Box':row[12:16],'Consistent':row[18]})    \n",
    "                        if not(row[18]): # not consistent\n",
    "                            n_errors=n_errors+1;\n",
    "            subject['inconsistent_trials']=n_errors/len(subject['trials']);    \n",
    "            Learners.append(subject);\n",
    "    return Learners;\n",
    "\n",
    "###########################################################################################################    \n",
    "###########################################################################################################\n",
    "###########################################################################################################\n",
    "\n",
    "def teachers_data(where,files,name):\n",
    "    # where: location of files\n",
    "    # files: list of files\n",
    "    # name: format of file names: if name==Id the format is Id-age_*, elif name==age the format is age-Id_*\n",
    "    Teachers=[];\n",
    "    for f in files:  \n",
    "        if f[-11:-4]=='teacher':\n",
    "            df = pd.read_csv(where+f, delimiter=',')\n",
    "            tuples = [tuple(x) for x in df.values]    \n",
    "            subject={};    \n",
    "            if name=='Id':\n",
    "                subject['Id']=int(tuples[0][6][0:tuples[0][6].index('-')]);\n",
    "                subject['age']=int(tuples[0][6][tuples[0][6].index('-')+1:]);                \n",
    "                subject['gender']=f[f.index('_')-1:f.index('_')];\n",
    "            else:            \n",
    "                subject['age']=int(tuples[0][6][0:tuples[0][6].index('-')]);\n",
    "                subject['Id']=int(tuples[0][6][tuples[0][6].index('-')+1:]);                 \n",
    "                if subject['Id'] in Id:\n",
    "                    subject['gender']=genders[Id.index(subject['Id'])][0];    \n",
    "                else:\n",
    "                    subject['gender']=[];\n",
    "                    print(str(subject['Id'])+' no encontrado en la planilla')\n",
    "                \n",
    "            subject['type']='teacher';\n",
    "            subject['start_time']=tuples[0][5];                                  \n",
    "            if tuples[10][10]==0:\n",
    "                subject['understood']=True;\n",
    "            else:\n",
    "                subject['understood']=False;\n",
    "            subject['trials']=[];\n",
    "            for row in tuples:\n",
    "                if row[1]=='teacher' and row[11]==False:        \n",
    "                    circles=row[16];\n",
    "                    crosses=row[17];\n",
    "                    circles_list=[];\n",
    "                    crosses_list=[];\n",
    "                    if not(pd.isnull(circles)):           \n",
    "                        circles=circles.split(\",\");            \n",
    "                        for element in circles:                \n",
    "                            if element[0]=='[':\n",
    "                                element=element[1:];\n",
    "                            if element[-1]==']':\n",
    "                                element=element[0:-1];\n",
    "                            circles_list.append(float(element));\n",
    "                        circles_list = list(zip(*[iter(circles_list)] * 2))\n",
    "\n",
    "                    if not(pd.isnull(crosses)):    \n",
    "                        crosses=crosses.split(\",\");            \n",
    "                        for element in crosses:\n",
    "                            if element[0]=='[':\n",
    "                                element=element[1:];\n",
    "                            if element[-1]==']':\n",
    "                                element=element[0:-1];\n",
    "                            crosses_list.append(float(element));\n",
    "                        crosses_list = list(zip(*[iter(crosses_list)] * 2))                                    \n",
    "                    subject['trials'].append({'Circles':circles_list,'Crosses':crosses_list,'rt':row[7],'Box':row[12:16]})        \n",
    "            Teachers.append(subject)\n",
    "    return Teachers;            "
   ]
  },
  {
   "cell_type": "code",
   "execution_count": 15,
   "metadata": {},
   "outputs": [
    {
     "name": "stdout",
     "output_type": "stream",
     "text": [
      "281 no encontrado en la planilla\n",
      "300 no encontrado en la planilla\n",
      "276 no encontrado en la planilla\n",
      "208 no encontrado en la planilla\n",
      "249 no encontrado en la planilla\n",
      "301 no encontrado en la planilla\n",
      "247 no encontrado en la planilla\n",
      "278 no encontrado en la planilla\n",
      "285 no encontrado en la planilla\n"
     ]
    }
   ],
   "source": [
    "xls = pd.ExcelFile(\"/home/ahaimovici/Documents/Teaching/Rectangle_Game/Data/Individual/Julio_2018/C3-Julio-Final.xlsx\")\n",
    "Hoja1=xls.parse(0);\n",
    "subjects=Hoja1['ID ( Edad + Nº)'];\n",
    "genders=Hoja1['Género'];\n",
    "\n",
    "Id=[];\n",
    "Age=[];\n",
    "for s in subjects:\n",
    "    age_id=s.split();    \n",
    "    Id.append(int(age_id[1]));\n",
    "    Age.append(int(age_id[0]));\n",
    "    \n",
    "\n",
    "\n",
    "where1='/home/ahaimovici/Documents/Teaching/Rectangle_Game/Data/Individual/Junio_2018/Learner/';\n",
    "where2='/home/ahaimovici/Documents/Teaching/Rectangle_Game/Data/Individual/Junio_2018/Teacher/';\n",
    "where3='/home/ahaimovici/Documents/Teaching/Rectangle_Game/Data/Individual/Julio_2018/Learner/';\n",
    "where4='/home/ahaimovici/Documents/Teaching/Rectangle_Game/Data/Individual/Julio_2018/Teacher/';\n",
    "\n",
    "\n",
    "L1=learners_data(where1,listdir(where1),'Id');\n",
    "T1=teachers_data(where2,listdir(where2),'Id');\n",
    "L2=learners_data(where3,listdir(where3),'age');\n",
    "T2=teachers_data(where4,listdir(where4),'age');\n",
    "\n",
    "for l in L2:\n",
    "    L1.append(l)\n",
    "    \n",
    "for t in T2:\n",
    "    T1.append(t)\n"
   ]
  },
  {
   "cell_type": "markdown",
   "metadata": {},
   "source": [
    "##  Save structured data"
   ]
  },
  {
   "cell_type": "code",
   "execution_count": null,
   "metadata": {
    "collapsed": true
   },
   "outputs": [],
   "source": [
    "afile = open(r'/home/ahaimovici/Documents/Teaching/Rectangle_Game/Data/Individual/Teachers.pkl', 'wb')\n",
    "pickle.dump(T1, afile)\n",
    "afile.close()\n",
    "\n",
    "afile = open(r'/home/ahaimovici/Documents/Teaching/Rectangle_Game/Data/Individual/Learners.pkl', 'wb')\n",
    "pickle.dump(L1, afile)\n",
    "afile.close()"
   ]
  },
  {
   "cell_type": "markdown",
   "metadata": {
    "collapsed": true
   },
   "source": [
    "new_Learners=copy.deepcopy(Learners);\n",
    "new_Teachers=copy.deepcopy(Teachers);\n",
    "\n",
    "#reload object from file\n",
    "file2 = open(r'Teachers.pkl', 'rb')\n",
    "Teachers = pickle.load(file2)\n",
    "file2.close()\n",
    "\n",
    "#reload object from file\n",
    "file2 = open(r'Learners.pkl', 'rb')\n",
    "Learners = pickle.load(file2)\n",
    "file2.close()\n",
    "\n",
    "for t in new_Teachers:\n",
    "    Teachers.append(t);\n",
    "\n",
    "for l in new_Learners:\n",
    "    Learners.append(l)\n",
    "\n",
    "\n",
    "\n",
    "#[print(item) for item in Learners if item['Id']==13]"
   ]
  },
  {
   "cell_type": "code",
   "execution_count": null,
   "metadata": {},
   "outputs": [],
   "source": [
    "len(genders)\n",
    "    \n",
    "\n"
   ]
  },
  {
   "cell_type": "code",
   "execution_count": 9,
   "metadata": {},
   "outputs": [
    {
     "data": {
      "text/plain": [
       "False"
      ]
     },
     "execution_count": 9,
     "metadata": {},
     "output_type": "execute_result"
    }
   ],
   "source": [
    "281 in Id"
   ]
  }
 ],
 "metadata": {
  "kernelspec": {
   "display_name": "Python 3",
   "language": "python",
   "name": "python3"
  },
  "language_info": {
   "codemirror_mode": {
    "name": "ipython",
    "version": 3
   },
   "file_extension": ".py",
   "mimetype": "text/x-python",
   "name": "python",
   "nbconvert_exporter": "python",
   "pygments_lexer": "ipython3",
   "version": "3.6.1"
  }
 },
 "nbformat": 4,
 "nbformat_minor": 2
}
