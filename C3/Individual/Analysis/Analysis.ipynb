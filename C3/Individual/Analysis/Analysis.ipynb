{
 "cells": [
  {
   "cell_type": "code",
   "execution_count": 431,
   "metadata": {
    "collapsed": true
   },
   "outputs": [],
   "source": [
    "import numpy as np\n",
    "import ipdb\n",
    "import pandas as pd\n",
    "from scipy import stats\n",
    "from statsmodels.stats.multicomp import pairwise_tukeyhsd\n",
    "from scipy.stats import linregress\n",
    "from copy import deepcopy\n",
    "import matplotlib.ticker as ticker\n",
    "import pickle\n",
    "import matplotlib.pyplot as plt"
   ]
  },
  {
   "cell_type": "markdown",
   "metadata": {},
   "source": [
    "## Load data"
   ]
  },
  {
   "cell_type": "code",
   "execution_count": 40,
   "metadata": {
    "collapsed": true
   },
   "outputs": [],
   "source": [
    "#reload object from file\n",
    "\n",
    "\n",
    "file2 = open(r'/home/ahaimovici/Documents/Teaching/Rectangle_Game/C3/Data/Individual/Teachers.pkl', 'rb')\n",
    "Teachers = pickle.load(file2)\n",
    "file2.close()\n",
    "\n",
    "file2 = open(r'/home/ahaimovici/Documents/Teaching/Rectangle_Game/C3/Data/Individual/Learners.pkl', 'rb')\n",
    "Learners = pickle.load(file2)\n",
    "file2.close()\n"
   ]
  },
  {
   "cell_type": "code",
   "execution_count": 41,
   "metadata": {},
   "outputs": [
    {
     "data": {
      "text/plain": [
       "73"
      ]
     },
     "execution_count": 41,
     "metadata": {},
     "output_type": "execute_result"
    }
   ],
   "source": [
    "for "
   ]
  },
  {
   "cell_type": "markdown",
   "metadata": {},
   "source": [
    "## Check consistency in learners and remove bad trials and bad learners"
   ]
  },
  {
   "cell_type": "code",
   "execution_count": 51,
   "metadata": {
    "collapsed": true
   },
   "outputs": [],
   "source": [
    "file2 = open(r'/home/ahaimovici/Documents/Teaching/Rectangle_Game/C3/Data/Individual/Teachers.pkl', 'rb')\n",
    "Teachers = pickle.load(file2)\n",
    "file2.close()\n",
    "\n",
    "file2 = open(r'/home/ahaimovici/Documents/Teaching/Rectangle_Game/C3/Data/Individual/Learners.pkl', 'rb')\n",
    "Learners = pickle.load(file2)\n",
    "file2.close()\n",
    "\n",
    "\n",
    "New_Learners=[];\n",
    "\n",
    "for subject in Learners:\n",
    "    n_trial=-1;\n",
    "    s1=deepcopy(subject);\n",
    "    New_Learners.append(s1);\n",
    "    New_Learners[len(New_Learners)-1]['trials']=[];\n",
    "    inconsistent_trials=0\n",
    "    for trial in subject['trials']:        \n",
    "        n_trial=n_trial+1;\n",
    "        box=trial['Box'];\n",
    "        consistent=True;\n",
    "        for circle in trial['Circles']:\n",
    "            if not(circle[0]>=box[0] and circle[0]<=box[1] and circle[1]>=box[2] and circle[1]<=box[3]):\n",
    "                consistent=False;\n",
    "        for cross in trial['Crosses']:\n",
    "            if cross[0]>=box[0] and cross[0]<=box[1] and cross[1]>=box[2] and cross[1]<=box[3]:\n",
    "                consistent=False;\n",
    "        if consistent and trial['Consistent']:\n",
    "            New_Learners[len(New_Learners)-1]['trials'].append(trial);        \n",
    "        else:\n",
    "            inconsistent_trials+=1            \n",
    "    s1['inconsistent_trials']=inconsistent_trials/len(subject['trials'])\n",
    "\n",
    "Learners=New_Learners;\n",
    "\n",
    "New_Learners=[];\n",
    "for s in Learners:    \n",
    "    if s['inconsistent_trials']<0.1:\n",
    "        New_Learners.append(s)        \n",
    "Learners=New_Learners;            \n",
    "            \n",
    "    \n",
    "    "
   ]
  },
  {
   "cell_type": "code",
   "execution_count": 54,
   "metadata": {},
   "outputs": [
    {
     "data": {
      "image/png": "[encoded data removed]",
      "text/plain": [
       "<Figure size 432x288 with 1 Axes>"
      ]
     },
     "metadata": {},
     "output_type": "display_data"
    }
   ],
   "source": [
    "# Ages\n",
    "\n",
    "ages=[]\n",
    "for l in Learners:\n",
    "    ages.append(l['age'])\n",
    "\n",
    "plt.hist(ages)\n",
    "plt.show()\n",
    "\n",
    "\n"
   ]
  },
  {
   "cell_type": "code",
   "execution_count": 100,
   "metadata": {},
   "outputs": [
    {
     "name": "stdout",
     "output_type": "stream",
     "text": [
      "9 60 40\n",
      "6 63 37\n",
      "11 50 50\n",
      "7 67 33\n",
      "7 65 35\n",
      "10 0 100\n",
      "12 19 81\n",
      "18 4 96\n",
      "5 1 3\n",
      "32 48 52\n",
      "41 99 1\n",
      "8 71 29\n",
      "10 43 57\n",
      "49 32 68\n",
      "11 48 52\n",
      "6 33 67\n",
      "20 86 14\n",
      "6 57 43\n",
      "5 88 12\n",
      "9 49 51\n",
      "11 55 45\n",
      "9 53 47\n",
      "14 66 34\n",
      "8 62 38\n",
      "6 29 31\n",
      "7 55 45\n",
      "7 48 52\n",
      "7 51 49\n",
      "18 18 82\n",
      "5 57 43\n",
      "10 40 60\n",
      "5 0 100\n",
      "11 32 68\n",
      "42 79 21\n",
      "40 47 53\n",
      "10 13 87\n",
      "16 0 100\n",
      "6 63 37\n",
      "12 50 50\n",
      "5 51 49\n",
      "57 90 0\n",
      "9 29 23\n",
      "40 25 75\n",
      "9 66 34\n",
      "44 22 28\n",
      "13 55 45\n",
      "7 91 9\n",
      "9 48 52\n",
      "7 59 41\n",
      "10 54 46\n",
      "6 18 22\n",
      "10 49 51\n",
      "8 84 16\n",
      "12 2 4\n",
      "13 27 73\n",
      "9 4 6\n",
      "9 88 12\n",
      "10 7 93\n",
      "9 33 67\n",
      "13 57 43\n",
      "7 54 46\n",
      "10 17 13\n"
     ]
    }
   ],
   "source": [
    "for s in Teachers:\n",
    "    ncir=0\n",
    "    ncross=0\n",
    "    for trial in s['trials']:\n",
    "        ncir+=len(trial['Circles'])\n",
    "        ncross+=len(trial['Crosses'])\n",
    "    print(s['age'],ncir,ncross)\n",
    "    \n",
    "    "
   ]
  },
  {
   "cell_type": "code",
   "execution_count": 313,
   "metadata": {
    "collapsed": true
   },
   "outputs": [],
   "source": [
    "\n",
    "\n",
    "def individual_histogram(subject,**kwargs): # as in the paper\n",
    "        \n",
    "    normalize=False\n",
    "    if kwargs is not None:                \n",
    "        if 'normalize' in kwargs.keys():            \n",
    "            normalize=kwargs['normalize']\n",
    "        \n",
    "    \n",
    "    \n",
    "    n_bins=3;\n",
    "    canvas_size=974;\n",
    "    inner_bins=np.zeros([n_bins,n_bins]); \n",
    "    outer_bins=np.zeros([n_bins+1,n_bins+1]);             \n",
    "    n_trial=-1;\n",
    "    for trial in subject['trials']:\n",
    "            n_trial=n_trial+1;\n",
    "            box=trial['Box'];\n",
    "            width=box[1]-box[0];\n",
    "            height=box[3]-box[2];            \n",
    "            for circle in trial['Circles']:\n",
    "                x=circle[0]-box[0];\n",
    "                y=circle[1]-box[2];\n",
    "                x_bin=np.int(np.floor(x/(width/n_bins)));\n",
    "                y_bin=np.int(np.floor(y/(height/n_bins)));\n",
    "                if(x_bin==3):\n",
    "                    x_bin=2;\n",
    "                if(y_bin==3):\n",
    "                    y_bin=2;                \n",
    "                \n",
    "                if normalize:\n",
    "                    inner_bins[x_bin,y_bin ]=inner_bins[x_bin,y_bin]+1/(width*height/n_bins**2); # NORMALIZE PER UNIT AREA\n",
    "                else:\n",
    "                    inner_bins[x_bin,y_bin ]=inner_bins[x_bin,y_bin]+1;    \n",
    "                    \n",
    "            for cross in trial['Crosses']:\n",
    "                if (cross[0]-box[0])<0: #left side\n",
    "                    x=box[0]-cross[0];\n",
    "                    x_bin=np.int(np.floor(x/(box[0]/n_bins)))+1; # bins 1,2 or 3                    \n",
    "                    norm_x=box[0]/n_bins\n",
    "                elif cross[0]>box[1]: #right side\n",
    "                    x=cross[0]-box[1];\n",
    "                    x_bin=np.int(np.floor(x/((canvas_size-box[1])/n_bins)))+1;\n",
    "                    norm_x=(canvas_size-box[1])/n_bins\n",
    "                else: # above or below the box\n",
    "                    x_bin=0;                \n",
    "                    norm_x=(box[1]-box[0])/n_bins\n",
    "                    \n",
    "                if (cross[1]-box[2])<0: # above\n",
    "                    y=box[2]-cross[1];\n",
    "                    y_bin=np.int(np.floor(y/(box[2]/n_bins)))+1;\n",
    "                    norm_y=box[2]/n_bins\n",
    "                elif cross[1]>box[3]:\n",
    "                    y=cross[1]-box[3];\n",
    "                    y_bin=np.int(np.floor(y/((canvas_size-box[3])/n_bins)))+1;\n",
    "                    norm_y=(canvas_size-box[3])/n_bins\n",
    "                else:\n",
    "                    y_bin=0;\n",
    "                    norm_y=(box[3]-box[2])/n_bins\n",
    "                if x_bin>3 or y_bin>3:\n",
    "                    print('Something went wrong: x_bin or y_bin >0')\n",
    "                    ipdb.set_trace()\n",
    "                                    \n",
    "                \n",
    "                if normalize:\n",
    "                    outer_bins[x_bin,y_bin]=outer_bins[x_bin,y_bin]+1/(norm_x*norm_y); # NORMALIZE PER UNIT AREA\n",
    "                else:\n",
    "                    outer_bins[x_bin,y_bin]=outer_bins[x_bin,y_bin]+1;            \n",
    "                    \n",
    "    return inner_bins, outer_bins;\n",
    "\n",
    "\n",
    "def distance_to_box(subject):\n",
    "    # returns a list with the distance to the nearest side of the box\n",
    "    sample_dist=[];\n",
    "    for trial in subject['trials']:    \n",
    "        box=trial['Box'];\n",
    "        corner_1=[box[0],box[2]];\n",
    "        corner_2=[box[0],box[3]];\n",
    "        corner_3=[box[1],box[2]];\n",
    "        corner_4=[box[1],box[3]];    \n",
    "        for sample in trial['Circles']:                       \n",
    "            dist=min(sample[0]-box[0],box[1]-sample[0],sample[1]-box[2],box[3]-sample[1]);                        \n",
    "            sample_dist.append(dist);\n",
    "        for sample in trial['Crosses']:\n",
    "            if (sample[0]>=box[0])and(sample[0]<=box[1]): # top or bottom\n",
    "                dist=min(abs(sample[1]-box[2]),abs(sample[1]-box[3]));\n",
    "            elif(sample[1]>=box[2])and(sample[1]<=box[3]): # right or left\n",
    "                dist=min(abs(sample[0]-box[0]),abs(sample[0]-box[1]));\n",
    "            else:                    \n",
    "                dist=min(euclidean_dist(sample,corner_1),euclidean_dist(sample,corner_2),euclidean_dist(sample,corner_3),euclidean_dist(sample,corner_4));                \n",
    "            sample_dist.append(dist);             \n",
    "    return sample_dist;\n",
    "    \n",
    "\n",
    "def distance_to_corner(subject):\n",
    "    # returns a list with the distance to the nearest corner of every sample\n",
    "    sample_dist=[];\n",
    "    for trial in subject['trials']:    \n",
    "        box=trial['Box'];\n",
    "        corner_1=[box[0],box[2]];\n",
    "        corner_2=[box[0],box[3]];\n",
    "        corner_3=[box[1],box[2]];\n",
    "        corner_4=[box[1],box[3]];    \n",
    "        for sample in trial['Circles']:\n",
    "            dist=np.inf;        \n",
    "            dist=min(dist,euclidean_dist(sample,corner_1));\n",
    "            dist=min(dist,euclidean_dist(sample,corner_2));\n",
    "            dist=min(dist,euclidean_dist(sample,corner_3));\n",
    "            dist=min(dist,euclidean_dist(sample,corner_4));\n",
    "            sample_dist.append(dist);\n",
    "        for sample in trial['Crosses']:\n",
    "            dist=np.inf;        \n",
    "            dist=min(dist,euclidean_dist(sample,corner_1));\n",
    "            dist=min(dist,euclidean_dist(sample,corner_2));\n",
    "            dist=min(dist,euclidean_dist(sample,corner_3));\n",
    "            dist=min(dist,euclidean_dist(sample,corner_4));\n",
    "            sample_dist.append(dist);                \n",
    "    return sample_dist;\n",
    "        \n",
    "def euclidean_dist(X,Y):\n",
    "    return np.sqrt((X[0]-Y[0])**2+(X[1]-Y[1])**2);\n",
    "       \n",
    "        \n",
    "def flat_list(some_list):\n",
    "    # turns a list of lists into a single flat list\n",
    "    elements=[]\n",
    "    for item in some_list:\n",
    "        if type(item) == type([]):\n",
    "            elements += flat_list(item)\n",
    "        else:\n",
    "            elements.append(item)\n",
    "    return elements\n",
    "        \n",
    "def draw_trial(trial):\n",
    "    box=trial['Box'];\n",
    "    fig=plt.figure;\n",
    "    plt.plot([box[0],box[0],box[1],box[1],box[0]],[box[3],box[2],box[2],box[3],box[3]],'b')\n",
    "    for circle in trial['Circles']:\n",
    "        plt.plot(circle[0],circle[1],'og')    \n",
    "    for cross in trial['Crosses']:\n",
    "        plt.plot(cross[0],cross[1],'xk')                \n",
    "    plt.show()\n",
    "    plt.ylim([0,972]);\n",
    "    plt.xlim([0,972]);\n",
    "    \n",
    "def plot_inner_histo(histo_inside):\n",
    "    fig=plt.figure();      \n",
    "    plt.pcolor(histo_inside,cmap='Greys')     \n",
    "    plt.colorbar();    \n",
    "    plt.plot([0,3,3,0,0],[0,0,3,3,0],'b')\n",
    "    plt.xlim([-0.5,3.5])\n",
    "    plt.ylim([-0.5,3.5])\n",
    "    plt.tick_params(bottom=False,top=False,left=False,right=False,labelbottom=False,labelleft=False)    \n",
    "    plt.show()\n",
    "    \n",
    "    \n",
    "    \n",
    "def plot_outer_histo(histo_outside):\n",
    "    fig=plt.figure();\n",
    "    plt.title('')\n",
    "    plt.pcolor(histo_outside,cmap='Greys')\n",
    "    plt.colorbar();\n",
    "    plt.plot([0,1,1,0,0],[0,0,1,1,0],'b')\n",
    "    plt.xlim([-0.03,4])\n",
    "    plt.ylim([-0.01,4])    \n",
    "    plt.tick_params(bottom=False,top=False,left=False,right=False,labelbottom=False,labelleft=False)\n",
    "    plt.show()\n",
    "    "
   ]
  },
  {
   "cell_type": "code",
   "execution_count": 312,
   "metadata": {},
   "outputs": [
    {
     "name": "stdout",
     "output_type": "stream",
     "text": [
      "there are kwargs: dict_keys(['normalize'])\n",
      "im in\n",
      "1 True\n"
     ]
    }
   ],
   "source": [
    "nothing(1,normalize=True)"
   ]
  },
  {
   "cell_type": "markdown",
   "metadata": {},
   "source": [
    "## DISTANCIAS A LAS ESQUINAS"
   ]
  },
  {
   "cell_type": "markdown",
   "metadata": {},
   "source": [
    "Rol=Learners;\n",
    "\n",
    "Edades=[];\n",
    "for subject in Rol:\n",
    "    Edades.append(subject['age']);\n",
    "Edades=np.sort(Edades);\n",
    "\n",
    "mx=0;\n",
    "i=0;\n",
    "n_trials=[];\n",
    "fig=plt.figure();\n",
    "Edades=12;\n",
    "for e in np.unique(Edades):\n",
    "    D=[];\n",
    "    N=0;\n",
    "    for subject in Rol:     \n",
    "        if (subject['understood'] and subject['age']==e and len(subject['trials'])>2):\n",
    "            n_trials.append(len(subject['trials']));\n",
    "            N=N+1;\n",
    "            #dists=distance_to_corner(subject);\n",
    "            dists=distance_to_box(subject);\n",
    "            #ind_hist=plt.hist(dists);\n",
    "            #norm_hist = [n/sum(ind_hist[0]) for n in ind_hist[0]];            \n",
    "            \n",
    "            dists[:] = [x / 972 for x in dists];\n",
    "            D.append(dists);            \n",
    "            print(subject['Id'])\n",
    "            [inner,outer]=individual_histogram(subject);               \n",
    "            plot_inner_histo(inner);\n",
    "            plot_outer_histo(outer);  \n",
    "            fig=plt.figure();  \n",
    "            print(\"distance to box\")\n",
    "            plt.hist(dists);\n",
    "            plt.show();\n",
    "            \n",
    "                                    \n",
    "    '''\n",
    "    D=flat_list(D);\n",
    "    mx=max(mx,max(D));            \n",
    "    i=i+1;    \n",
    "    plt.figure;\n",
    "    plt.hist(D)    ;\n",
    "    plt.title('Edad='+str(e)+' N='+str(N));    \n",
    "    plt.xlabel('Distance to corner')\n",
    "    plt.ylabel('Number of examples')    \n",
    "    plt.xlim([0,1000])         \n",
    "    #fig.savefig('Distance_to_corner_Edad_'+str(e)+'_teachers', bbox_inches='tight')\n",
    "    plt.show();\n",
    "    '''\n",
    "            "
   ]
  },
  {
   "cell_type": "code",
   "execution_count": 56,
   "metadata": {},
   "outputs": [
    {
     "name": "stdout",
     "output_type": "stream",
     "text": [
      "62\n",
      "5 5 2\n",
      "6 6 4\n",
      "7 8 3\n",
      "8 3 1\n",
      "9 9 6\n",
      "10 8 3\n",
      "11 4 1\n",
      "12 3 2\n",
      "13 3 2\n",
      "14 1 1\n",
      "16 1 1\n",
      "18 2 2\n",
      "20 1 0\n",
      "32 1 1\n",
      "40 2 1\n",
      "41 1 0\n",
      "42 1 0\n",
      "44 1 1\n",
      "49 1 0\n",
      "57 1 1\n"
     ]
    }
   ],
   "source": [
    "\n",
    "Edades=[];\n",
    "G=[];\n",
    "Rol=Teachers;\n",
    "for subject in Rol:\n",
    "    Edades.append(subject['age']);    \n",
    "    \n",
    "Edades=np.sort(Edades);\n",
    "unique_elements, counts_elements = np.unique(Edades, return_counts=True)\n",
    "\n",
    "n_F=[];\n",
    "for e in unique_elements:\n",
    "    n=0;\n",
    "    for subject in Rol:        \n",
    "        if subject['age']==e and subject['gender']=='F':\n",
    "            n+=1;\n",
    "    n_F.append(n);\n",
    "\n",
    "print(len(Rol))\n",
    "\n",
    "for i in range(0,len(unique_elements)):\n",
    "    print(unique_elements[i],counts_elements[i],n_F[i])\n",
    "\n",
    "\n"
   ]
  },
  {
   "cell_type": "markdown",
   "metadata": {},
   "source": [
    "##  HISTOGRAMAS COMO EN EL PAPER"
   ]
  },
  {
   "cell_type": "code",
   "execution_count": 441,
   "metadata": {
    "scrolled": true
   },
   "outputs": [
    {
     "name": "stdout",
     "output_type": "stream",
     "text": [
      "[5, 6]\n",
      "Edades: [5, 6] N: 11\n"
     ]
    },
    {
     "data": {
      "text/plain": [
       "<Figure size 432x288 with 0 Axes>"
      ]
     },
     "metadata": {},
     "output_type": "display_data"
    },
    {
     "data": {
      "text/plain": [
       "<Figure size 432x288 with 0 Axes>"
      ]
     },
     "metadata": {},
     "output_type": "display_data"
    },
    {
     "data": {
      "image/png": "[encoded data removed]",
      "text/plain": [
       "<Figure size 432x288 with 2 Axes>"
      ]
     },
     "metadata": {},
     "output_type": "display_data"
    },
    {
     "name": "stdout",
     "output_type": "stream",
     "text": [
      "163.7 2.691003359480941e-31\n"
     ]
    },
    {
     "data": {
      "text/plain": [
       "<Figure size 432x288 with 0 Axes>"
      ]
     },
     "metadata": {},
     "output_type": "display_data"
    },
    {
     "data": {
      "image/png": "[encoded data removed]",
      "text/plain": [
       "<Figure size 432x288 with 2 Axes>"
      ]
     },
     "metadata": {},
     "output_type": "display_data"
    },
    {
     "name": "stdout",
     "output_type": "stream",
     "text": [
      "[7, 8]\n",
      "Edades: [7, 8] N: 11\n"
     ]
    },
    {
     "data": {
      "text/plain": [
       "<Figure size 432x288 with 0 Axes>"
      ]
     },
     "metadata": {},
     "output_type": "display_data"
    },
    {
     "data": {
      "text/plain": [
       "<Figure size 432x288 with 0 Axes>"
      ]
     },
     "metadata": {},
     "output_type": "display_data"
    },
    {
     "data": {
      "image/png": "[encoded data removed]",
      "text/plain": [
       "<Figure size 432x288 with 2 Axes>"
      ]
     },
     "metadata": {},
     "output_type": "display_data"
    },
    {
     "name": "stdout",
     "output_type": "stream",
     "text": [
      "47.281471004243286 1.3550867595480578e-07\n"
     ]
    },
    {
     "data": {
      "text/plain": [
       "<Figure size 432x288 with 0 Axes>"
      ]
     },
     "metadata": {},
     "output_type": "display_data"
    },
    {
     "data": {
      "image/png": "[encoded data removed]",
      "text/plain": [
       "<Figure size 432x288 with 2 Axes>"
      ]
     },
     "metadata": {},
     "output_type": "display_data"
    },
    {
     "name": "stdout",
     "output_type": "stream",
     "text": [
      "[9, 10]\n",
      "Edades: [9, 10] N: 17\n"
     ]
    },
    {
     "data": {
      "text/plain": [
       "<Figure size 432x288 with 0 Axes>"
      ]
     },
     "metadata": {},
     "output_type": "display_data"
    },
    {
     "data": {
      "text/plain": [
       "<Figure size 432x288 with 0 Axes>"
      ]
     },
     "metadata": {},
     "output_type": "display_data"
    },
    {
     "data": {
      "image/png": "[encoded data removed]",
      "text/plain": [
       "<Figure size 432x288 with 2 Axes>"
      ]
     },
     "metadata": {},
     "output_type": "display_data"
    },
    {
     "name": "stdout",
     "output_type": "stream",
     "text": [
      "137.77335375191427 6.889655316682286e-26\n"
     ]
    },
    {
     "data": {
      "text/plain": [
       "<Figure size 432x288 with 0 Axes>"
      ]
     },
     "metadata": {},
     "output_type": "display_data"
    },
    {
     "data": {
      "image/png": "[encoded data removed]",
      "text/plain": [
       "<Figure size 432x288 with 2 Axes>"
      ]
     },
     "metadata": {},
     "output_type": "display_data"
    },
    {
     "name": "stdout",
     "output_type": "stream",
     "text": [
      "[11, 12]\n",
      "Edades: [11, 12] N: 7\n"
     ]
    },
    {
     "data": {
      "text/plain": [
       "<Figure size 432x288 with 0 Axes>"
      ]
     },
     "metadata": {},
     "output_type": "display_data"
    },
    {
     "data": {
      "text/plain": [
       "<Figure size 432x288 with 0 Axes>"
      ]
     },
     "metadata": {},
     "output_type": "display_data"
    },
    {
     "data": {
      "image/png": "[encoded data removed]",
      "text/plain": [
       "<Figure size 432x288 with 2 Axes>"
      ]
     },
     "metadata": {},
     "output_type": "display_data"
    },
    {
     "name": "stdout",
     "output_type": "stream",
     "text": [
      "295.671875 3.4332020500307752e-59\n"
     ]
    },
    {
     "data": {
      "text/plain": [
       "<Figure size 432x288 with 0 Axes>"
      ]
     },
     "metadata": {},
     "output_type": "display_data"
    },
    {
     "data": {
      "image/png": "[encoded data removed]",
      "text/plain": [
       "<Figure size 432x288 with 2 Axes>"
      ]
     },
     "metadata": {},
     "output_type": "display_data"
    },
    {
     "name": "stdout",
     "output_type": "stream",
     "text": [
      "[13, 14]\n",
      "Edades: [13, 14] N: 4\n"
     ]
    },
    {
     "data": {
      "text/plain": [
       "<Figure size 432x288 with 0 Axes>"
      ]
     },
     "metadata": {},
     "output_type": "display_data"
    },
    {
     "data": {
      "text/plain": [
       "<Figure size 432x288 with 0 Axes>"
      ]
     },
     "metadata": {},
     "output_type": "display_data"
    },
    {
     "data": {
      "image/png": "[encoded data removed]",
      "text/plain": [
       "<Figure size 432x288 with 2 Axes>"
      ]
     },
     "metadata": {},
     "output_type": "display_data"
    },
    {
     "name": "stdout",
     "output_type": "stream",
     "text": [
      "78.12682926829268 1.1638356755558565e-13\n"
     ]
    },
    {
     "data": {
      "text/plain": [
       "<Figure size 432x288 with 0 Axes>"
      ]
     },
     "metadata": {},
     "output_type": "display_data"
    },
    {
     "data": {
      "image/png": "[encoded data removed]",
      "text/plain": [
       "<Figure size 432x288 with 2 Axes>"
      ]
     },
     "metadata": {},
     "output_type": "display_data"
    }
   ],
   "source": [
    "\n",
    "Rol=Teachers;\n",
    "rol='teachers';\n",
    "\n",
    "#Rol=Learners;\n",
    "#rol='learners';\n",
    "\n",
    "Edades=[];\n",
    "for subject in Rol:\n",
    "    Edades.append(subject['age']);\n",
    "Edades=np.sort(Edades);\n",
    "Edades=np.unique(Edades)\n",
    "\n",
    "\n",
    "Edades=[[5,6],[7,8],[9,10],[11,12],[13,14]]\n",
    "#Edades=[(5,6),(7,8),(9,10),(11,12)]\n",
    "\n",
    "for e in Edades:\n",
    "    print(e)\n",
    "    N=0;    \n",
    "    n_i=0;\n",
    "    n_o=0;\n",
    "    histo_inside=np.zeros([3,3]);\n",
    "    histo_outside=np.zeros([4,4]);\n",
    "    Id=[];\n",
    "    for subject in Rol:                  \n",
    "        #if (subject['understood'] and subject['age'] == e):\n",
    "        if (subject['understood'] and subject['age'] in e):\n",
    "            N=N+1;\n",
    "            Id.append(subject['Id']);\n",
    "            [inner,outer]=individual_histogram(subject,normalize=False);    \n",
    "            if np.sum(inner)>0:\n",
    "                n_i=n_i+1;\n",
    "                histo_inside=histo_inside+inner;\n",
    "                #histo_inside=histo_inside+inner/np.sum(inner);\n",
    "            if np.sum(outer)>0:\n",
    "                n_o=n_o+1;\n",
    "                histo_outside=histo_outside+outer;\n",
    "                #histo_outside=histo_outside+outer/np.sum(outer);\n",
    "                \n",
    "                \n",
    "    histo_inside=np.flip(histo_inside,axis=0)\n",
    "    histo_outside=np.flip(histo_outside,axis=0)\n",
    "    \n",
    "    plt.clf();   \n",
    "    fig=plt.figure();\n",
    "    Id.sort();\n",
    "    #print(Id)        \n",
    "    #histo_inside=histo_inside/n_i;    \n",
    "    #histo_outside=histo_outside/n_o;    \n",
    "    print('Edades:',e,'N:',N)\n",
    "    fig=plt.figure();      \n",
    "    plt.pcolor(histo_inside,cmap='Greys')     \n",
    "    plt.colorbar();    \n",
    "    plt.plot([0,3,3,0,0],[0,0,3,3,0],'b',linewidth=5)\n",
    "    plt.xlim([-0.5,3.5])\n",
    "    plt.ylim([-0.5,3.5])\n",
    "    plt.tick_params(bottom=False,top=False,left=False,right=False,labelbottom=False,labelleft=False)    ;\n",
    "    plt.show()\n",
    "    hi=histo_inside.reshape(1,histo_inside.size)\n",
    "    chi=chisquare(hi[0])\n",
    "    print(chi.statistic,chi.pvalue)\n",
    "    \n",
    "    #fig.savefig('Age_'+str(e)+'_N_'+str(N)+'_circles_'+rol+'.png',bbox_inches='tight');\n",
    "    \n",
    "    \n",
    "    plt.clf();\n",
    "    fig=plt.figure();\n",
    "    plt.title('');\n",
    "    plt.pcolor(histo_outside,cmap='Greys');\n",
    "    plt.colorbar();\n",
    "    plt.plot([0,1,1,0,0],[3,3,4,4,3],'b',linewidth=5)\n",
    "    plt.xlim([-0.03,4])\n",
    "    plt.ylim([0.,4.01])    \n",
    "    plt.tick_params(bottom=False,top=False,left=False,right=False,labelbottom=False,labelleft=False);\n",
    "    plt.show()\n",
    "    \n",
    "    #fig.savefig('Age_'+str(e)+'_N_'+str(N)+'_crosses_'+rol+'.png',bbox_inches='tight');\n",
    "        \n",
    "    \n",
    "    \n"
   ]
  },
  {
   "cell_type": "code",
   "execution_count": 275,
   "metadata": {},
   "outputs": [
    {
     "name": "stderr",
     "output_type": "stream",
     "text": [
      "/home/ahaimovici/anaconda3/lib/python3.6/site-packages/numpy/core/fromnumeric.py:2920: RuntimeWarning: Mean of empty slice.\n",
      "  out=out, **kwargs)\n",
      "/home/ahaimovici/anaconda3/lib/python3.6/site-packages/numpy/core/_methods.py:85: RuntimeWarning: invalid value encountered in double_scalars\n",
      "  ret = ret.dtype.type(ret / rcount)\n"
     ]
    }
   ],
   "source": [
    "# DISTANCE TO THE CORNERS\n",
    "def get_distance(sample,box):\n",
    "    # corners\n",
    "    \n",
    "    c1=(box[0],box[2])\n",
    "    c2=(box[1],box[2])\n",
    "    c3=(box[0],box[3])\n",
    "    c4=(box[1],box[3])\n",
    "    d=min((sample[0]-c1[0])**2+(sample[1]-c1[1])**2,\\\n",
    "          (sample[0]-c2[0])**2+(sample[1]-c2[1])**2,\\\n",
    "          (sample[0]-c3[0])**2+(sample[1]-c3[1])**2,\\\n",
    "          (sample[0]-c4[0])**2+(sample[1]-c4[1])**2 )  \n",
    "    return np.sqrt(d)\n",
    "\n",
    "\n",
    "Data_dict={'Age':[],'Circles_to_corner':[],'Crosses_to_corner':[],'Rol':[],'Id':[],'corners_prop':[]}\n",
    "\n",
    "\n",
    "\n",
    "\n",
    "for s in Teachers:\n",
    "    \n",
    "    distance_circles=[]\n",
    "    distance_crosses=[]\n",
    "    Data_dict['Age'].append(s['age'])\n",
    "    Data_dict['Rol'].append('T')\n",
    "    Data_dict['Id'].append(s['Id'])\n",
    "    for t in s['trials']:\n",
    "        for c in t['Circles']:\n",
    "            distance_circles.append(get_distance(c,t['Box']))\n",
    "        for c in t['Crosses']:\n",
    "            distance_crosses.append(get_distance(c,t['Box']))\n",
    "    Data_dict['Circles_to_corner'].append(np.mean(distance_circles))\n",
    "    Data_dict['Crosses_to_corner'].append(np.mean(distance_crosses))\n",
    "    \n",
    "    [inner,outer]=individual_histogram(s);    \n",
    "    if np.sum(inner)>0:\n",
    "        corners=inner[0,0]+inner[0,2]+inner[2,0]+inner[2,2];\n",
    "        non_corners=np.sum(inner)-corners;\n",
    "        corners=corners/(np.sum(inner));\n",
    "        Data_dict['corners_prop'].append(corners)\n",
    "    else: \n",
    "        Data_dict['corners_prop'].append(np.nan)\n",
    "    \n",
    "for s in Learners:\n",
    "    \n",
    "    distance_circles=[]\n",
    "    distance_crosses=[]\n",
    "    Data_dict['Age'].append(s['age'])\n",
    "    Data_dict['Rol'].append('L')\n",
    "    Data_dict['Id'].append(s['Id'])\n",
    "    for t in s['trials']:\n",
    "        for c in t['Circles']:\n",
    "            distance_circles.append(get_distance(c,t['Box']))\n",
    "        for c in t['Crosses']:\n",
    "            distance_crosses.append(get_distance(c,t['Box']))\n",
    "    Data_dict['Circles_to_corner'].append(np.mean(distance_circles))\n",
    "    Data_dict['Crosses_to_corner'].append(np.mean(distance_crosses))\n",
    "    [inner,outer]=individual_histogram(s);    \n",
    "    if np.sum(inner)>0:\n",
    "        corners=inner[0,0]+inner[0,2]+inner[2,0]+inner[2,2];\n",
    "        non_corners=np.sum(inner)-corners;\n",
    "        corners=corners/(np.sum(inner));\n",
    "        Data_dict['corners_prop'].append(corners)\n",
    "    else: \n",
    "        Data_dict['corners_prop'].append(np.nan)\n"
   ]
  },
  {
   "cell_type": "code",
   "execution_count": null,
   "metadata": {},
   "outputs": [],
   "source": [
    "# WATCH TRIALS:\n",
    "\n",
    "\n",
    "    \n",
    "for d in Learners:\n",
    "    if d['age']in [11,12]:\n",
    "        print('############# NEW SUBJECT ############')\n",
    "        for trial in d['trials']:\n",
    "            draw_trial(trial)        \n",
    "    \n",
    "    "
   ]
  },
  {
   "cell_type": "code",
   "execution_count": 281,
   "metadata": {},
   "outputs": [
    {
     "data": {
      "image/png": "[encoded data removed]",
      "text/plain": [
       "<Figure size 432x288 with 1 Axes>"
      ]
     },
     "metadata": {},
     "output_type": "display_data"
    }
   ],
   "source": [
    "rol='T'\n",
    "\n",
    "plt.plot(Data[Data['Rol']==rol]['Age'],Data[Data['Rol']==rol]['corners_prop'],'o')\n",
    "plt.xlim([0,13])\n",
    "plt.show()"
   ]
  },
  {
   "cell_type": "code",
   "execution_count": 286,
   "metadata": {},
   "outputs": [
    {
     "data": {
      "text/plain": [
       "6     1.000000\n",
       "38    0.780000\n",
       "53    0.000000\n",
       "62    0.719298\n",
       "65    0.692308\n",
       "66    0.468085\n",
       "73    0.440000\n",
       "Name: corners_prop, dtype: float64"
      ]
     },
     "execution_count": 286,
     "metadata": {},
     "output_type": "execute_result"
    }
   ],
   "source": [
    "Data[Data['Age']==12]['corners_prop']\n"
   ]
  },
  {
   "cell_type": "code",
   "execution_count": 227,
   "metadata": {},
   "outputs": [
    {
     "name": "stderr",
     "output_type": "stream",
     "text": [
      "/home/ahaimovici/anaconda3/lib/python3.6/site-packages/numpy/core/fromnumeric.py:2920: RuntimeWarning: Mean of empty slice.\n",
      "  out=out, **kwargs)\n",
      "/home/ahaimovici/anaconda3/lib/python3.6/site-packages/numpy/core/_methods.py:85: RuntimeWarning: invalid value encountered in double_scalars\n",
      "  ret = ret.dtype.type(ret / rcount)\n"
     ]
    },
    {
     "data": {
      "image/png": "[encoded data removed]",
      "text/plain": [
       "<Figure size 432x288 with 1 Axes>"
      ]
     },
     "metadata": {},
     "output_type": "display_data"
    },
    {
     "ename": "NameError",
     "evalue": "name 'xlim' is not defined",
     "output_type": "error",
     "traceback": [
      "\u001b[0;31m---------------------------------------------------------------------------\u001b[0m",
      "\u001b[0;31mNameError\u001b[0m                                 Traceback (most recent call last)",
      "\u001b[0;32m<ipython-input-227-0ef424ba370d>\u001b[0m in \u001b[0;36m<module>\u001b[0;34m()\u001b[0m\n\u001b[1;32m     10\u001b[0m         \u001b[0mplt\u001b[0m\u001b[0;34m.\u001b[0m\u001b[0mplot\u001b[0m\u001b[0;34m(\u001b[0m\u001b[0mData\u001b[0m\u001b[0;34m.\u001b[0m\u001b[0mloc\u001b[0m\u001b[0;34m[\u001b[0m\u001b[0mi\u001b[0m\u001b[0;34m]\u001b[0m\u001b[0;34m[\u001b[0m\u001b[0;34m'Age'\u001b[0m\u001b[0;34m]\u001b[0m\u001b[0;34m,\u001b[0m\u001b[0mnp\u001b[0m\u001b[0;34m.\u001b[0m\u001b[0mmean\u001b[0m\u001b[0;34m(\u001b[0m\u001b[0mData\u001b[0m\u001b[0;34m.\u001b[0m\u001b[0mloc\u001b[0m\u001b[0;34m[\u001b[0m\u001b[0mi\u001b[0m\u001b[0;34m]\u001b[0m\u001b[0;34m[\u001b[0m\u001b[0;34m'Crosses_to_corner'\u001b[0m\u001b[0;34m]\u001b[0m\u001b[0;34m)\u001b[0m\u001b[0;34m,\u001b[0m\u001b[0;34m'o'\u001b[0m\u001b[0;34m)\u001b[0m\u001b[0;34m\u001b[0m\u001b[0;34m\u001b[0m\u001b[0m\n\u001b[1;32m     11\u001b[0m \u001b[0mplt\u001b[0m\u001b[0;34m.\u001b[0m\u001b[0mshow\u001b[0m\u001b[0;34m(\u001b[0m\u001b[0;34m)\u001b[0m\u001b[0;34m\u001b[0m\u001b[0;34m\u001b[0m\u001b[0m\n\u001b[0;32m---> 12\u001b[0;31m \u001b[0mxlim\u001b[0m\u001b[0;34m(\u001b[0m\u001b[0;34m[\u001b[0m\u001b[0;36m0\u001b[0m\u001b[0;34m,\u001b[0m\u001b[0;36m12\u001b[0m\u001b[0;34m]\u001b[0m\u001b[0;34m)\u001b[0m\u001b[0;34m\u001b[0m\u001b[0;34m\u001b[0m\u001b[0m\n\u001b[0m\u001b[1;32m     13\u001b[0m '''\n\u001b[1;32m     14\u001b[0m \u001b[0;32mif\u001b[0m \u001b[0mData\u001b[0m\u001b[0;34m.\u001b[0m\u001b[0mloc\u001b[0m\u001b[0;34m[\u001b[0m\u001b[0mi\u001b[0m\u001b[0;34m]\u001b[0m\u001b[0;34m[\u001b[0m\u001b[0;34m'Age'\u001b[0m\u001b[0;34m]\u001b[0m\u001b[0;32min\u001b[0m \u001b[0mEdades\u001b[0m \u001b[0;32mand\u001b[0m \u001b[0mData\u001b[0m\u001b[0;34m.\u001b[0m\u001b[0mloc\u001b[0m\u001b[0;34m[\u001b[0m\u001b[0mi\u001b[0m\u001b[0;34m]\u001b[0m\u001b[0;34m[\u001b[0m\u001b[0;34m'Rol'\u001b[0m\u001b[0;34m]\u001b[0m\u001b[0;34m==\u001b[0m\u001b[0;34m'T'\u001b[0m\u001b[0;34m:\u001b[0m\u001b[0;34m\u001b[0m\u001b[0;34m\u001b[0m\u001b[0m\n",
      "\u001b[0;31mNameError\u001b[0m: name 'xlim' is not defined"
     ]
    }
   ],
   "source": [
    "Edades=[[5,6],[7,8],[9,10],[11,12]]\n",
    "Edades=[5,6]\n",
    "\n",
    "Rol='T'\n",
    "plt.clf()\n",
    "\n",
    "for i in Data.index:\n",
    "    #plt.plot(np.ones(len(Data.loc[i]['Crosses_to_corner']))*Data.loc[i]['Age'],Data.loc[i]['Crosses_to_corner'],'o')\n",
    "    if Data.loc[i]['Rol']=='T':\n",
    "        plt.plot(Data.loc[i]['Age'],np.mean(Data.loc[i]['Crosses_to_corner']),'o')\n",
    "plt.show()\n",
    "xlim([0,12])\n",
    "\n",
    "\n",
    "\n",
    "\n",
    "'''\n",
    "if Data.loc[i]['Age']in Edades and Data.loc[i]['Rol']=='T':\n",
    "    plt.hist(Data.loc[i]['Circles_to_corner'])\n",
    "plt.show()\n",
    "'''"
   ]
  },
  {
   "cell_type": "code",
   "execution_count": 438,
   "metadata": {},
   "outputs": [
    {
     "data": {
      "text/plain": [
       "57"
      ]
     },
     "execution_count": 438,
     "metadata": {},
     "output_type": "execute_result"
    }
   ],
   "source": [
    "len(Learners)"
   ]
  },
  {
   "cell_type": "code",
   "execution_count": 188,
   "metadata": {},
   "outputs": [
    {
     "data": {
      "text/plain": [
       "(119, 5)"
      ]
     },
     "execution_count": 188,
     "metadata": {},
     "output_type": "execute_result"
    }
   ],
   "source": [
    "Data.shape"
   ]
  },
  {
   "cell_type": "code",
   "execution_count": 117,
   "metadata": {},
   "outputs": [
    {
     "name": "stdout",
     "output_type": "stream",
     "text": [
      "Teachers\n",
      "[ 5  5  5  5  5  6  6  6  6  6  6  7  7  7  7  7  7  7  7  8  8  8  9  9\n",
      "  9  9  9  9  9  9  9 10 10 10 10 10 10 10 10 11 11 11 11 12 12 12 13 13\n",
      " 13 14 16 18 18 20 32 40 40 41 42 44 49 57]\n",
      "Learners\n",
      "[ 5  5  6  6  6  6  6  7  7  7  7  8  8  8  8  8  8  8  8  8  9  9  9  9\n",
      "  9  9  9  9  9 10 10 10 10 10 10 11 11 11 11 11 12 12 12 12 13 13 13 14\n",
      " 17 17 19 20 32 42 43 44 45]\n"
     ]
    }
   ],
   "source": [
    "Edades=[];\n",
    "for subject in Teachers:\n",
    "    Edades.append(subject['age']);\n",
    "Edades=np.sort(Edades);\n",
    "print('Teachers')\n",
    "print(Edades)\n",
    "\n",
    "Edades=[];\n",
    "for subject in Learners:\n",
    "    Edades.append(subject['age']);\n",
    "Edades=np.sort(Edades);\n",
    "print('Learners')\n",
    "print(Edades)"
   ]
  },
  {
   "cell_type": "code",
   "execution_count": 190,
   "metadata": {},
   "outputs": [
    {
     "data": {
      "text/plain": [
       "57"
      ]
     },
     "execution_count": 190,
     "metadata": {},
     "output_type": "execute_result"
    }
   ],
   "source": [
    "len(Learners)"
   ]
  },
  {
   "cell_type": "code",
   "execution_count": 191,
   "metadata": {},
   "outputs": [
    {
     "data": {
      "text/plain": [
       "119"
      ]
     },
     "execution_count": 191,
     "metadata": {},
     "output_type": "execute_result"
    }
   ],
   "source": [
    "57+62"
   ]
  },
  {
   "cell_type": "code",
   "execution_count": 93,
   "metadata": {},
   "outputs": [],
   "source": [
    "from scipy.stats import chisquare\n",
    "from scipy.stats import chi2\n",
    "\n"
   ]
  },
  {
   "cell_type": "code",
   "execution_count": 105,
   "metadata": {},
   "outputs": [
    {
     "data": {
      "text/plain": [
       "array([[0., 1., 0.],\n",
       "       [0., 1., 0.],\n",
       "       [0., 0., 0.]])"
      ]
     },
     "execution_count": 105,
     "metadata": {},
     "output_type": "execute_result"
    }
   ],
   "source": [
    "np.flip(inner,axis=0)"
   ]
  },
  {
   "cell_type": "code",
   "execution_count": 87,
   "metadata": {},
   "outputs": [
    {
     "data": {
      "text/plain": [
       "1.2825186294207001e-09"
      ]
     },
     "execution_count": 87,
     "metadata": {},
     "output_type": "execute_result"
    }
   ],
   "source": [
    "chi.pvalue"
   ]
  },
  {
   "cell_type": "markdown",
   "metadata": {},
   "source": [
    "## Corners vs non corners"
   ]
  },
  {
   "cell_type": "code",
   "execution_count": 436,
   "metadata": {
    "scrolled": true
   },
   "outputs": [
    {
     "name": "stdout",
     "output_type": "stream",
     "text": [
      "[5, 6]\n",
      "Age: [5, 6]\n",
      "[7, 8]\n",
      "Age: [7, 8]\n",
      "[9, 10]\n",
      "Age: [9, 10]\n",
      "[11, 12]\n",
      "Age: [11, 12]\n",
      "ie 1\n",
      "ie 2\n",
      "ie 3\n",
      "ie 4\n"
     ]
    },
    {
     "data": {
      "image/png": "[encoded data removed]",
      "text/plain": [
       "<Figure size 432x288 with 1 Axes>"
      ]
     },
     "metadata": {},
     "output_type": "display_data"
    },
    {
     "name": "stdout",
     "output_type": "stream",
     "text": [
      "10\n",
      "11\n",
      "16\n",
      "7\n"
     ]
    },
    {
     "data": {
      "text/plain": [
       "\"\\n# Build the plot\\nfig, ax = plt.subplots();    \\nax.bar([1,2], [np.mean(corners_prop),np.mean(non_corners_prop)], yerr=[np.std(corners_prop)/np.sqrt(len(corners_prop)),np.std(non_corners_prop)/np.sqrt(len(non_corners_prop))], align='center', alpha=0.5,facecolor='black' ,ecolor='black', capsize=10)\\nax.set_ylabel('Proportion')\\nax.set_xticks([1,2])\\nax.set_xticklabels(['Corners','Non-corners'])\\nax.set_title(rol)\\nax.plot([0,2],[4/9,4/9],'--r')\\nplt.show()\\n\\nfig, ax = plt.subplots();    \\nax.bar([1,2,3], [np.mean(near_prop),np.mean(middle_prop),np.mean(far_prop)], yerr=[np.std(near_prop)/np.sqrt(len(near_prop)),np.std(middle_prop)/np.sqrt(len(middle_prop)),np.std(far_prop)/np.sqrt(len(far_prop))], align='center', alpha=0.5,facecolor='black' ,ecolor='black', capsize=10)\\nax.set_ylabel('Proportion')\\nax.set_xticks([1,2,3])\\nax.set_xticklabels(['Near','Middle','Far'])\\nax.set_title(rol)\\nplt.show()            \\n\""
      ]
     },
     "execution_count": 436,
     "metadata": {},
     "output_type": "execute_result"
    }
   ],
   "source": [
    "\n",
    "Rol=Teachers;\n",
    "rol='teachers';\n",
    "\n",
    "#Rol=Learners;\n",
    "#rol='learners';\n",
    "\n",
    "Edades=[];\n",
    "for subject in Rol:\n",
    "    Edades.append(subject['age']);\n",
    "Edades=np.sort(Edades);\n",
    "\n",
    "\n",
    "Edades=[[5,6],[7,8],[9,10],[11,12]]\n",
    "\n",
    "\n",
    "\n",
    "\n",
    "#for e in np.unique(Edades):\n",
    "ie=0\n",
    "\n",
    "ages=[]\n",
    "\n",
    "corners_prop_per_age=[]\n",
    "\n",
    "near_per_age=[]\n",
    "middle_per_age=[]\n",
    "far_per_age=[]\n",
    "\n",
    "\n",
    "fig_crosses, ax_crosses = plt.subplots();    \n",
    "\n",
    "\n",
    "for e in Edades:\n",
    "    ie+=1\n",
    "    print(e)\n",
    "    N=0;                    \n",
    "    corners_prop=[];\n",
    "    non_corners_prop=[];    \n",
    "    near_prop=[];\n",
    "    middle_prop=[];\n",
    "    far_prop=[];\n",
    "    for subject in Rol:                  \n",
    "        if (subject['understood'] and subject['age'] in e):\n",
    "        #if (subject['understood'] and subject['age'] == e):\n",
    "            N=N+1;\n",
    "            [inner,outer]=individual_histogram(subject);    \n",
    "            if np.sum(inner)>0:\n",
    "                n_i=n_i+1;                \n",
    "                corners=inner[0,0]+inner[0,2]+inner[2,0]+inner[2,2];\n",
    "                non_corners=np.sum(inner)-corners;\n",
    "                corners=corners/(np.sum(inner));\n",
    "                non_corners=non_corners/(np.sum(inner));\n",
    "                corners_prop.append(corners);\n",
    "                ages.append(subject['age'])\n",
    "                non_corners_prop.append(non_corners);\n",
    "            if np.sum(outer)>0:      \n",
    "                near=(outer[0,1]+outer[1,0]+outer[1,1])/np.sum(outer); # near\n",
    "                middle=(outer[0,2]+outer[1,2]+outer[2,2]+outer[2,0]+outer[2,1])/np.sum(outer); # middle\n",
    "                far=1-near-middle;\n",
    "                near_prop.append(near);\n",
    "                middle_prop.append(middle);\n",
    "                far_prop.append(far);\n",
    "\n",
    "                \n",
    "                \n",
    "    corners_prop_per_age.append(corners_prop)\n",
    "    near_per_age.append(near_prop)\n",
    "    middle_per_age.append(middle_prop)\n",
    "    far_per_age.append(far_prop)                \n",
    "    \n",
    "    print('Age:',e)\n",
    "#    fig, ax = plt.subplots();    \n",
    "\n",
    "    ax_crosses.bar(4*(ie-1)+np.array([1,2,3]), [np.mean(near_prop),np.mean(middle_prop),np.mean(far_prop)], yerr=[np.std(near_prop)/np.sqrt(len(near_prop)),np.std(middle_prop)/np.sqrt(len(middle_prop)),np.std(far_prop)/np.sqrt(len(far_prop))], align='center', alpha=0.5,facecolor='black' ,ecolor='black', capsize=10)        \n",
    "    #ax.set_xticks([1,2,3])\n",
    "    #ax.set_xticklabels(['Near','Middle','Far'])\n",
    "\n",
    "    \n",
    "    \n",
    "   # Build the plot\n",
    "    '''\n",
    "    ax.bar(ie, np.mean(corners_prop), yerr=np.std(corners_prop)/np.sqrt(len(corners_prop)), align='center', alpha=0.5,facecolor='black' ,ecolor='black', capsize=10)        \n",
    "    #ax.set_xticklabels(['Corners','Non-corners'])\n",
    "    if rol=='teachers':\n",
    "        ax.set_title('Teachers',fontsize=15)\n",
    "    if rol=='learners':\n",
    "        ax.set_title('Learners',fontsize=15)\n",
    "    ax.plot([0,5],[4/9,4/9],'--r')\n",
    "\n",
    "\n",
    "    \n",
    "    print('Age:',e,'ttest:')\n",
    "    print(stats.ttest_1samp(corners_prop,4/9))\n",
    "\n",
    "    ax.set_ylabel('Proportion of corners',fontsize=15)    \n",
    "    ax.set_xlabel('Age',fontsize=15)    \n",
    "    ax.set_xticks([1,2,3,4])    \n",
    "    ax.set_xticklabels(['5-6','7-8','9-10','11-12'],fontsize=10)\n",
    "    '''\n",
    "    \n",
    "xticks=[]\n",
    "x_lbls=[]\n",
    "for ie in range(1,len(Edades)+1): \n",
    "    print('ie',ie)\n",
    "    xticks.append(4*(ie-1)+1)\n",
    "    xticks.append(4*(ie-1)+2)\n",
    "    xticks.append(4*(ie-1)+3)\n",
    "    x_lbls.append('Near')\n",
    "    x_lbls.append('Middle')\n",
    "    x_lbls.append('Far')\n",
    "    \n",
    "ax_crosses.set_xticks(xticks)\n",
    "ax_crosses.set_xticklabels(x_lbls, rotation = 45, ha=\"right\")\n",
    "plt.xlabel('Ages',fontsize=15)\n",
    "plt.ylabel('Proportion',fontsize=15)\n",
    "plt.show()\n",
    "fig_crosses.savefig('crosses_position_vs_age_'+rol+'.pdf')\n",
    "\n",
    "\n",
    "ig=0\n",
    "Group=[]\n",
    "for item in corners_prop_per_age:\n",
    "    ig+=1\n",
    "    Group.append(np.ones(len(item))*ig)\n",
    "    print(len(item))\n",
    "\n",
    "flat_group = [item for sublist in Group for item in sublist]\n",
    "\n",
    "flat_data=[item for sublist in corners_prop_per_age for item in sublist]\n",
    "\n",
    "'''\n",
    "print('Linear regression')\n",
    "Regress_group=linregress(flat_group,flat_data)\n",
    "print(linregress(flat_group,flat_data))\n",
    "\n",
    "x_aux=np.array(range(1,len(Edades)+1))\n",
    "y_fit=x_aux*Regress_group.slope+Regress_group.intercept\n",
    "'''\n",
    "\n",
    "'''\n",
    "if rol=='teachers':\n",
    "    ax.plot(x_aux,y_fit,'--b')\n",
    "'''\n",
    "\n",
    "#plt.xlabel('Age',fontsize=15)\n",
    "#plt.ylabel('Proportion of corners',fontsize=15)\n",
    "#print( pairwise_tukeyhsd(flat_data, flat_group))\n",
    "#plt.ylim([0,0.9])\n",
    "\n",
    "#plt.show() \n",
    "#fig.savefig('Corners_vs_age_barplot_'+rol+'.png')\n",
    "\n",
    "#print(stats.f_oneway(corners_prop_per_age[0], corners_prop_per_age[1], corners_prop_per_age[2], corners_prop_per_age[3]))\n",
    "\n",
    "'''\n",
    "print('Linear regression using actual age')\n",
    "Regress_Age=linregress(ages,flat_data)\n",
    "print(Regress_Age)\n",
    "'''\n",
    "\n",
    "'''\n",
    "fig=plt.figure()\n",
    "plt.plot(ages,flat_data,'ok')\n",
    "x_aux=np.array(range(min(ages),max(ages)+1))\n",
    "y_fit=x_aux*Regress_Age.slope+Regress_Age.intercept\n",
    "plt.plot(x_aux,y_fit,'--b')\n",
    "plt.xlabel('Age',fontsize=15)\n",
    "plt.ylabel('Proportion of corners',fontsize=15)\n",
    "plt.ylim([-0.05,1.05])\n",
    "plt.show()\n",
    "#fig.savefig('Corners_prop_vs_age_'+rol+'.png')\n",
    "'''\n",
    "\n",
    "\n",
    "'''\n",
    "# Build the plot\n",
    "fig, ax = plt.subplots();    \n",
    "ax.bar([1,2], [np.mean(corners_prop),np.mean(non_corners_prop)], yerr=[np.std(corners_prop)/np.sqrt(len(corners_prop)),np.std(non_corners_prop)/np.sqrt(len(non_corners_prop))], align='center', alpha=0.5,facecolor='black' ,ecolor='black', capsize=10)\n",
    "ax.set_ylabel('Proportion')\n",
    "ax.set_xticks([1,2])\n",
    "ax.set_xticklabels(['Corners','Non-corners'])\n",
    "ax.set_title(rol)\n",
    "ax.plot([0,2],[4/9,4/9],'--r')\n",
    "plt.show()\n",
    "\n",
    "fig, ax = plt.subplots();    \n",
    "ax.bar([1,2,3], [np.mean(near_prop),np.mean(middle_prop),np.mean(far_prop)], yerr=[np.std(near_prop)/np.sqrt(len(near_prop)),np.std(middle_prop)/np.sqrt(len(middle_prop)),np.std(far_prop)/np.sqrt(len(far_prop))], align='center', alpha=0.5,facecolor='black' ,ecolor='black', capsize=10)\n",
    "ax.set_ylabel('Proportion')\n",
    "ax.set_xticks([1,2,3])\n",
    "ax.set_xticklabels(['Near','Middle','Far'])\n",
    "ax.set_title(rol)\n",
    "plt.show()            \n",
    "''' \n",
    "    \n",
    "\n",
    "\n",
    "\n",
    "\n",
    "\n",
    "\n"
   ]
  },
  {
   "cell_type": "code",
   "execution_count": 423,
   "metadata": {},
   "outputs": [
    {
     "data": {
      "text/plain": [
       "[-3, -2, -1, 1, 2, 3, 5, 6, 7, 9, 10, 11]"
      ]
     },
     "execution_count": 423,
     "metadata": {},
     "output_type": "execute_result"
    }
   ],
   "source": [
    "xticks"
   ]
  },
  {
   "cell_type": "code",
   "execution_count": 415,
   "metadata": {},
   "outputs": [
    {
     "data": {
      "text/plain": [
       "array([ 9, 10, 11])"
      ]
     },
     "execution_count": 415,
     "metadata": {},
     "output_type": "execute_result"
    }
   ],
   "source": [
    "4*(3-1)+np.array([1,2,3])"
   ]
  },
  {
   "cell_type": "code",
   "execution_count": 374,
   "metadata": {
    "scrolled": true
   },
   "outputs": [
    {
     "data": {
      "text/plain": [
       "array([ 5,  6,  7,  8,  9, 10, 11, 12])"
      ]
     },
     "execution_count": 374,
     "metadata": {},
     "output_type": "execute_result"
    }
   ],
   "source": [
    "x_aux\n"
   ]
  },
  {
   "cell_type": "code",
   "execution_count": null,
   "metadata": {},
   "outputs": [],
   "source": []
  }
 ],
 "metadata": {
  "kernelspec": {
   "display_name": "Python 3",
   "language": "python",
   "name": "python3"
  },
  "language_info": {
   "codemirror_mode": {
    "name": "ipython",
    "version": 3
   },
   "file_extension": ".py",
   "mimetype": "text/x-python",
   "name": "python",
   "nbconvert_exporter": "python",
   "pygments_lexer": "ipython3",
   "version": "3.6.8"
  }
 },
 "nbformat": 4,
 "nbformat_minor": 2
}
