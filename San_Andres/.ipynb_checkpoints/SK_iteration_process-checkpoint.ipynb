{
 "cells": [
  {
   "cell_type": "code",
   "execution_count": 1,
   "metadata": {
    "collapsed": true
   },
   "outputs": [],
   "source": [
    "import numpy as np\n",
    "import matplotlib.pyplot as plt\n",
    "from random import sample\n",
    "import time\n",
    "import pdb\n",
    "from scipy import stats\n",
    "\n"
   ]
  },
  {
   "cell_type": "markdown",
   "metadata": {},
   "source": [
    "Define a discrete space of rectangles (hypothesis) and examples (data). 1 sample data."
   ]
  },
  {
   "cell_type": "code",
   "execution_count": 104,
   "metadata": {
    "scrolled": false
   },
   "outputs": [
    {
     "ename": "SyntaxError",
     "evalue": "invalid syntax (<ipython-input-104-3846ca51db3e>, line 59)",
     "output_type": "error",
     "traceback": [
      "\u001b[0;36m  File \u001b[0;32m\"<ipython-input-104-3846ca51db3e>\"\u001b[0;36m, line \u001b[0;32m59\u001b[0m\n\u001b[0;31m    if k>5 and np.multiply(hL-hL0,1/hL0)\u001b[0m\n\u001b[0m                                            ^\u001b[0m\n\u001b[0;31mSyntaxError\u001b[0m\u001b[0;31m:\u001b[0m invalid syntax\n"
     ]
    }
   ],
   "source": [
    "l=10; # size of the board\n",
    "x=range(1,l-1); # x: 1,...,l-2 Left side of the rect.\n",
    "y=range(1,l-1); # y: 1,...,l-2 Bottom of the rect\n",
    "\n",
    "H_space=[];\n",
    "for i in x:\n",
    "    for j in y:\n",
    "        for w in range(2,l-i+1):\n",
    "            for h in range(2,l-j+1):                                \n",
    "                H_space.append((i,j,w,h))\n",
    "\n",
    "Examples=[];\n",
    "for i in range(0,l+2):\n",
    "    for j in range(0,l+2):\n",
    "        Examples.append((i,j));\n",
    "        \n",
    "M=np.zeros([len(Examples),len(H_space)]);\n",
    "for i in range(0,len(Examples)): # if the sample is consistent with the hypothesis M_sample,hyp=1\n",
    "    e=Examples[i];\n",
    "    for j in range(0,len(H_space)):\n",
    "        h=H_space[j];\n",
    "        if not (e[0]<h[0] or e[0]>(h[0]+h[2]) or e[1]<h[1] or e[1]>(h[1]+h[3])): # e must be a circle\n",
    "            M[i,j]=1;\n",
    "            \n",
    "#        if (e[0]<h[0] or e[0]>(h[0]+h[2]) or e[1]<h[1] or e[1]>(h[1]+h[3])): # e must be cross\n",
    "#            M[i,j]=1;\n",
    "                                    \n",
    "L=M[:]\n",
    "T=M[:]\n",
    "eL=[]\n",
    "eT=[]\n",
    "L_uniform=M/np.tile(np.sum(M,axis=1).reshape((M.shape[0],1)),(1,M.shape[1]));\n",
    "T_uniform=M/np.tile(np.sum(M,axis=0).reshape((1,M.shape[1])),(M.shape[0],1));\n",
    "L_uniform[np.isnan(L_uniform)]=0\n",
    "T_uniform[np.isnan(T_uniform)]=0\n",
    "hL=np.zeros(L.shape[0])\n",
    "hT=np.zeros(T.shape[1])\n",
    "for k in range(0,100):\n",
    "    print(k)    \n",
    "    hL0=hL\n",
    "    hT0=hT\n",
    "    \n",
    "    T=L/np.tile(np.sum(L,axis=0).reshape((1,L.shape[1])),(L.shape[0],1));\n",
    "    T[np.isnan(T)]=0;\n",
    "    L=T/np.tile(np.sum(T,axis=1).reshape((T.shape[0],1)),(1,T.shape[1]));\n",
    "    L[np.isnan(L)]=0;\n",
    "        \n",
    "    \n",
    "    Aux=np.multiply(L_uniform,np.log(L))\n",
    "    Aux[np.isnan(Aux)]=0\n",
    "    hL=-np.sum(Aux,axis=1)\n",
    "    \n",
    "    eL.append(np.mean(-np.sum(Aux,axis=1)))\n",
    "\n",
    "    Aux=np.multiply(T_uniform,np.log(T))\n",
    "    Aux[np.isnan(Aux)]=0\n",
    "    eT.append(np.mean(-np.sum(Aux,axis=0)))\n",
    "        \n",
    "    if k>5 and np.multiply(hL-hL0,1/hL0)    \n",
    "        \n",
    "        \n",
    "    if k>5 and (eT[-1]-eT[-2])/eT[-2] < 0.001 and (eL[-1]-eL[-2])/eL[-2] < 0.001:\n",
    "        break\n",
    "    \n",
    "plt.clf()\n",
    "plt.figure();\n",
    "plt.semilogy(eL)                \n",
    "plt.semilogy(eT,'r')\n",
    "plt.show()\n",
    "\n",
    "\n"
   ]
  },
  {
   "cell_type": "markdown",
   "metadata": {},
   "source": [
    "PLOT MOST LIKELY PAIR OF SAMPLES"
   ]
  },
  {
   "cell_type": "code",
   "execution_count": null,
   "metadata": {
    "collapsed": true
   },
   "outputs": [],
   "source": [
    "h_idx=100;\n",
    "print(np.max(T[:,h_idx]))\n",
    "idx=np.where(T[:,h_idx]==np.max(T[:,h_idx]));\n",
    "idx=np.array(idx).flatten()\n",
    "\n",
    "h=H_space[h_idx];\n",
    "\n",
    "\n",
    "col=['k','g','y','m','c']\n",
    "plt.figure()\n",
    "plt.clf()\n",
    "for i in idx:\n",
    "    plt.plot([h[0],h[1],h[1],h[0],h[0]],[h[2],h[2],h[3],h[3],h[2]],'b')\n",
    "    ex_idx=Examples_pair_idx[i];\n",
    "    plt.plot(Examples[ex_idx[0]][0]+0.5,Examples[ex_idx[0]][1]+0.5,'k*')\n",
    "    plt.plot(Examples[ex_idx[1]][0]+0.5,Examples[ex_idx[1]][1]+0.5,'k*')\n",
    "    plt.show()\n",
    "    \n",
    "    \n",
    "\n",
    "    \n",
    "    \n",
    "\n",
    "'''\n",
    "np.sum(T==np.max(T))\n",
    "\n",
    "plt.hist(T[:,10].reshape((T.shape[0],1)))\n",
    "plt.show()\n",
    "a=np.array([[1,6],[3,4]])\n",
    "\n",
    "\n",
    "a=a[:,1]\n",
    "indices = np.where(a == np.max(a))\n",
    "#print(a)\n",
    "#print(indices)\n",
    "'''\n"
   ]
  },
  {
   "cell_type": "code",
   "execution_count": 4,
   "metadata": {
    "collapsed": true,
    "scrolled": true
   },
   "outputs": [],
   "source": [
    "def define_hyp_and_examples_space(l,*n_ex):\n",
    "    \n",
    "    #l=12; # size of the board\n",
    "    #n_ex: number of simultaneous examples (one or two)\n",
    "    \n",
    "\n",
    "    \n",
    "    if not any(n_ex):\n",
    "        n_ex=1 # default number of examples=1\n",
    "    else:\n",
    "        n_ex=n_ex[0]\n",
    "    \n",
    "    \n",
    "    X_left=range(1,l-3); # x: 1,...,l-4 Left side of the rect.\n",
    "    Y_bott=range(1,l-3); # y: 1,...,l-4 Bottom of the rect\n",
    "    x_max=l-1; # max value of x_right\n",
    "    y_max=l-1; # max value of y_top\n",
    "    H_space=[];\n",
    "    for xl in X_left:\n",
    "        for yb in Y_bott:\n",
    "            for xr in range(xl+3,x_max+1):\n",
    "                for yt in range(yb+3,y_max+1):                                \n",
    "                    H_space.append((xl,xr,yb,yt))\n",
    "                            \n",
    "    \n",
    "    if n_ex==1:\n",
    "        Examples=[];\n",
    "        for i in range(0,l):\n",
    "            for j in range(0,l):\n",
    "                Examples.append((i,j)); # CIRCLES: elements 0...(l**2)-1\n",
    "        for i in range(0,l): # CROSSES: elements l**2...2*(l**2)-1\n",
    "            for j in range(0,l):\n",
    "                Examples.append((i,j));    \n",
    "                        \n",
    "        M=np.zeros([len(Examples),len(H_space)],dtype=bool);\n",
    "        ne=-1;\n",
    "        for i in range(0,l**2): # if the sample is consistent with the hypothesis M(sample,hyp)=1        \n",
    "            e1=Examples[i];                        \n",
    "            ne+=1;\n",
    "            for k in range(0,len(H_space)):\n",
    "                h=H_space[k];\n",
    "                if not (e1[0]<h[0] or e1[0]>=h[1] or e1[1]<h[2] or e1[1]>=h[3]): # CIRCLES INSIDE\n",
    "                    M[ne,k]=1;\n",
    "        for i in range(l**2,2*(l**2)):\n",
    "            e1=Examples[i];                        \n",
    "            ne+=1;\n",
    "            for k in range(0,len(H_space)):\n",
    "                h=H_space[k];\n",
    "                if (e1[0]<h[0] or e1[0]>=h[1] or e1[1]<h[2] or e1[1]>=h[3]): # CROSSES OUTSIDE\n",
    "                    M[ne,k]=1;                    \n",
    "                    \n",
    "            \n",
    "    if n_ex==2:        \n",
    "        Examples=[];\n",
    "        for i in range(0,l):\n",
    "            for j in range(0,l):\n",
    "                Examples.append((i,j)); # CIRCLES: elements 0...(l**2)-1\n",
    "        \n",
    "        M=np.zeros([int(len(Examples)*(len(Examples)-1)*0.5),len(H_space)],dtype=bool);\n",
    "        ne=-1;\n",
    "        Examples_pair_idx=[];\n",
    "        for i in range(0,len(Examples)-1): # if the sample is consistent with the hypothesis M(sample,hyp)=1        \n",
    "            e1=Examples[i];\n",
    "            for j in range(i+1,len(Examples)):\n",
    "                e2=Examples[j];\n",
    "                ne+=1;\n",
    "                Examples_pair_idx.append((i,j)); # indices of the pair of examples in the list Examples\n",
    "                for k in range(0,len(H_space)):\n",
    "                    h=H_space[k];\n",
    "                    if not (e1[0]<h[0] or e1[0]>=h[1] or e1[1]<h[2] or e1[1]>=h[3])\\\n",
    "                    and not (e2[0]<h[0] or e2[0]>=h[1] or e2[1]<h[2] or e2[1]>=h[3]): # e1 and e2 must be circles\n",
    "                        M[ne,k]=1;\n",
    "\n",
    "    return M,Examples,H_space\n",
    "            \n",
    "#############################################################################\n",
    "#############################################################################\n",
    "\n",
    "def get_L_T(M):\n",
    "            \n",
    "    L=np.copy(M)\n",
    "    T=np.copy(M)\n",
    "    L=L.astype(float)\n",
    "    T=T.astype(float)\n",
    "    \n",
    "    L_uniform=M/np.tile(np.sum(M,axis=1).reshape((M.shape[0],1)),(1,M.shape[1]));\n",
    "    T_uniform=M/np.tile(np.sum(M,axis=0).reshape((1,M.shape[1])),(M.shape[0],1));\n",
    "    L_uniform[np.isnan(L_uniform)]=0\n",
    "    T_uniform[np.isnan(T_uniform)]=0    \n",
    "    hL=np.zeros(L.shape[0])\n",
    "    hT=np.zeros(T.shape[1])\n",
    "\n",
    "    \n",
    "\n",
    "    nzr=np.any(M,axis=1) # rows with at least 1 non-zero\n",
    "    nzc=np.any(M,axis=0) # cols with at least 1 non-zero    \n",
    "    \n",
    "    for k in range(0,1000):\n",
    "        #L0=L[:]\n",
    "        #T0=T[:]\n",
    "        #t0=time.time()\n",
    "        hL0=np.copy(hL)\n",
    "        hT0=np.copy(hT)\n",
    "\n",
    "        L[nzr,:]=T[nzr,:]/np.tile(np.sum(T[nzr,:],axis=1).reshape((np.sum(nzr),1)),(1,T.shape[1]))\n",
    "        T[:,nzc]=L[:,nzc]/np.tile(np.sum(L[:,nzc],axis=0).reshape((1,np.sum(nzc))),(L.shape[0],1))\n",
    "        \n",
    "        \n",
    "        '''\n",
    "        L1=T1/np.tile(np.sum(T1,axis=1).reshape((T1.shape[0],1)),(1,T1.shape[1]));    \n",
    "        L1[np.isnan(L1)]=0;                                \n",
    "        T1=L1/np.tile(np.sum(L1,axis=0).reshape((1,L1.shape[1])),(L1.shape[0],1));                    \n",
    "        T1[np.isnan(T1)]=0;        \n",
    "        '''\n",
    "\n",
    "        # Error in approximating L by L_uniform and T by T_uniform: (Cross entropy between L0 and L, averaged across data samples; between T0 and T, averaged across haypotheses)\n",
    "        Aux=np.multiply(L_uniform,np.log(L))\n",
    "        Aux[np.isnan(Aux)]=0\n",
    "        hL=-np.sum(Aux,axis=1)\n",
    "        eL=np.abs( (hL[nzr]-hL0[nzr])/hL0[nzr])\n",
    "        eL[np.isnan(eL)]=0\n",
    "\n",
    "    #    eL.append(np.mean(-np.sum(Aux,axis=1)))\n",
    "\n",
    "        logT=np.copy(T)\n",
    "        logT[T>0]=np.log(T[T>0])\n",
    "        Aux=np.multiply(T_uniform,logT)\n",
    "        hT=-np.sum(Aux,axis=0)\n",
    "        eT=np.abs( (hT-hT0)/hT0)\n",
    "        eT[np.isnan(eT)]=0\n",
    "\n",
    "        logL=np.copy(L)\n",
    "        logL[L>0]=np.log(L[L>0])\n",
    "        Aux=np.multiply(L_uniform,logL)\n",
    "        hL=-np.sum(Aux,axis=1)\n",
    "        eL=np.abs( (hL-hL0)/hL0)\n",
    "        eL[np.isnan(eL)]=0        \n",
    "        \n",
    "        \n",
    "        if k>5 and ((eL<0.0001).all()) and ((eT<0.0001).all()):        \n",
    "            break\n",
    "    \n",
    "    return L,T,eL,eT\n",
    "\n",
    "#############################################################################\n",
    "#############################################################################\n",
    "\n",
    "def plot_trial(h,samples,circle,board_size,**kwargs):\n",
    "    plt.clf()\n",
    "    plt.figure()            \n",
    "\n",
    "    probability_map=[];\n",
    "    \n",
    "    if kwargs is not None:\n",
    "        if 'last_guess' in kwargs.keys():\n",
    "            last_guess=kwargs['last_guess']\n",
    "        if 'probability_map' in kwargs.keys():\n",
    "            probability_map=kwargs['probability_map']\n",
    "        \n",
    "        \n",
    "    if any(probability_map):\n",
    "        probability_map=np.squeeze(probability_map)        \n",
    "        in_plus_out=probability_map[0:board_size**2].reshape(board_size,board_size)+probability_map[board_size**2:2*board_size**2].reshape(board_size,board_size)        \n",
    "        plt.pcolormesh(in_plus_out.transpose())\n",
    "        print(in_plus_out.transpose())\n",
    "        #plt.pcolormesh(probability_map[0:board_size**2].reshape(board_size,board_size)+probability_map[board_size**2:2*board_size**2].reshape(board_size,board_size))\n",
    "        plt.colorbar()\n",
    "        #plt.pcolor(probability_map['Examples_space'],probability_map['Probabilities'])        \n",
    "    plt.plot([h[0],h[1],h[1],h[0],h[0]],[h[2],h[2],h[3],h[3],h[2]],'b')\n",
    "    \n",
    "    if 'last_guess' in kwargs.keys():\n",
    "        plt.plot([last_guess[0],last_guess[1],last_guess[1],last_guess[0],last_guess[0]],[last_guess[2],last_guess[2],last_guess[3],last_guess[3],last_guess[2]],'r')\n",
    "    \n",
    "    j=-1\n",
    "    for e in samples:\n",
    "        j+=1\n",
    "        if circle[j]:\n",
    "            plt.plot(e[0]+0.5,e[1]+0.5,'ko')        \n",
    "        else:\n",
    "            plt.plot(e[0]+0.5,e[1]+0.5,'kx')        \n",
    "            \n",
    "    e=samples[-1]\n",
    "    if circle[-1]:\n",
    "        plt.plot(e[0]+0.5,e[1]+0.5,'wo')                \n",
    "    else:\n",
    "        plt.plot(e[0]+0.5,e[1]+0.5,'wx')                \n",
    "    \n",
    "    plt.xlim([0,board_size])\n",
    "    plt.ylim([0,board_size])\n",
    "    plt.show()\n",
    "    \n",
    "    \n",
    "    "
   ]
  },
  {
   "cell_type": "markdown",
   "metadata": {},
   "source": [
    "SIMMULTAION: GIVEN A HYPOTHESIS SELECT THE BEST EXAMPLE UNTIL THE LEARNER FINDS IT\n",
    "\n",
    "0) Define M: the binary matrix of posible combinations of samples (circles and crosses) and hypothesis. Get L* and T* by S-K iteration process.\n",
    "\n",
    "1) Given the true hypothesis, draw a sample d_0 from T*.\n",
    "\n",
    "2) Given the new sample update M: Multiply all the other rows by the d_0 row, and get M(d_0+d,h). Replace the d_0 row by zeros (That sample is no longer elegible). Replace the conjugate-sample row by zeros (if d_0 was a circle, the cross in the same position). Get L* and T* by S-K iteration.\n",
    "\n",
    "3) Draw a hypothesis h_0 from L*. If it is correct, finish the process. If it is wrong, replace the column of h_0 in M by zeros.\n",
    "\n",
    "4) Update M, L* and T*. \n",
    "\n",
    "5) Repeat 1-4.\n",
    "\n",
    "\n",
    "\n",
    "\n"
   ]
  },
  {
   "cell_type": "code",
   "execution_count": 103,
   "metadata": {
    "scrolled": true
   },
   "outputs": [
    {
     "name": "stdout",
     "output_type": "stream",
     "text": [
      "Learner Entropy: 0.0113740369505 CI: 0.00565411266355\n",
      "[[ 0.00727945  0.00727945  0.00727945  0.00727945  0.00727945  0.00727945\n",
      "   0.00727945  0.00727945  0.00727945  0.00727945]\n",
      " [ 0.00727945  0.00777306  0.00833433  0.00887778  0.00919672  0.00919672\n",
      "   0.00887778  0.00833433  0.00777306  0.00727945]\n",
      " [ 0.00727945  0.00833433  0.00970973  0.01127557  0.01232791  0.01232791\n",
      "   0.01127557  0.00970973  0.00833433  0.00727945]\n",
      " [ 0.00727945  0.00887778  0.01127557  0.01457494  0.01723797  0.01260057\n",
      "   0.01454291  0.02053993  0.00887778  0.00727945]\n",
      " [ 0.00727945  0.00919672  0.01232791  0.01723797  0.02182197  0.01092328\n",
      "   0.01260057  0.0177758   0.00919672  0.00727945]\n",
      " [ 0.00727945  0.00919672  0.01232791  0.01723797  0.02182197  0.01092328\n",
      "   0.01260057  0.0177758   0.00919672  0.00727945]\n",
      " [ 0.00727945  0.00887778  0.01127557  0.01457494  0.01723797  0.01723797\n",
      "   0.01457494  0.01127557  0.00887778  0.00727945]\n",
      " [ 0.00727945  0.00833433  0.00970973  0.01127557  0.01232791  0.01232791\n",
      "   0.01127557  0.00970973  0.00833433  0.00727945]\n",
      " [ 0.00727945  0.00777306  0.00833433  0.00887778  0.00919672  0.00919672\n",
      "   0.00887778  0.00833433  0.00777306  0.00727945]\n",
      " [ 0.00727945  0.00727945  0.00727945  0.00727945  0.00727945  0.00727945\n",
      "   0.00727945  0.00727945  0.00727945  0.00727945]]\n"
     ]
    },
    {
     "name": "stderr",
     "output_type": "stream",
     "text": [
      "/Users/ariel/anaconda/lib/python3.6/site-packages/ipykernel_launcher.py:79: RuntimeWarning: invalid value encountered in true_divide\n",
      "/Users/ariel/anaconda/lib/python3.6/site-packages/ipykernel_launcher.py:110: RuntimeWarning: divide by zero encountered in log\n",
      "/Users/ariel/anaconda/lib/python3.6/site-packages/ipykernel_launcher.py:110: RuntimeWarning: invalid value encountered in multiply\n",
      "/Users/ariel/anaconda/lib/python3.6/site-packages/ipykernel_launcher.py:113: RuntimeWarning: divide by zero encountered in true_divide\n",
      "/Users/ariel/anaconda/lib/python3.6/site-packages/ipykernel_launcher.py:122: RuntimeWarning: divide by zero encountered in true_divide\n",
      "/Users/ariel/anaconda/lib/python3.6/site-packages/ipykernel_launcher.py:129: RuntimeWarning: divide by zero encountered in true_divide\n",
      "/Users/ariel/anaconda/lib/python3.6/site-packages/ipykernel_launcher.py:129: RuntimeWarning: invalid value encountered in true_divide\n"
     ]
    },
    {
     "data": {
      "text/plain": [
       "<matplotlib.figure.Figure at 0x1100a5b38>"
      ]
     },
     "metadata": {},
     "output_type": "display_data"
    },
    {
     "data": {
      "image/png": "[encoded data removed]",
      "text/plain": [
       "<matplotlib.figure.Figure at 0x10f00aa90>"
      ]
     },
     "metadata": {},
     "output_type": "display_data"
    },
    {
     "name": "stdout",
     "output_type": "stream",
     "text": [
      "Learner Entropy: 0.00798324192236 CI: 0.0063276787898\n",
      "[[ 0.00754131  0.00754131  0.00754131  0.00754131  0.00754131  0.00754131\n",
      "   0.00754131  0.00754131  0.00754131  0.00754131]\n",
      " [ 0.00754131  0.00787841  0.00807128  0.00825392  0.00819482  0.00884655\n",
      "   0.00910681  0.00889377  0.00830387  0.00754131]\n",
      " [ 0.00754131  0.00807095  0.00827349  0.0084655   0.00819482  0.00966192\n",
      "   0.01047239  0.01019165  0.00899835  0.00754131]\n",
      " [ 0.00754131  0.00825315  0.00846506  0.00866617  0.00819482  0.02684731\n",
      "   0.02028172  0.02142467  0.00969086  0.00754131]\n",
      " [ 0.00754131  0.00819342  0.00819342  0.00819342  0.          0.03083774\n",
      "   0.02057896  0.02057896  0.00989131  0.00754131]\n",
      " [ 0.00754131  0.00884076  0.00964991  0.01035236  0.00986102  0.01648507\n",
      "   0.01380257  0.01548619  0.01072823  0.00754131]\n",
      " [ 0.00754131  0.00909917  0.01045406  0.01182111  0.01172216  0.01630899\n",
      "   0.01842408  0.01512982  0.01072677  0.00754131]\n",
      " [ 0.00754131  0.00888689  0.01017482  0.01146531  0.01172216  0.01444361\n",
      "   0.01511642  0.01282527  0.00990468  0.00754131]\n",
      " [ 0.00754131  0.00830029  0.00899041  0.00967797  0.00987725  0.01071692\n",
      "   0.01072063  0.00990302  0.00872539  0.00754131]\n",
      " [ 0.00754131  0.00754131  0.00754131  0.00754131  0.00754131  0.00754131\n",
      "   0.00754131  0.00754131  0.00754131  0.00754131]]\n"
     ]
    },
    {
     "name": "stderr",
     "output_type": "stream",
     "text": [
      "/Users/ariel/anaconda/lib/python3.6/site-packages/ipykernel_launcher.py:80: RuntimeWarning: invalid value encountered in true_divide\n",
      "/Users/ariel/anaconda/lib/python3.6/site-packages/ipykernel_launcher.py:122: RuntimeWarning: invalid value encountered in true_divide\n"
     ]
    },
    {
     "data": {
      "text/plain": [
       "<matplotlib.figure.Figure at 0x10b662a58>"
      ]
     },
     "metadata": {},
     "output_type": "display_data"
    },
    {
     "data": {
      "image/png": "[encoded data removed]",
      "text/plain": [
       "<matplotlib.figure.Figure at 0x10f255828>"
      ]
     },
     "metadata": {},
     "output_type": "display_data"
    },
    {
     "name": "stdout",
     "output_type": "stream",
     "text": [
      "Learner Entropy: 0.00520964197775 CI: 0.0042011840085\n",
      "[[ 0.00836024  0.00836024  0.00836024  0.00836024  0.00836024  0.00836024\n",
      "   0.00836024  0.00836024  0.00836024  0.00836024]\n",
      " [ 0.00836024  0.00836024  0.00836024  0.00836024  0.00836024  0.01181336\n",
      "   0.01181336  0.01181336  0.00971095  0.00836024]\n",
      " [ 0.00836024  0.00836024  0.00836024  0.00836024  0.00836024  0.02120624\n",
      "   0.02120624  0.02120624  0.01180089  0.00836024]\n",
      " [ 0.00836024  0.00836024  0.00836024  0.00836024  0.00836024  0.00969845\n",
      "   0.00969845  0.00969845  0.01433662  0.00836024]\n",
      " [ 0.00836024  0.00836024  0.00836024  0.00836024  0.          0.\n",
      "   0.00836024  0.00836024  0.01667408  0.00836024]\n",
      " [ 0.00836024  0.00836024  0.00836024  0.00836024  0.00836024  0.00932964\n",
      "   0.00932964  0.00932964  0.01513517  0.00836024]\n",
      " [ 0.00836024  0.00836024  0.00836024  0.00836024  0.00836024  0.0285017\n",
      "   0.0285017   0.0285017   0.01295324  0.00836024]\n",
      " [ 0.00836024  0.00836024  0.00836024  0.00836024  0.00836024  0.01606824\n",
      "   0.01606824  0.01606824  0.01084411  0.00836024]\n",
      " [ 0.00836024  0.00836024  0.00836024  0.00836024  0.00836024  0.01082436\n",
      "   0.01082436  0.01082436  0.00936273  0.00836024]\n",
      " [ 0.00836024  0.00836024  0.00836024  0.00836024  0.00836024  0.00836024\n",
      "   0.00836024  0.00836024  0.00836024  0.00836024]]\n"
     ]
    },
    {
     "data": {
      "text/plain": [
       "<matplotlib.figure.Figure at 0x10fba0438>"
      ]
     },
     "metadata": {},
     "output_type": "display_data"
    },
    {
     "data": {
      "image/png": "[encoded data removed]",
      "text/plain": [
       "<matplotlib.figure.Figure at 0x10f031898>"
      ]
     },
     "metadata": {},
     "output_type": "display_data"
    },
    {
     "name": "stdout",
     "output_type": "stream",
     "text": [
      "Learner Entropy: 0.00157175260783 CI: 0.00300772197697\n",
      "[[ 0.0085275   0.0085275   0.0085275   0.0085275   0.0085275   0.0085275\n",
      "   0.0085275   0.0085275   0.0085275   0.0085275 ]\n",
      " [ 0.0085275   0.0085275   0.0085275   0.0085275   0.0085275   0.0154171\n",
      "   0.0154171   0.0154171   0.01092993  0.0085275 ]\n",
      " [ 0.0085275   0.0085275   0.0085275   0.0085275   0.0085275   0.04065914\n",
      "   0.04065914  0.04065914  0.01547387  0.0085275 ]\n",
      " [ 0.0085275   0.0085275   0.0085275   0.0085275   0.0085275   0.0085275\n",
      "   0.0085275   0.0085275   0.01909721  0.0085275 ]\n",
      " [ 0.0085275   0.0085275   0.0085275   0.0085275   0.          0.\n",
      "   0.0085275   0.0085275   0.01909721  0.0085275 ]\n",
      " [ 0.0085275   0.0085275   0.0085275   0.0085275   0.0085275   0.0155631\n",
      "   0.0155631   0.0155631   0.01270131  0.0085275 ]\n",
      " [ 0.0085275   0.0085275   0.0085275   0.0085275   0.0085275   0.\n",
      "   0.0085275   0.0085275   0.0085275   0.0085275 ]\n",
      " [ 0.0085275   0.0085275   0.0085275   0.0085275   0.0085275   0.0085275\n",
      "   0.0085275   0.0085275   0.0085275   0.0085275 ]\n",
      " [ 0.0085275   0.0085275   0.0085275   0.0085275   0.0085275   0.0085275\n",
      "   0.0085275   0.0085275   0.0085275   0.0085275 ]\n",
      " [ 0.0085275   0.0085275   0.0085275   0.0085275   0.0085275   0.0085275\n",
      "   0.0085275   0.0085275   0.0085275   0.0085275 ]]\n"
     ]
    },
    {
     "data": {
      "text/plain": [
       "<matplotlib.figure.Figure at 0x110047d68>"
      ]
     },
     "metadata": {},
     "output_type": "display_data"
    },
    {
     "data": {
      "image/png": "[encoded data removed]",
      "text/plain": [
       "<matplotlib.figure.Figure at 0x1100b1dd8>"
      ]
     },
     "metadata": {},
     "output_type": "display_data"
    },
    {
     "name": "stdout",
     "output_type": "stream",
     "text": [
      "Win at: 3\n"
     ]
    },
    {
     "data": {
      "image/png": "[encoded data removed]",
      "text/plain": [
       "<matplotlib.figure.Figure at 0x1100a5630>"
      ]
     },
     "metadata": {},
     "output_type": "display_data"
    }
   ],
   "source": [
    "board_size=10\n",
    "M, Examples_space,H_space=define_hyp_and_examples_space(board_size)\n",
    "L,T,_,_ =get_L_T(M)    \n",
    "\n",
    "#ipdb.set_trace()\n",
    "\n",
    "samples=[]\n",
    "circle=[]\n",
    "guesses=[]\n",
    "\n",
    "CI=[]# cooperative index\n",
    "\n",
    "h_idx=400\n",
    "\n",
    "for it in range(0,10):\n",
    "    \n",
    "    CI.append(np.sum(np.multiply(L,T))/len(H_space))\n",
    "    \n",
    "    # DRAW SAMPLE FROM SAMPLE DISTRIBUTION GIVEN HYPOTHESIS\n",
    "    '''\n",
    "    xk = np.arange(len(Examples_space))\n",
    "    pk = T[:,h_idx]\n",
    "    custm = stats.rv_discrete(name='custm', values=(xk, pk))\n",
    "    i_sample = custm.rvs(size=1)[0]\n",
    "    \n",
    "\n",
    "    xk = np.arange(len(H_space))\n",
    "    pk = L[i_sample,:]\n",
    "    custm = stats.rv_discrete(name='custm', values=(xk, pk))\n",
    "    i_guess = custm.rvs(size=1)[0]\n",
    "    '''\n",
    "    \n",
    "    i_sample=np.argmax(T[:,h_idx]) # OPTIMAL SAMPLE GIVEN THE HYPOTHESIS    \n",
    "    i_guess=np.argmax(L[i_sample,:]) # OPTIMAL SAMPLE GIVEN THE HYPOTHESIS\n",
    "    \n",
    "    samples.append(Examples_space[i_sample])\n",
    "    guesses.append(H_space[i_guess])\n",
    "    if i_sample<board_size**2:\n",
    "        circle.append(True)\n",
    "    else:\n",
    "        circle.append(False)\n",
    "    \n",
    "    p=L[i_sample,np.nonzero(L[i_sample,:])]\n",
    "    HL=-np.sum(np.log(p)*p)/len(H_space) \n",
    "    print('Learner Entropy:',HL,'CI:',CI[-1])\n",
    "        \n",
    "#    plot_trial(H_space[h_idx],samples,board_size=board_size,probabilities_map=T[:,h_idx],last_guess=H_space[i_guess])\n",
    "    plot_trial(H_space[h_idx],samples,circle,board_size,probability_map=T[:,h_idx],last_guess=H_space[i_guess])    \n",
    "    if i_guess==h_idx:\n",
    "        print('Win at:',it)\n",
    "        break\n",
    "    \n",
    "    \n",
    "    for j in range(0,M.shape[0]):        \n",
    "        M[j,:]=np.multiply(M[j,:],M[i_sample,:])\n",
    "            \n",
    "    M[i_sample,:]=0\n",
    "    if i_sample< board_size**2:\n",
    "        M[i_sample+board_size**2,:]=0 # remove the conjugate sample row\n",
    "    else:\n",
    "        M[i_sample-board_size**2,:]=0 # remove the conjugate sample row\n",
    "                        \n",
    "    M[:,i_guess]=0\n",
    "            \n",
    "    L,T,_,_ =get_L_T(M)    \n",
    "                \n",
    "plt.plot(CI)\n",
    "plt.show()\n",
    "\n"
   ]
  },
  {
   "cell_type": "code",
   "execution_count": 6,
   "metadata": {},
   "outputs": [
    {
     "name": "stderr",
     "output_type": "stream",
     "text": [
      "/home/ahaimovici/anaconda3/lib/python3.6/site-packages/ipykernel_launcher.py:85: RuntimeWarning: invalid value encountered in true_divide\n",
      "/home/ahaimovici/anaconda3/lib/python3.6/site-packages/ipykernel_launcher.py:116: RuntimeWarning: divide by zero encountered in log\n",
      "/home/ahaimovici/anaconda3/lib/python3.6/site-packages/ipykernel_launcher.py:116: RuntimeWarning: invalid value encountered in multiply\n",
      "/home/ahaimovici/anaconda3/lib/python3.6/site-packages/ipykernel_launcher.py:119: RuntimeWarning: divide by zero encountered in true_divide\n",
      "/home/ahaimovici/anaconda3/lib/python3.6/site-packages/ipykernel_launcher.py:119: RuntimeWarning: invalid value encountered in true_divide\n",
      "/home/ahaimovici/anaconda3/lib/python3.6/site-packages/ipykernel_launcher.py:128: RuntimeWarning: divide by zero encountered in true_divide\n",
      "/home/ahaimovici/anaconda3/lib/python3.6/site-packages/ipykernel_launcher.py:135: RuntimeWarning: divide by zero encountered in true_divide\n",
      "/home/ahaimovici/anaconda3/lib/python3.6/site-packages/ipykernel_launcher.py:135: RuntimeWarning: invalid value encountered in true_divide\n"
     ]
    },
    {
     "name": "stdout",
     "output_type": "stream",
     "text": [
      "[[ 0.  0.  0.  0.  0.  0.  0.  0.  0.  0.]\n",
      " [ 0.  0.  0.  0.  0.  0.  0.  0.  0.  0.]\n",
      " [ 0.  0.  0.  0.  0.  0.  0.  0.  0.  0.]\n",
      " [ 0.  0.  0.  0.  0.  0.  0.  0.  0.  0.]\n",
      " [ 0.  0.  0.  0.  0.  0.  0.  0.  0.  0.]\n",
      " [ 0.  0.  0.  0.  0.  0.  0.  0.  0.  0.]\n",
      " [ 0.  0.  0.  0.  0.  0.  0.  0.  0.  0.]\n",
      " [ 0.  0.  0.  0.  0.  0.  0.  0.  0.  0.]\n",
      " [ 0.  0.  0.  0.  0.  0.  0.  0.  0.  0.]\n",
      " [ 0.  0.  0.  0.  0.  0.  0.  0.  0.  0.]]\n"
     ]
    },
    {
     "ename": "IndexError",
     "evalue": "list index out of range",
     "output_type": "error",
     "traceback": [
      "\u001b[0;31m---------------------------------------------------------------------------\u001b[0m",
      "\u001b[0;31mIndexError\u001b[0m                                Traceback (most recent call last)",
      "\u001b[0;32m<ipython-input-6-3551fb6ebd4f>\u001b[0m in \u001b[0;36m<module>\u001b[0;34m()\u001b[0m\n\u001b[1;32m      6\u001b[0m \u001b[0mh_idx\u001b[0m\u001b[0;34m=\u001b[0m\u001b[0;36m10\u001b[0m\u001b[0;34m\u001b[0m\u001b[0m\n\u001b[1;32m      7\u001b[0m \u001b[0;34m\u001b[0m\u001b[0m\n\u001b[0;32m----> 8\u001b[0;31m \u001b[0mplot_trial\u001b[0m\u001b[0;34m(\u001b[0m\u001b[0mH_space\u001b[0m\u001b[0;34m[\u001b[0m\u001b[0mh_idx\u001b[0m\u001b[0;34m]\u001b[0m\u001b[0;34m,\u001b[0m\u001b[0;34m[\u001b[0m\u001b[0;34m]\u001b[0m\u001b[0;34m,\u001b[0m\u001b[0;34m[\u001b[0m\u001b[0;34m]\u001b[0m\u001b[0;34m,\u001b[0m\u001b[0mboard_size\u001b[0m\u001b[0;34m,\u001b[0m\u001b[0mprobability_map\u001b[0m\u001b[0;34m=\u001b[0m\u001b[0mT\u001b[0m\u001b[0;34m[\u001b[0m\u001b[0;34m:\u001b[0m\u001b[0;34m,\u001b[0m\u001b[0mh_idx\u001b[0m\u001b[0;34m]\u001b[0m\u001b[0;34m)\u001b[0m\u001b[0;34m\u001b[0m\u001b[0m\n\u001b[0m\u001b[1;32m      9\u001b[0m \u001b[0;34m\u001b[0m\u001b[0m\n",
      "\u001b[0;32m<ipython-input-4-7411dbb97478>\u001b[0m in \u001b[0;36mplot_trial\u001b[0;34m(h, samples, circle, board_size, **kwargs)\u001b[0m\n\u001b[1;32m    179\u001b[0m             \u001b[0mplt\u001b[0m\u001b[0;34m.\u001b[0m\u001b[0mplot\u001b[0m\u001b[0;34m(\u001b[0m\u001b[0me\u001b[0m\u001b[0;34m[\u001b[0m\u001b[0;36m0\u001b[0m\u001b[0;34m]\u001b[0m\u001b[0;34m+\u001b[0m\u001b[0;36m0.5\u001b[0m\u001b[0;34m,\u001b[0m\u001b[0me\u001b[0m\u001b[0;34m[\u001b[0m\u001b[0;36m1\u001b[0m\u001b[0;34m]\u001b[0m\u001b[0;34m+\u001b[0m\u001b[0;36m0.5\u001b[0m\u001b[0;34m,\u001b[0m\u001b[0;34m'kx'\u001b[0m\u001b[0;34m)\u001b[0m\u001b[0;34m\u001b[0m\u001b[0m\n\u001b[1;32m    180\u001b[0m \u001b[0;34m\u001b[0m\u001b[0m\n\u001b[0;32m--> 181\u001b[0;31m     \u001b[0me\u001b[0m\u001b[0;34m=\u001b[0m\u001b[0msamples\u001b[0m\u001b[0;34m[\u001b[0m\u001b[0;34m-\u001b[0m\u001b[0;36m1\u001b[0m\u001b[0;34m]\u001b[0m\u001b[0;34m\u001b[0m\u001b[0m\n\u001b[0m\u001b[1;32m    182\u001b[0m     \u001b[0;32mif\u001b[0m \u001b[0mcircle\u001b[0m\u001b[0;34m[\u001b[0m\u001b[0;34m-\u001b[0m\u001b[0;36m1\u001b[0m\u001b[0;34m]\u001b[0m\u001b[0;34m:\u001b[0m\u001b[0;34m\u001b[0m\u001b[0m\n\u001b[1;32m    183\u001b[0m         \u001b[0mplt\u001b[0m\u001b[0;34m.\u001b[0m\u001b[0mplot\u001b[0m\u001b[0;34m(\u001b[0m\u001b[0me\u001b[0m\u001b[0;34m[\u001b[0m\u001b[0;36m0\u001b[0m\u001b[0;34m]\u001b[0m\u001b[0;34m+\u001b[0m\u001b[0;36m0.5\u001b[0m\u001b[0;34m,\u001b[0m\u001b[0me\u001b[0m\u001b[0;34m[\u001b[0m\u001b[0;36m1\u001b[0m\u001b[0;34m]\u001b[0m\u001b[0;34m+\u001b[0m\u001b[0;36m0.5\u001b[0m\u001b[0;34m,\u001b[0m\u001b[0;34m'wo'\u001b[0m\u001b[0;34m)\u001b[0m\u001b[0;34m\u001b[0m\u001b[0m\n",
      "\u001b[0;31mIndexError\u001b[0m: list index out of range"
     ]
    }
   ],
   "source": [
    "board_size=10\n",
    "n_ex=2\n",
    "M, Examples_space,H_space=define_hyp_and_examples_space(board_size,n_ex)\n",
    "L,T,_,_ =get_L_T(M)    \n",
    "\n",
    "h_idx=10\n",
    "\n",
    "plot_trial(H_space[h_idx],[],[],board_size,probability_map=T[:,h_idx])\n",
    "\n"
   ]
  },
  {
   "cell_type": "code",
   "execution_count": 130,
   "metadata": {},
   "outputs": [],
   "source": [
    "if 'hola' in kw.keys():\n",
    "    print('si')"
   ]
  },
  {
   "cell_type": "code",
   "execution_count": null,
   "metadata": {
    "collapsed": true
   },
   "outputs": [],
   "source": [
    "\n",
    "\n",
    "M=np.array([[0,0,0,0],\n",
    "   [1,0,1,1],\n",
    "   [1,0,0,0],\n",
    "   [0,0,0,0]])\n",
    "\n",
    "L,T,_,_ =get_L_T(M)    \n",
    "\n",
    "\n",
    "\n",
    "\n",
    "\n",
    "'''\n",
    "L_uniform=M/np.tile(np.sum(M,axis=1).reshape((M.shape[0],1)),(1,M.shape[1]));\n",
    "T_uniform=M/np.tile(np.sum(M,axis=0).reshape((1,M.shape[1])),(M.shape[0],1));\n",
    "L_uniform[np.isnan(L_uniform)]=0\n",
    "'''\n",
    "'''\n",
    "L=np.copy(M)\n",
    "T=np.copy(M)\n",
    "L=L.astype(float)\n",
    "T=T.astype(float)\n",
    "L1=np.copy(L)\n",
    "T1=np.copy(T)\n",
    "'''        \n",
    "\n",
    "#L[nzr,:]=T[nzr,:]/np.tile(np.sum(T[nzr,:],axis=1).reshape((np.sum(nzr),1)),(1,T.shape[1]))\n",
    "#T[:,nzc]=L[:,nzc]/np.tile(np.sum(L[:,nzc],axis=0).reshape((1,np.sum(nzc))),(L.shape[0],1))\n",
    "\n"
   ]
  },
  {
   "cell_type": "code",
   "execution_count": 110,
   "metadata": {
    "collapsed": true
   },
   "outputs": [
    {
     "name": "stdout",
     "output_type": "stream",
     "text": [
      "M\n",
      "[[0 0 0 0]\n",
      " [1 0 1 1]\n",
      " [1 0 0 0]\n",
      " [0 0 0 0]]\n",
      "L\n",
      "[[  0.00000000e+000   0.00000000e+000   0.00000000e+000   0.00000000e+000]\n",
      " [  3.11087873e-302   0.00000000e+000   5.00000000e-001   5.00000000e-001]\n",
      " [  1.00000000e+000   0.00000000e+000   0.00000000e+000   0.00000000e+000]\n",
      " [  0.00000000e+000   0.00000000e+000   0.00000000e+000   0.00000000e+000]]\n",
      "T\n",
      "[[  0.00000000e+000   0.00000000e+000   0.00000000e+000   0.00000000e+000]\n",
      " [  3.11087873e-302   0.00000000e+000   1.00000000e+000   1.00000000e+000]\n",
      " [  1.00000000e+000   0.00000000e+000   0.00000000e+000   0.00000000e+000]\n",
      " [  0.00000000e+000   0.00000000e+000   0.00000000e+000   0.00000000e+000]]\n"
     ]
    }
   ],
   "source": [
    "print('M')\n",
    "print(M)\n",
    "print('L')\n",
    "print(L)\n",
    "print('T')\n",
    "print(T)"
   ]
  },
  {
   "cell_type": "code",
   "execution_count": 111,
   "metadata": {},
   "outputs": [
    {
     "data": {
      "text/plain": [
       "441"
      ]
     },
     "execution_count": 111,
     "metadata": {},
     "output_type": "execute_result"
    }
   ],
   "source": [
    "len(H_space)"
   ]
  },
  {
   "cell_type": "code",
   "execution_count": 101,
   "metadata": {},
   "outputs": [
    {
     "name": "stdout",
     "output_type": "stream",
     "text": [
      "[[ 0.15077927  0.33680416  0.20224905]\n",
      " [ 0.13932067  0.60827744  0.2225542 ]]\n",
      "[[ 0.15077927  0.13932067]\n",
      " [ 0.33680416  0.60827744]\n",
      " [ 0.20224905  0.2225542 ]]\n"
     ]
    }
   ],
   "source": [
    "a=np.random.rand(2,3)\n",
    "print(a)\n",
    "a.transpose()\n",
    "print(a.transpose())"
   ]
  },
  {
   "cell_type": "code",
   "execution_count": 76,
   "metadata": {},
   "outputs": [
    {
     "data": {
      "text/plain": [
       "-0.35209479506946623"
      ]
     },
     "execution_count": 76,
     "metadata": {},
     "output_type": "execute_result"
    }
   ],
   "source": [
    "p[0][1]*np.log(p[0][1])"
   ]
  }
 ],
 "metadata": {
  "kernelspec": {
   "display_name": "Python 3",
   "language": "python",
   "name": "python3"
  },
  "language_info": {
   "codemirror_mode": {
    "name": "ipython",
    "version": 3
   },
   "file_extension": ".py",
   "mimetype": "text/x-python",
   "name": "python",
   "nbconvert_exporter": "python",
   "pygments_lexer": "ipython3",
   "version": "3.6.1"
  }
 },
 "nbformat": 4,
 "nbformat_minor": 2
}
