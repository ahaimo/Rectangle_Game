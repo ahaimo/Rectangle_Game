{
 "cells": [
  {
   "cell_type": "code",
   "execution_count": 8,
   "metadata": {
    "collapsed": true
   },
   "outputs": [],
   "source": [
    "import pandas as pd\n",
    "import numpy as np\n",
    "from random import shuffle\n",
    "\n",
    "\n"
   ]
  },
  {
   "cell_type": "code",
   "execution_count": 9,
   "metadata": {
    "scrolled": true
   },
   "outputs": [
    {
     "name": "stdout",
     "output_type": "stream",
     "text": [
      "2. A 6 6\n",
      "2. B 7 6\n",
      "2. C 6 6\n",
      "4. A 9 11\n",
      "4. B 9 8\n",
      "4. C 11 12\n",
      "6. A 10 4\n",
      "6. B 2 5\n",
      "6. C 9 2\n"
     ]
    }
   ],
   "source": [
    "xls = pd.ExcelFile(\"Participantes_gen.xlsx\")\n",
    "\n",
    "sheetX = xls.parse(0) #2 is the sheet number\n",
    "\n",
    "nivel = sheetX['Nivel'];\n",
    "alumno=sheetX['Alumno'];\n",
    "curso=sheetX['Curso'];\n",
    "genero=sheetX['Género supuesto'];\n",
    "\n",
    "uc,nc=np.unique(curso, return_counts=True);\n",
    "g,ng=np.unique(genero, return_counts=True);\n",
    "\n",
    "Data=[];\n",
    "for c in uc:     \n",
    "    idx=[];\n",
    "    j=0;\n",
    "    for i in curso:        \n",
    "        if i==c:\n",
    "            idx.append(j);\n",
    "        j+=1;    \n",
    "    nF=0;\n",
    "    nM=0;\n",
    "    F=[];\n",
    "    M=[];        \n",
    "    for k in idx:\n",
    "        if genero[k]=='F':\n",
    "            nF+=1;\n",
    "            F.append(alumno[k]);\n",
    "        else:\n",
    "            nM+=1;\n",
    "            M.append(alumno[k]);\n",
    "            \n",
    "    Data.append({'curso':c,'nivel':c[0],'M':M,'F':F})\n",
    "    print(c,nF,nM)\n",
    "    \n",
    "n=0;\n",
    "D=[];\n",
    "for a in alumno:\n",
    "    D.append({'alumno':a,'nivel':nivel[n],'curso':curso[n],'genero':genero[n]})\n",
    "    n+=1;\n",
    "\n",
    "    \n",
    "    "
   ]
  },
  {
   "cell_type": "code",
   "execution_count": 26,
   "metadata": {},
   "outputs": [],
   "source": [
    "\n",
    "# parejas 2do M\n",
    "P_2M=[\n",
    "'AB',\n",
    "'AB',\n",
    "'AB',\n",
    "'AC',\n",
    "'AC',\n",
    "'AC',\n",
    "'BC',\n",
    "'BC',\n",
    "'BC'];\n",
    "\n",
    "# parejas 2do F\n",
    "P_2F=[    \n",
    "'AB',\n",
    "'AB',\n",
    "'AB',\n",
    "'AC',\n",
    "'AC',\n",
    "'AC',\n",
    "'BC',\n",
    "'BC',\n",
    "'BC'   \n",
    "];\n",
    "#B\n",
    "\n",
    "\n",
    "\n",
    "# parejas 6to F\n",
    "P_6F=[\n",
    "'AC',\n",
    "'AC',\n",
    "'AC',\n",
    "'AC',\n",
    "'AC',\n",
    "'AC',\n",
    "'AC',\n",
    "'AC',\n",
    "'AB',\n",
    "'AB'];\n",
    "# C\n",
    "\n",
    "# parejas 6to M\n",
    "P_6M=[\n",
    "'AB',\n",
    "'AB',\n",
    "'AB',\n",
    "'AC',\n",
    "'BC'];\n",
    "#B\n",
    "\n",
    "# parejas 4to F\n",
    "P_4F=[\n",
    "'AB',\n",
    "'AB',\n",
    "'AB',\n",
    "'AB',\n",
    "'AC',\n",
    "'AC',\n",
    "'AC',\n",
    "'AC',\n",
    "'AC',\n",
    "'BC',\n",
    "'BC',\n",
    "'BC',\n",
    "'BC',\n",
    "'BC'];\n",
    "#C \n",
    "\n",
    "# parejas 4to M\n",
    "P_4M=[\n",
    "'AB',\n",
    "'AB',\n",
    "'AB',\n",
    "'AB',\n",
    "'AC',\n",
    "'AC',\n",
    "'AC',\n",
    "'AC',\n",
    "'AC',\n",
    "'AC',\n",
    "'AC',\n",
    "'BC',\n",
    "'BC',\n",
    "'BC',\n",
    "'BC'];\n",
    "#C\n"
   ]
  },
  {
   "cell_type": "code",
   "execution_count": 15,
   "metadata": {},
   "outputs": [
    {
     "name": "stdout",
     "output_type": "stream",
     "text": [
      "9 9\n",
      "10 5\n",
      "14 15\n"
     ]
    }
   ],
   "source": [
    "print(len(P_2F),len(P_2M))\n",
    "print(len(P_6F),len(P_6M))\n",
    "print(len(P_4F),len(P_4M))\n",
    "\n",
    "\n",
    "\n"
   ]
  },
  {
   "cell_type": "markdown",
   "metadata": {},
   "source": [
    "# Dos días: 5hs total - 8 sesiones de 35min \n",
    "\n",
    "\n",
    "\n"
   ]
  },
  {
   "cell_type": "code",
   "execution_count": 37,
   "metadata": {
    "scrolled": false
   },
   "outputs": [],
   "source": [
    "# parejas 2do\n",
    "n=6;\n",
    "g='F';\n",
    "\n",
    "lista_A=[];\n",
    "lista_B=[];\n",
    "lista_C=[];\n",
    "for a in D:\n",
    "    if a['genero']==g and a['nivel']==n and a['curso']==str(n)+'. A':\n",
    "        lista_A.append(a);\n",
    "    elif a['genero']==g and a['nivel']==n and a['curso']==str(n)+'. B':\n",
    "        lista_B.append(a);\n",
    "    elif a['genero']==g and a['nivel']==n and a['curso']==str(n)+'. C':\n",
    "        lista_C.append(a);\n",
    "shuffle(lista_A)        \n",
    "shuffle(lista_B)        \n",
    "shuffle(lista_C)\n",
    "\n",
    "\n",
    "    \n",
    "        \n",
    "        \n"
   ]
  },
  {
   "cell_type": "code",
   "execution_count": 38,
   "metadata": {},
   "outputs": [
    {
     "name": "stdout",
     "output_type": "stream",
     "text": [
      "LACRUZ Mateo\n",
      "CANITROT Agustin\n",
      "WU Esteban\n",
      "SOBRERO Lucas\n",
      "LO RUSSO Constantino\n",
      "%%%%%%%%%%%%%%%%%%%%%%%%%%%%%%%%%%%\n",
      "6. A\n",
      "6. A\n",
      "6. A\n",
      "6. A\n",
      "6. B\n",
      "%%%%%%%%%%%%%%%%%%%%%%%%%%%%%%%%%%%\n",
      "LERER Rafael\n",
      "GROZOVSKY Milo\n",
      "WU Rick Ezequiel\n",
      "KALPAKIAN Manuel\n",
      "DE ARANZAMENDI Franco Andres\n",
      "6. B\n",
      "6. B\n",
      "6. B\n",
      "6. C\n",
      "6. C\n",
      "%%%%%%%%%%%%%%%%%%%%%%%%%%%%%%%%%%%\n"
     ]
    }
   ],
   "source": [
    "i=0;\n",
    "j=0;\n",
    "k=0;\n",
    "grupo=P_6F;\n",
    "for p in grupo:    \n",
    "    if p=='AB':\n",
    "        print(lista_A[i]['alumno']);\n",
    "        #print(lista_B[j]['alumno']);\n",
    "        i+=1;\n",
    "        j+=1;\n",
    "    elif p=='AC':    \n",
    "        print(lista_A[i]['alumno']);\n",
    "        #print(lista_C[k]['alumno']);\n",
    "        i+=1;\n",
    "        k+=1;        \n",
    "    elif p=='BC':    \n",
    "        print(lista_B[j]['alumno']);\n",
    "        #print(lista_C[k]['alumno']);\n",
    "        j+=1;\n",
    "        k+=1;    \n",
    "        \n",
    "print('%%%%%%%%%%%%%%%%%%%%%%%%%%%%%%%%%%%')        \n",
    "\n",
    "i=0;\n",
    "j=0;\n",
    "k=0;\n",
    "for p in grupo:    \n",
    "    if p=='AB':\n",
    "        print(lista_A[i]['curso']);\n",
    "        #print(lista_B[j]['curso']);\n",
    "        i+=1;\n",
    "        j+=1;\n",
    "    elif p=='AC':    \n",
    "        print(lista_A[i]['curso']);\n",
    "        #print(lista_C[k]['curso']);\n",
    "        i+=1;\n",
    "        k+=1;        \n",
    "    elif p=='BC':    \n",
    "        print(lista_B[j]['curso']);\n",
    "        #print(lista_C[k]['curso']);\n",
    "        j+=1;\n",
    "        k+=1;    \n",
    "        \n",
    "print('%%%%%%%%%%%%%%%%%%%%%%%%%%%%%%%%%%%')        \n",
    "\n",
    "\n",
    "i=0;\n",
    "j=0;\n",
    "k=0;        \n",
    "for p in grupo:    \n",
    "    if p=='AB':\n",
    "        #print(lista_A[i]['alumno']);\n",
    "        print(lista_B[j]['alumno']);\n",
    "        i+=1;\n",
    "        j+=1;\n",
    "    elif p=='AC':    \n",
    "        #print(lista_A[i]['alumno']);\n",
    "        print(lista_C[k]['alumno']);\n",
    "        i+=1;\n",
    "        k+=1;        \n",
    "    elif p=='BC':    \n",
    "        #print(lista_B[j]['alumno']);\n",
    "        print(lista_C[k]['alumno']);\n",
    "        j+=1;\n",
    "        k+=1;        \n",
    "        \n",
    "i=0;\n",
    "j=0;\n",
    "k=0;\n",
    "for p in grupo:    \n",
    "    if p=='AB':\n",
    "        #print(lista_A[i]['curso']);\n",
    "        print(lista_B[j]['curso']);\n",
    "        i+=1;\n",
    "        j+=1;\n",
    "    elif p=='AC':    \n",
    "        #print(lista_A[i]['curso']);\n",
    "        print(lista_C[k]['curso']);\n",
    "        i+=1;\n",
    "        k+=1;        \n",
    "    elif p=='BC':    \n",
    "        #print(lista_B[j]['curso']);\n",
    "        print(lista_C[k]['curso']);\n",
    "        j+=1;\n",
    "        k+=1;    \n",
    "        \n",
    "print('%%%%%%%%%%%%%%%%%%%%%%%%%%%%%%%%%%%')        \n",
    "        \n",
    "        "
   ]
  },
  {
   "cell_type": "code",
   "execution_count": 33,
   "metadata": {},
   "outputs": [
    {
     "data": {
      "text/plain": [
       "[{'alumno': 'LACRUZ Mateo', 'curso': '6. A', 'genero': 'M', 'nivel': 6},\n",
       " {'alumno': 'SOBRERO Lucas', 'curso': '6. A', 'genero': 'M', 'nivel': 6},\n",
       " {'alumno': 'WU Esteban', 'curso': '6. A', 'genero': 'M', 'nivel': 6},\n",
       " {'alumno': 'CANITROT Agustin', 'curso': '6. A', 'genero': 'M', 'nivel': 6}]"
      ]
     },
     "execution_count": 33,
     "metadata": {},
     "output_type": "execute_result"
    }
   ],
   "source": [
    "lista_A"
   ]
  },
  {
   "cell_type": "code",
   "execution_count": 36,
   "metadata": {},
   "outputs": [
    {
     "name": "stdout",
     "output_type": "stream",
     "text": [
      "CANITROT Agustin 6. A LERER Rafael 6. B\n",
      "LACRUZ Mateo 6. A LO RUSSO Constantino 6. B\n",
      "SOBRERO Lucas 6. A WU Rick Ezequiel 6. B\n",
      "WU Esteban 6. A DE ARANZAMENDI Franco Andres 6. C\n",
      "GROZOVSKY Milo 6. B KALPAKIAN Manuel 6. C\n"
     ]
    }
   ],
   "source": [
    "i=0;\n",
    "j=0;\n",
    "k=0;\n",
    "for p in P_6M:    \n",
    "    if p=='AB':\n",
    "        print(lista_A[i]['alumno'],lista_A[i]['curso'],lista_B[j]['alumno'],lista_B[j]['curso']);\n",
    "        i+=1;\n",
    "        j+=1;\n",
    "    elif p=='AC':    \n",
    "        print(lista_A[i]['alumno'],lista_A[i]['curso'],lista_C[k]['alumno'],lista_C[k]['curso']);\n",
    "        i+=1;\n",
    "        k+=1;        \n",
    "    elif p=='BC':    \n",
    "        print(lista_B[j]['alumno'],lista_B[j]['curso'],lista_C[k]['alumno'],lista_C[k]['curso']);\n",
    "        j+=1;\n",
    "        k+=1;    \n",
    "        \n",
    "        \n",
    "        \n",
    "        "
   ]
  },
  {
   "cell_type": "code",
   "execution_count": 24,
   "metadata": {},
   "outputs": [
    {
     "data": {
      "text/plain": [
       "{'alumno': 'ONDARRA Uma', 'curso': '2. B', 'genero': 'F', 'nivel': 2}"
      ]
     },
     "execution_count": 24,
     "metadata": {},
     "output_type": "execute_result"
    }
   ],
   "source": [
    "lista_B[-1]"
   ]
  },
  {
   "cell_type": "code",
   "execution_count": null,
   "metadata": {
    "collapsed": true
   },
   "outputs": [],
   "source": []
  },
  {
   "cell_type": "code",
   "execution_count": null,
   "metadata": {
    "collapsed": true
   },
   "outputs": [],
   "source": []
  },
  {
   "cell_type": "code",
   "execution_count": null,
   "metadata": {},
   "outputs": [],
   "source": [
    "j"
   ]
  },
  {
   "cell_type": "code",
   "execution_count": null,
   "metadata": {},
   "outputs": [],
   "source": [
    "k"
   ]
  },
  {
   "cell_type": "code",
   "execution_count": null,
   "metadata": {
    "collapsed": true
   },
   "outputs": [],
   "source": []
  },
  {
   "cell_type": "code",
   "execution_count": null,
   "metadata": {
    "collapsed": true
   },
   "outputs": [],
   "source": []
  },
  {
   "cell_type": "code",
   "execution_count": null,
   "metadata": {},
   "outputs": [],
   "source": [
    "len(lista)"
   ]
  }
 ],
 "metadata": {
  "kernelspec": {
   "display_name": "Python 3",
   "language": "python",
   "name": "python3"
  },
  "language_info": {
   "codemirror_mode": {
    "name": "ipython",
    "version": 3
   },
   "file_extension": ".py",
   "mimetype": "text/x-python",
   "name": "python",
   "nbconvert_exporter": "python",
   "pygments_lexer": "ipython3",
   "version": "3.6.1"
  }
 },
 "nbformat": 4,
 "nbformat_minor": 2
}
