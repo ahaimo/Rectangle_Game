{
 "cells": [
  {
   "cell_type": "code",
   "execution_count": 1,
   "metadata": {
    "collapsed": true
   },
   "outputs": [
    {
     "ename": "ModuleNotFoundError",
     "evalue": "No module named 'functions_SK_RG'",
     "output_type": "error",
     "traceback": [
      "\u001b[0;31m---------------------------------------------------------------------------\u001b[0m",
      "\u001b[0;31mModuleNotFoundError\u001b[0m                       Traceback (most recent call last)",
      "\u001b[0;32m<ipython-input-1-1859f02946c3>\u001b[0m in \u001b[0;36m<module>\u001b[0;34m()\u001b[0m\n\u001b[1;32m      5\u001b[0m \u001b[0;32mimport\u001b[0m \u001b[0mpdb\u001b[0m\u001b[0;34m\u001b[0m\u001b[0;34m\u001b[0m\u001b[0m\n\u001b[1;32m      6\u001b[0m \u001b[0;32mfrom\u001b[0m \u001b[0mscipy\u001b[0m \u001b[0;32mimport\u001b[0m \u001b[0mstats\u001b[0m\u001b[0;34m\u001b[0m\u001b[0;34m\u001b[0m\u001b[0m\n\u001b[0;32m----> 7\u001b[0;31m \u001b[0;32mimport\u001b[0m \u001b[0mfunctions_SK_RG\u001b[0m \u001b[0;32mas\u001b[0m \u001b[0mfcn\u001b[0m\u001b[0;34m\u001b[0m\u001b[0;34m\u001b[0m\u001b[0m\n\u001b[0m",
      "\u001b[0;31mModuleNotFoundError\u001b[0m: No module named 'functions_SK_RG'"
     ]
    }
   ],
   "source": [
    "import numpy as np\n",
    "import matplotlib.pyplot as plt\n",
    "from random import sample\n",
    "import time\n",
    "import pdb\n",
    "from scipy import stats\n",
    "import functions_SK_RG as fcn\n"
   ]
  },
  {
   "cell_type": "markdown",
   "metadata": {},
   "source": [
    "Define a discrete space of rectangles (hypothesis) and examples (data). 1 sample data."
   ]
  },
  {
   "cell_type": "code",
   "execution_count": null,
   "metadata": {
    "scrolled": false
   },
   "outputs": [],
   "source": [
    "l=10; # size of the board\n",
    "x=range(1,l-1); # x: 1,...,l-2 Left side of the rect.\n",
    "y=range(1,l-1); # y: 1,...,l-2 Bottom of the rect\n",
    "\n",
    "H_space=[];\n",
    "for i in x:\n",
    "    for j in y:\n",
    "        for w in range(2,l-i+1):\n",
    "            for h in range(2,l-j+1):                                \n",
    "                H_space.append((i,j,w,h))\n",
    "\n",
    "Examples=[];\n",
    "for i in range(0,l+2):\n",
    "    for j in range(0,l+2):\n",
    "        Examples.append((i,j));\n",
    "        \n",
    "M=np.zeros([len(Examples),len(H_space)]);\n",
    "for i in range(0,len(Examples)): # if the sample is consistent with the hypothesis M_sample,hyp=1\n",
    "    e=Examples[i];\n",
    "    for j in range(0,len(H_space)):\n",
    "        h=H_space[j];\n",
    "        if not (e[0]<h[0] or e[0]>(h[0]+h[2]) or e[1]<h[1] or e[1]>(h[1]+h[3])): # e must be a circle\n",
    "            M[i,j]=1;\n",
    "            \n",
    "#        if (e[0]<h[0] or e[0]>(h[0]+h[2]) or e[1]<h[1] or e[1]>(h[1]+h[3])): # e must be cross\n",
    "#            M[i,j]=1;\n",
    "                                    \n",
    "L=M[:]\n",
    "T=M[:]\n",
    "eL=[]\n",
    "eT=[]\n",
    "L_uniform=M/np.tile(np.sum(M,axis=1).reshape((M.shape[0],1)),(1,M.shape[1]));\n",
    "T_uniform=M/np.tile(np.sum(M,axis=0).reshape((1,M.shape[1])),(M.shape[0],1));\n",
    "L_uniform[np.isnan(L_uniform)]=0\n",
    "T_uniform[np.isnan(T_uniform)]=0\n",
    "hL=np.zeros(L.shape[0])\n",
    "hT=np.zeros(T.shape[1])\n",
    "for k in range(0,100):\n",
    "    print(k)    \n",
    "    hL0=hL\n",
    "    hT0=hT\n",
    "    \n",
    "    T=L/np.tile(np.sum(L,axis=0).reshape((1,L.shape[1])),(L.shape[0],1));\n",
    "    T[np.isnan(T)]=0;\n",
    "    L=T/np.tile(np.sum(T,axis=1).reshape((T.shape[0],1)),(1,T.shape[1]));\n",
    "    L[np.isnan(L)]=0;\n",
    "        \n",
    "    \n",
    "    Aux=np.multiply(L_uniform,np.log(L))\n",
    "    Aux[np.isnan(Aux)]=0\n",
    "    hL=-np.sum(Aux,axis=1)\n",
    "    \n",
    "    eL.append(np.mean(-np.sum(Aux,axis=1)))\n",
    "\n",
    "    Aux=np.multiply(T_uniform,np.log(T))\n",
    "    Aux[np.isnan(Aux)]=0\n",
    "    eT.append(np.mean(-np.sum(Aux,axis=0)))\n",
    "        \n",
    "    if k>5 and np.multiply(hL-hL0,1/hL0)    \n",
    "        \n",
    "        \n",
    "    if k>5 and (eT[-1]-eT[-2])/eT[-2] < 0.001 and (eL[-1]-eL[-2])/eL[-2] < 0.001:\n",
    "        break\n",
    "    \n",
    "plt.clf()\n",
    "plt.figure();\n",
    "plt.semilogy(eL)                \n",
    "plt.semilogy(eT,'r')\n",
    "plt.show()\n",
    "\n",
    "\n"
   ]
  },
  {
   "cell_type": "markdown",
   "metadata": {},
   "source": [
    "PLOT MOST LIKELY PAIR OF SAMPLES"
   ]
  },
  {
   "cell_type": "code",
   "execution_count": null,
   "metadata": {
    "collapsed": true
   },
   "outputs": [],
   "source": [
    "h_idx=100;\n",
    "print(np.max(T[:,h_idx]))\n",
    "idx=np.where(T[:,h_idx]==np.max(T[:,h_idx]));\n",
    "idx=np.array(idx).flatten()\n",
    "\n",
    "h=H_space[h_idx];\n",
    "\n",
    "\n",
    "col=['k','g','y','m','c']\n",
    "plt.figure()\n",
    "plt.clf()\n",
    "for i in idx:\n",
    "    plt.plot([h[0],h[1],h[1],h[0],h[0]],[h[2],h[2],h[3],h[3],h[2]],'b')\n",
    "    ex_idx=Examples_pair_idx[i];\n",
    "    plt.plot(Examples[ex_idx[0]][0]+0.5,Examples[ex_idx[0]][1]+0.5,'k*')\n",
    "    plt.plot(Examples[ex_idx[1]][0]+0.5,Examples[ex_idx[1]][1]+0.5,'k*')\n",
    "    plt.show()\n",
    "    \n",
    "    \n",
    "\n",
    "    \n",
    "    \n",
    "\n",
    "'''\n",
    "np.sum(T==np.max(T))\n",
    "\n",
    "plt.hist(T[:,10].reshape((T.shape[0],1)))\n",
    "plt.show()\n",
    "a=np.array([[1,6],[3,4]])\n",
    "\n",
    "\n",
    "a=a[:,1]\n",
    "indices = np.where(a == np.max(a))\n",
    "#print(a)\n",
    "#print(indices)\n",
    "'''\n"
   ]
  },
  {
   "cell_type": "code",
   "execution_count": 2,
   "metadata": {},
   "outputs": [],
   "source": [
    "def define_hyp_and_examples_space(l,*n_ex):\n",
    "    \n",
    "    #l=12; # size of the board\n",
    "    #n_ex: number of simultaneous examples (one or two)\n",
    "    \n",
    "\n",
    "    \n",
    "    if not any(n_ex):\n",
    "        n_ex=1 # default number of examples=1\n",
    "    else:\n",
    "        n_ex=n_ex[0]\n",
    "    \n",
    "    \n",
    "    X_left=range(1,l-3); # x: 1,...,l-4 Left side of the rect.\n",
    "    Y_bott=range(1,l-3); # y: 1,...,l-4 Bottom of the rect\n",
    "    x_max=l-1; # max value of x_right\n",
    "    y_max=l-1; # max value of y_top\n",
    "    H_space=[];\n",
    "    for xl in X_left:\n",
    "        for yb in Y_bott:\n",
    "            for xr in range(xl+3,x_max+1):\n",
    "                for yt in range(yb+3,y_max+1):                                \n",
    "                    H_space.append((xl,xr,yb,yt))\n",
    "                            \n",
    "    \n",
    "    if n_ex==1:\n",
    "        Examples=[];\n",
    "        for i in range(0,l):\n",
    "            for j in range(0,l):\n",
    "                Examples.append((i,j)); # CIRCLES: elements 0...(l**2)-1\n",
    "        for i in range(0,l): # CROSSES: elements l**2...2*(l**2)-1\n",
    "            for j in range(0,l):\n",
    "                Examples.append((i,j));    \n",
    "                        \n",
    "        M=np.zeros([len(Examples),len(H_space)],dtype=bool);\n",
    "        ne=-1;\n",
    "        for i in range(0,l**2): # if the sample is consistent with the hypothesis M(sample,hyp)=1        \n",
    "            e1=Examples[i];                        \n",
    "            ne+=1;\n",
    "            for k in range(0,len(H_space)):\n",
    "                h=H_space[k];\n",
    "                if not (e1[0]<h[0] or e1[0]>=h[1] or e1[1]<h[2] or e1[1]>=h[3]): # CIRCLES INSIDE\n",
    "                    M[ne,k]=1;\n",
    "        for i in range(l**2,2*(l**2)):\n",
    "            e1=Examples[i];                        \n",
    "            ne+=1;\n",
    "            for k in range(0,len(H_space)):\n",
    "                h=H_space[k];\n",
    "                if (e1[0]<h[0] or e1[0]>=h[1] or e1[1]<h[2] or e1[1]>=h[3]): # CROSSES OUTSIDE\n",
    "                    M[ne,k]=1;                    \n",
    "                    \n",
    "            \n",
    "    if n_ex==2:        \n",
    "        Examples=[];\n",
    "        for i in range(0,l):\n",
    "            for j in range(0,l):\n",
    "                Examples.append((i,j)); # CIRCLES: elements 0...(l**2)-1\n",
    "        \n",
    "        M=np.zeros([int(len(Examples)*(len(Examples)-1)*0.5),len(H_space)],dtype=bool);\n",
    "        ne=-1;\n",
    "        Examples_pair_idx=[];\n",
    "        for i in range(0,len(Examples)-1): # if the sample is consistent with the hypothesis M(sample,hyp)=1        \n",
    "            e1=Examples[i];\n",
    "            for j in range(i+1,len(Examples)):\n",
    "                e2=Examples[j];\n",
    "                ne+=1;\n",
    "                Examples_pair_idx.append((i,j)); # indices of the pair of examples in the list Examples\n",
    "                for k in range(0,len(H_space)):\n",
    "                    h=H_space[k];\n",
    "                    if not (e1[0]<h[0] or e1[0]>=h[1] or e1[1]<h[2] or e1[1]>=h[3])\\\n",
    "                    and not (e2[0]<h[0] or e2[0]>=h[1] or e2[1]<h[2] or e2[1]>=h[3]): # e1 and e2 must be circles\n",
    "                        M[ne,k]=1;\n",
    "\n",
    "    return M,Examples,H_space\n",
    "            \n",
    "#############################################################################\n",
    "#############################################################################\n",
    "\n",
    "def get_L_T(M):\n",
    "            \n",
    "    L=np.copy(M)\n",
    "    T=np.copy(M)\n",
    "    L=L.astype(float)\n",
    "    T=T.astype(float)\n",
    "    \n",
    "    L_uniform=M/np.tile(np.sum(M,axis=1).reshape((M.shape[0],1)),(1,M.shape[1]));\n",
    "    T_uniform=M/np.tile(np.sum(M,axis=0).reshape((1,M.shape[1])),(M.shape[0],1));\n",
    "    L_uniform[np.isnan(L_uniform)]=0\n",
    "    T_uniform[np.isnan(T_uniform)]=0    \n",
    "    hL=np.zeros(L.shape[0])\n",
    "    hT=np.zeros(T.shape[1])\n",
    "\n",
    "    \n",
    "\n",
    "    nzr=np.any(M,axis=1) # rows with at least 1 non-zero\n",
    "    nzc=np.any(M,axis=0) # cols with at least 1 non-zero    \n",
    "    \n",
    "    for k in range(0,1000):\n",
    "        #L0=L[:]\n",
    "        #T0=T[:]\n",
    "        #t0=time.time()\n",
    "        hL0=np.copy(hL)\n",
    "        hT0=np.copy(hT)\n",
    "\n",
    "        L[nzr,:]=T[nzr,:]/np.tile(np.sum(T[nzr,:],axis=1).reshape((np.sum(nzr),1)),(1,T.shape[1]))\n",
    "        T[:,nzc]=L[:,nzc]/np.tile(np.sum(L[:,nzc],axis=0).reshape((1,np.sum(nzc))),(L.shape[0],1))\n",
    "        \n",
    "        \n",
    "        '''\n",
    "        L1=T1/np.tile(np.sum(T1,axis=1).reshape((T1.shape[0],1)),(1,T1.shape[1]));    \n",
    "        L1[np.isnan(L1)]=0;                                \n",
    "        T1=L1/np.tile(np.sum(L1,axis=0).reshape((1,L1.shape[1])),(L1.shape[0],1));                    \n",
    "        T1[np.isnan(T1)]=0;        \n",
    "        '''\n",
    "\n",
    "        # Error in approximating L by L_uniform and T by T_uniform: (Cross entropy between L0 and L, averaged across data samples; between T0 and T, averaged across haypotheses)\n",
    "        Aux=np.multiply(L_uniform,np.log(L))\n",
    "        Aux[np.isnan(Aux)]=0\n",
    "        hL=-np.sum(Aux,axis=1)\n",
    "        eL=np.abs( (hL[nzr]-hL0[nzr])/hL0[nzr])\n",
    "        eL[np.isnan(eL)]=0\n",
    "\n",
    "    #    eL.append(np.mean(-np.sum(Aux,axis=1)))\n",
    "\n",
    "        logT=np.copy(T)\n",
    "        logT[T>0]=np.log(T[T>0])\n",
    "        Aux=np.multiply(T_uniform,logT)\n",
    "        hT=-np.sum(Aux,axis=0)\n",
    "        eT=np.abs( (hT-hT0)/hT0)\n",
    "        eT[np.isnan(eT)]=0\n",
    "\n",
    "        logL=np.copy(L)\n",
    "        logL[L>0]=np.log(L[L>0])\n",
    "        Aux=np.multiply(L_uniform,logL)\n",
    "        hL=-np.sum(Aux,axis=1)\n",
    "        eL=np.abs( (hL-hL0)/hL0)\n",
    "        eL[np.isnan(eL)]=0        \n",
    "        \n",
    "        \n",
    "        if k>5 and ((eL<0.0001).all()) and ((eT<0.0001).all()):        \n",
    "            break\n",
    "    \n",
    "    return L,T,eL,eT\n",
    "\n",
    "#############################################################################\n",
    "#############################################################################\n",
    "\n",
    "def plot_trial(h,samples,circle,board_size,**kwargs):\n",
    "    plt.clf()\n",
    "    plt.figure()            \n",
    "\n",
    "    probability_map=[];\n",
    "    \n",
    "    if kwargs is not None:\n",
    "        if 'last_guess' in kwargs.keys():\n",
    "            last_guess=kwargs['last_guess']\n",
    "        if 'probability_map' in kwargs.keys():\n",
    "            probability_map=kwargs['probability_map']\n",
    "        \n",
    "        \n",
    "    if any(probability_map):\n",
    "        probability_map=np.squeeze(probability_map)        \n",
    "        in_plus_out=probability_map[0:board_size**2].reshape(board_size,board_size)+probability_map[board_size**2:2*board_size**2].reshape(board_size,board_size)        \n",
    "        plt.pcolormesh(in_plus_out.transpose())\n",
    "        print(in_plus_out.transpose())\n",
    "        #plt.pcolormesh(probability_map[0:board_size**2].reshape(board_size,board_size)+probability_map[board_size**2:2*board_size**2].reshape(board_size,board_size))\n",
    "        plt.colorbar()\n",
    "        #plt.pcolor(probability_map['Examples_space'],probability_map['Probabilities'])        \n",
    "    plt.plot([h[0],h[1],h[1],h[0],h[0]],[h[2],h[2],h[3],h[3],h[2]],'b')\n",
    "    \n",
    "    if 'last_guess' in kwargs.keys():\n",
    "        plt.plot([last_guess[0],last_guess[1],last_guess[1],last_guess[0],last_guess[0]],[last_guess[2],last_guess[2],last_guess[3],last_guess[3],last_guess[2]],'r')\n",
    "    \n",
    "    j=-1\n",
    "    for e in samples:\n",
    "        j+=1\n",
    "        if circle[j]:\n",
    "            plt.plot(e[0]+0.5,e[1]+0.5,'ko')        \n",
    "        else:\n",
    "            plt.plot(e[0]+0.5,e[1]+0.5,'kx')        \n",
    "            \n",
    "    e=samples[-1]\n",
    "    if circle[-1]:\n",
    "        plt.plot(e[0]+0.5,e[1]+0.5,'wo')                \n",
    "    else:\n",
    "        plt.plot(e[0]+0.5,e[1]+0.5,'wx')                \n",
    "    \n",
    "    plt.xlim([0,board_size])\n",
    "    plt.ylim([0,board_size])\n",
    "    plt.show()\n",
    "    \n",
    "    \n",
    "    "
   ]
  },
  {
   "cell_type": "code",
   "execution_count": null,
   "metadata": {},
   "outputs": [],
   "source": []
  },
  {
   "cell_type": "markdown",
   "metadata": {},
   "source": [
    "SIMMULTAION: GIVEN A HYPOTHESIS SELECT THE BEST EXAMPLE UNTIL THE LEARNER FINDS IT\n",
    "\n",
    "0) Define M: the binary matrix of posible combinations of samples (circles and crosses) and hypothesis. Get L* and T* by S-K iteration process.\n",
    "\n",
    "1) Given the true hypothesis, draw a sample d_0 from T*.\n",
    "\n",
    "2) Given the new sample update M: Multiply all the other rows by the d_0 row, and get M(d_0+d,h). Replace the d_0 row by zeros (That sample is no longer elegible). Replace the conjugate-sample row by zeros (if d_0 was a circle, the cross in the same position). Get L* and T* by S-K iteration.\n",
    "\n",
    "3) Draw a hypothesis h_0 from L*. If it is correct, finish the process. If it is wrong, replace the column of h_0 in M by zeros.\n",
    "\n",
    "4) Update M, L* and T*. \n",
    "\n",
    "5) Repeat 1-4.\n",
    "\n",
    "\n",
    "\n",
    "\n"
   ]
  },
  {
   "cell_type": "code",
   "execution_count": 3,
   "metadata": {
    "scrolled": false
   },
   "outputs": [
    {
     "name": "stderr",
     "output_type": "stream",
     "text": [
      "/home/ahaimovici/anaconda3/lib/python3.6/site-packages/ipykernel_launcher.py:85: RuntimeWarning: invalid value encountered in true_divide\n"
     ]
    },
    {
     "name": "stdout",
     "output_type": "stream",
     "text": [
      "Learner Entropy: 0.00810784467881 CI: 0.00565411266355\n",
      "[[ 0.00539894  0.00539894  0.00539894  0.00539894  0.00539894  0.00539894\n",
      "   0.00539894  0.00539894  0.00539894  0.00539894]\n",
      " [ 0.00539894  0.08501983  0.04265558  0.02998789  0.00682092  0.00682092\n",
      "   0.00658437  0.00618131  0.00576503  0.00539894]\n",
      " [ 0.00539894  0.04265558  0.02157045  0.01523381  0.00914322  0.00914322\n",
      "   0.00836273  0.0072014   0.00618131  0.00539894]\n",
      " [ 0.00539894  0.02998789  0.01523381  0.01078601  0.01278486  0.01278486\n",
      "   0.01080977  0.00836273  0.00658437  0.00539894]\n",
      " [ 0.00539894  0.0258975   0.01318375  0.00934544  0.01618466  0.01618466\n",
      "   0.01278486  0.00914322  0.00682092  0.00539894]\n",
      " [ 0.00539894  0.00682092  0.00914322  0.01278486  0.01618466  0.01618466\n",
      "   0.01278486  0.00914322  0.00682092  0.00539894]\n",
      " [ 0.00539894  0.00658437  0.00836273  0.01080977  0.01278486  0.01278486\n",
      "   0.01080977  0.00836273  0.00658437  0.00539894]\n",
      " [ 0.00539894  0.00618131  0.0072014   0.00836273  0.00914322  0.00914322\n",
      "   0.00836273  0.0072014   0.00618131  0.00539894]\n",
      " [ 0.00539894  0.00576503  0.00618131  0.00658437  0.00682092  0.00682092\n",
      "   0.00658437  0.00618131  0.00576503  0.00539894]\n",
      " [ 0.00539894  0.00539894  0.00539894  0.00539894  0.00539894  0.00539894\n",
      "   0.00539894  0.00539894  0.00539894  0.00539894]]\n"
     ]
    },
    {
     "name": "stderr",
     "output_type": "stream",
     "text": [
      "/home/ahaimovici/anaconda3/lib/python3.6/site-packages/ipykernel_launcher.py:116: RuntimeWarning: divide by zero encountered in log\n",
      "/home/ahaimovici/anaconda3/lib/python3.6/site-packages/ipykernel_launcher.py:116: RuntimeWarning: invalid value encountered in multiply\n",
      "/home/ahaimovici/anaconda3/lib/python3.6/site-packages/ipykernel_launcher.py:119: RuntimeWarning: divide by zero encountered in true_divide\n",
      "/home/ahaimovici/anaconda3/lib/python3.6/site-packages/ipykernel_launcher.py:128: RuntimeWarning: divide by zero encountered in true_divide\n",
      "/home/ahaimovici/anaconda3/lib/python3.6/site-packages/ipykernel_launcher.py:135: RuntimeWarning: divide by zero encountered in true_divide\n",
      "/home/ahaimovici/anaconda3/lib/python3.6/site-packages/ipykernel_launcher.py:135: RuntimeWarning: invalid value encountered in true_divide\n"
     ]
    },
    {
     "data": {
      "text/plain": [
       "<matplotlib.figure.Figure at 0x7fe7b7eb7208>"
      ]
     },
     "metadata": {},
     "output_type": "display_data"
    },
    {
     "data": {
      "image/png": "[encoded data removed]",
      "text/plain": [
       "<matplotlib.figure.Figure at 0x7fe7b7b777b8>"
      ]
     },
     "metadata": {},
     "output_type": "display_data"
    },
    {
     "name": "stdout",
     "output_type": "stream",
     "text": [
      "Learner Entropy: 0.00364445348465 CI: 0.00678435296742\n",
      "[[ 0.00683819  0.00683819  0.00683819  0.00683819  0.00683819  0.00683819\n",
      "   0.00683819  0.00683819  0.00683819  0.00683819]\n",
      " [ 0.00683819  0.          0.00683819  0.00683819  0.04653442  0.02000145\n",
      "   0.01272516  0.00948265  0.00776015  0.00683819]\n",
      " [ 0.00683819  0.00683819  0.00683819  0.00683819  0.04653442  0.02000145\n",
      "   0.01272516  0.00948265  0.00776015  0.00683819]\n",
      " [ 0.00683819  0.00683819  0.00683819  0.00683819  0.04653442  0.02000145\n",
      "   0.01272516  0.00948265  0.00776015  0.00683819]\n",
      " [ 0.00683819  0.00801616  0.00801616  0.00801616  0.02326721  0.0149062\n",
      "   0.01097165  0.00880952  0.00754045  0.00683819]\n",
      " [ 0.00683819  0.02000145  0.02000145  0.02000145  0.0149062   0.01160883\n",
      "   0.00952746  0.00818518  0.00732633  0.00683819]\n",
      " [ 0.00683819  0.01272516  0.01272516  0.01272516  0.01097165  0.00952746\n",
      "   0.00844801  0.0076713   0.0071425   0.00683819]\n",
      " [ 0.00683819  0.00948265  0.00948265  0.00948265  0.00880952  0.00818518\n",
      "   0.0076713   0.00727606  0.00699749  0.00683819]\n",
      " [ 0.00683819  0.00776015  0.00776015  0.00776015  0.00754045  0.00732633\n",
      "   0.0071425   0.00699749  0.00689502  0.00683819]\n",
      " [ 0.00683819  0.00683819  0.00683819  0.00683819  0.00683819  0.00683819\n",
      "   0.00683819  0.00683819  0.00683819  0.00683819]]\n"
     ]
    },
    {
     "name": "stderr",
     "output_type": "stream",
     "text": [
      "/home/ahaimovici/anaconda3/lib/python3.6/site-packages/ipykernel_launcher.py:86: RuntimeWarning: invalid value encountered in true_divide\n",
      "/home/ahaimovici/anaconda3/lib/python3.6/site-packages/ipykernel_launcher.py:119: RuntimeWarning: invalid value encountered in true_divide\n",
      "/home/ahaimovici/anaconda3/lib/python3.6/site-packages/ipykernel_launcher.py:128: RuntimeWarning: invalid value encountered in true_divide\n"
     ]
    },
    {
     "data": {
      "text/plain": [
       "<matplotlib.figure.Figure at 0x7fe7b46fa898>"
      ]
     },
     "metadata": {},
     "output_type": "display_data"
    },
    {
     "data": {
      "image/png": "[encoded data removed]",
      "text/plain": [
       "<matplotlib.figure.Figure at 0x7fe7b46e3668>"
      ]
     },
     "metadata": {},
     "output_type": "display_data"
    },
    {
     "name": "stdout",
     "output_type": "stream",
     "text": [
      "Learner Entropy: -0.0 CI: 0.00301973181855\n",
      "[[ 0.00813378  0.00813378  0.00813378  0.00813378  0.00813378  0.00813378\n",
      "   0.00813378  0.00813378  0.00813378  0.00813378]\n",
      " [ 0.00813378  0.          0.00813378  0.00813378  0.          0.00813378\n",
      "   0.00813378  0.00813378  0.00813378  0.00813378]\n",
      " [ 0.00813378  0.00813378  0.00813378  0.00813378  0.00813378  0.00813378\n",
      "   0.00813378  0.00813378  0.00813378  0.00813378]\n",
      " [ 0.00813378  0.00813378  0.00813378  0.00813378  0.00813378  0.00813378\n",
      "   0.00813378  0.00813378  0.00813378  0.00813378]\n",
      " [ 0.00813378  0.00813378  0.00813378  0.00813378  0.00813378  0.00813378\n",
      "   0.00813378  0.00813378  0.00813378  0.00813378]\n",
      " [ 0.00813378  0.03636335  0.03636335  0.03636335  0.00813378  0.00813378\n",
      "   0.00813378  0.00813378  0.00813378  0.00813378]\n",
      " [ 0.00813378  0.03636335  0.03636335  0.03636335  0.00813378  0.00813378\n",
      "   0.00813378  0.00813378  0.00813378  0.00813378]\n",
      " [ 0.00813378  0.01665092  0.01665092  0.01665092  0.00813378  0.00813378\n",
      "   0.00813378  0.00813378  0.00813378  0.00813378]\n",
      " [ 0.00813378  0.01078747  0.01078747  0.01078747  0.00813378  0.00813378\n",
      "   0.00813378  0.00813378  0.00813378  0.00813378]\n",
      " [ 0.00813378  0.00813378  0.00813378  0.00813378  0.00813378  0.00813378\n",
      "   0.00813378  0.00813378  0.00813378  0.00813378]]\n"
     ]
    },
    {
     "data": {
      "text/plain": [
       "<matplotlib.figure.Figure at 0x7fe7b4793208>"
      ]
     },
     "metadata": {},
     "output_type": "display_data"
    },
    {
     "data": {
      "image/png": "[encoded data removed]",
      "text/plain": [
       "<matplotlib.figure.Figure at 0x7fe7b45a6e10>"
      ]
     },
     "metadata": {},
     "output_type": "display_data"
    },
    {
     "name": "stdout",
     "output_type": "stream",
     "text": [
      "Win at: 2\n"
     ]
    },
    {
     "data": {
      "image/png": "[encoded data removed]",
      "text/plain": [
       "<matplotlib.figure.Figure at 0x7fe7b8126748>"
      ]
     },
     "metadata": {},
     "output_type": "display_data"
    }
   ],
   "source": [
    "board_size=10\n",
    "M, Examples_space,H_space=define_hyp_and_examples_space(board_size)\n",
    "L,T,_,_ =get_L_T(M)    \n",
    "\n",
    "#ipdb.set_trace()\n",
    "\n",
    "samples=[]\n",
    "circle=[]\n",
    "guesses=[]\n",
    "\n",
    "CI=[]# cooperative index\n",
    "\n",
    "h_idx=1\n",
    "\n",
    "for it in range(0,10):\n",
    "    \n",
    "    CI.append(np.sum(np.multiply(L,T))/len(H_space))\n",
    "    \n",
    "    # DRAW SAMPLE FROM SAMPLE DISTRIBUTION GIVEN HYPOTHESIS\n",
    "    '''\n",
    "    xk = np.arange(len(Examples_space))\n",
    "    pk = T[:,h_idx]\n",
    "    custm = stats.rv_discrete(name='custm', values=(xk, pk))\n",
    "    i_sample = custm.rvs(size=1)[0]\n",
    "    \n",
    "\n",
    "    xk = np.arange(len(H_space))\n",
    "    pk = L[i_sample,:]\n",
    "    custm = stats.rv_discrete(name='custm', values=(xk, pk))\n",
    "    i_guess = custm.rvs(size=1)[0]\n",
    "    '''\n",
    "    \n",
    "    i_sample=np.argmax(T[:,h_idx]) # OPTIMAL SAMPLE GIVEN THE HYPOTHESIS    \n",
    "    i_guess=np.argmax(L[i_sample,:]) # OPTIMAL SAMPLE GIVEN THE HYPOTHESIS\n",
    "    \n",
    "    samples.append(Examples_space[i_sample])\n",
    "    guesses.append(H_space[i_guess])\n",
    "    if i_sample<board_size**2:\n",
    "        circle.append(True)\n",
    "    else:\n",
    "        circle.append(False)\n",
    "    \n",
    "    p=L[i_sample,np.nonzero(L[i_sample,:])]\n",
    "    HL=-np.sum(np.log(p)*p)/len(H_space) \n",
    "    print('Learner Entropy:',HL,'CI:',CI[-1])\n",
    "        \n",
    "#    plot_trial(H_space[h_idx],samples,board_size=board_size,probabilities_map=T[:,h_idx],last_guess=H_space[i_guess])\n",
    "    plot_trial(H_space[h_idx],samples,circle,board_size,probability_map=T[:,h_idx],last_guess=H_space[i_guess])    \n",
    "    \n",
    "    if i_guess==h_idx:\n",
    "        print('Win at:',it)\n",
    "        break\n",
    "    \n",
    "    \n",
    "    for j in range(0,M.shape[0]):        \n",
    "        M[j,:]=np.multiply(M[j,:],M[i_sample,:])\n",
    "            \n",
    "    M[i_sample,:]=0\n",
    "    if i_sample< board_size**2:\n",
    "        M[i_sample+board_size**2,:]=0 # remove the conjugate sample row\n",
    "    else:\n",
    "        M[i_sample-board_size**2,:]=0 # remove the conjugate sample row\n",
    "                        \n",
    "    M[:,i_guess]=0\n",
    "            \n",
    "    L,T,_,_ =get_L_T(M)    \n",
    "                \n",
    "plt.plot(CI)\n",
    "plt.show()\n",
    "\n"
   ]
  },
  {
   "cell_type": "code",
   "execution_count": 5,
   "metadata": {},
   "outputs": [
    {
     "data": {
      "text/plain": [
       "array([ 0.        ,  0.        ,  0.        ,  0.        ,  0.        ,\n",
       "        0.        ,  0.        ,  0.        ,  0.        ,  0.        ,\n",
       "        0.        ,  0.        ,  0.00813378,  0.00813378,  0.00813378,\n",
       "        0.        ,  0.        ,  0.        ,  0.        ,  0.        ,\n",
       "        0.        ,  0.00813378,  0.00813378,  0.00813378,  0.00813378,\n",
       "        0.        ,  0.        ,  0.        ,  0.        ,  0.        ,\n",
       "        0.        ,  0.00813378,  0.00813378,  0.00813378,  0.00813378,\n",
       "        0.        ,  0.        ,  0.        ,  0.        ,  0.        ,\n",
       "        0.        ,  0.        ,  0.        ,  0.        ,  0.        ,\n",
       "        0.        ,  0.        ,  0.        ,  0.        ,  0.        ,\n",
       "        0.        ,  0.        ,  0.        ,  0.        ,  0.        ,\n",
       "        0.        ,  0.        ,  0.        ,  0.        ,  0.        ,\n",
       "        0.        ,  0.        ,  0.        ,  0.        ,  0.        ,\n",
       "        0.        ,  0.        ,  0.        ,  0.        ,  0.        ,\n",
       "        0.        ,  0.        ,  0.        ,  0.        ,  0.        ,\n",
       "        0.        ,  0.        ,  0.        ,  0.        ,  0.        ,\n",
       "        0.        ,  0.        ,  0.        ,  0.        ,  0.        ,\n",
       "        0.        ,  0.        ,  0.        ,  0.        ,  0.        ,\n",
       "        0.        ,  0.        ,  0.        ,  0.        ,  0.        ,\n",
       "        0.        ,  0.        ,  0.        ,  0.        ,  0.        ,\n",
       "        0.00813378,  0.00813378,  0.00813378,  0.00813378,  0.00813378,\n",
       "        0.00813378,  0.00813378,  0.00813378,  0.00813378,  0.00813378,\n",
       "        0.00813378,  0.        ,  0.        ,  0.        ,  0.        ,\n",
       "        0.03636335,  0.03636335,  0.01665092,  0.01078747,  0.00813378,\n",
       "        0.00813378,  0.        ,  0.        ,  0.        ,  0.        ,\n",
       "        0.03636335,  0.03636335,  0.01665092,  0.01078747,  0.00813378,\n",
       "        0.00813378,  0.        ,  0.        ,  0.        ,  0.        ,\n",
       "        0.03636335,  0.03636335,  0.01665092,  0.01078747,  0.00813378,\n",
       "        0.00813378,  0.        ,  0.00813378,  0.00813378,  0.00813378,\n",
       "        0.00813378,  0.00813378,  0.00813378,  0.00813378,  0.00813378,\n",
       "        0.00813378,  0.00813378,  0.00813378,  0.00813378,  0.00813378,\n",
       "        0.00813378,  0.00813378,  0.00813378,  0.00813378,  0.00813378,\n",
       "        0.00813378,  0.00813378,  0.00813378,  0.00813378,  0.00813378,\n",
       "        0.00813378,  0.00813378,  0.00813378,  0.00813378,  0.00813378,\n",
       "        0.00813378,  0.00813378,  0.00813378,  0.00813378,  0.00813378,\n",
       "        0.00813378,  0.00813378,  0.00813378,  0.00813378,  0.00813378,\n",
       "        0.00813378,  0.00813378,  0.00813378,  0.00813378,  0.00813378,\n",
       "        0.00813378,  0.00813378,  0.00813378,  0.00813378,  0.00813378,\n",
       "        0.00813378,  0.00813378,  0.00813378,  0.00813378,  0.00813378,\n",
       "        0.00813378,  0.00813378,  0.00813378,  0.00813378,  0.00813378])"
      ]
     },
     "execution_count": 5,
     "metadata": {},
     "output_type": "execute_result"
    }
   ],
   "source": [
    "T[:,h_idx]"
   ]
  },
  {
   "cell_type": "code",
   "execution_count": null,
   "metadata": {
    "collapsed": true
   },
   "outputs": [],
   "source": [
    "if 'hola' in kw.keys():\n",
    "    print('si')"
   ]
  },
  {
   "cell_type": "code",
   "execution_count": null,
   "metadata": {
    "collapsed": true
   },
   "outputs": [],
   "source": [
    "\n",
    "\n",
    "M=np.array([[0,0,0,0],\n",
    "   [1,0,1,1],\n",
    "   [1,0,0,0],\n",
    "   [0,0,0,0]])\n",
    "\n",
    "L,T,_,_ =get_L_T(M)    \n",
    "\n",
    "\n",
    "\n",
    "\n",
    "\n",
    "'''\n",
    "L_uniform=M/np.tile(np.sum(M,axis=1).reshape((M.shape[0],1)),(1,M.shape[1]));\n",
    "T_uniform=M/np.tile(np.sum(M,axis=0).reshape((1,M.shape[1])),(M.shape[0],1));\n",
    "L_uniform[np.isnan(L_uniform)]=0\n",
    "'''\n",
    "'''\n",
    "L=np.copy(M)\n",
    "T=np.copy(M)\n",
    "L=L.astype(float)\n",
    "T=T.astype(float)\n",
    "L1=np.copy(L)\n",
    "T1=np.copy(T)\n",
    "'''        \n",
    "\n",
    "#L[nzr,:]=T[nzr,:]/np.tile(np.sum(T[nzr,:],axis=1).reshape((np.sum(nzr),1)),(1,T.shape[1]))\n",
    "#T[:,nzc]=L[:,nzc]/np.tile(np.sum(L[:,nzc],axis=0).reshape((1,np.sum(nzc))),(L.shape[0],1))\n",
    "\n"
   ]
  },
  {
   "cell_type": "code",
   "execution_count": null,
   "metadata": {
    "collapsed": true
   },
   "outputs": [],
   "source": [
    "print('M')\n",
    "print(M)\n",
    "print('L')\n",
    "print(L)\n",
    "print('T')\n",
    "print(T)"
   ]
  },
  {
   "cell_type": "code",
   "execution_count": null,
   "metadata": {},
   "outputs": [],
   "source": [
    "len(H_space)"
   ]
  },
  {
   "cell_type": "code",
   "execution_count": null,
   "metadata": {},
   "outputs": [],
   "source": [
    "a=np.random.rand(2,3)\n",
    "print(a)\n",
    "a.transpose()\n",
    "print(a.transpose())"
   ]
  },
  {
   "cell_type": "code",
   "execution_count": null,
   "metadata": {},
   "outputs": [],
   "source": [
    "p[0][1]*np.log(p[0][1])"
   ]
  }
 ],
 "metadata": {
  "kernelspec": {
   "display_name": "Python 3",
   "language": "python",
   "name": "python3"
  },
  "language_info": {
   "codemirror_mode": {
    "name": "ipython",
    "version": 3
   },
   "file_extension": ".py",
   "mimetype": "text/x-python",
   "name": "python",
   "nbconvert_exporter": "python",
   "pygments_lexer": "ipython3",
   "version": "3.6.8"
  }
 },
 "nbformat": 4,
 "nbformat_minor": 2
}
