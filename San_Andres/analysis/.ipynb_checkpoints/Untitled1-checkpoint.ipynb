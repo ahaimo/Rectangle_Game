{
 "cells": [
  {
   "cell_type": "code",
   "execution_count": 1,
   "metadata": {},
   "outputs": [],
   "source": [
    "import numpy as np\n",
    "import pickle\n",
    "import sys\n",
    "import matplotlib.pyplot as plt\n",
    "import matplotlib.image as mpimg\n",
    "import ipdb\n",
    "import copy\n",
    "from scipy import sparse\n",
    "import time\n",
    "from sklearn.preprocessing import normalize\n",
    "import memory_profiler as mprof\n",
    "\n"
   ]
  },
  {
   "cell_type": "code",
   "execution_count": 4,
   "metadata": {},
   "outputs": [],
   "source": [
    "def save_obj(obj, name ):\n",
    "    with open(name + '.pkl', 'wb') as f:\n",
    "        pickle.dump(obj, f, pickle.HIGHEST_PROTOCOL)\n",
    "\n",
    "def load_obj(name ):\n",
    "    with open(name + '.pkl', 'rb') as f:\n",
    "        return pickle.load(f)"
   ]
  },
  {
   "cell_type": "code",
   "execution_count": 6,
   "metadata": {},
   "outputs": [],
   "source": [
    "Data_discretized=load_obj('partial_SK_Data_discretized_with_some_distributions')"
   ]
  },
  {
   "cell_type": "code",
   "execution_count": 7,
   "metadata": {},
   "outputs": [],
   "source": [
    "analyzed_pairs=[]\n",
    "levels=[]\n",
    "j=-1\n",
    "for d in Data_discretized:\n",
    "    j+=1\n",
    "    if 'CI' in d['Trials'][0].keys():\n",
    "        analyzed_pairs.append(j)\n",
    "        levels.append(d['Level'])\n",
    "#for d in Data_discretized:\n",
    "#    d['Trials'][0]"
   ]
  },
  {
   "cell_type": "code",
   "execution_count": 8,
   "metadata": {},
   "outputs": [
    {
     "data": {
      "text/plain": [
       "[6, 6, 6, 6, 6, 6, 6, 2, 2, 2, 2, 2, 2, 2, 2, 4, 4, 4, 4, 4, 4, 4, 4]"
      ]
     },
     "execution_count": 8,
     "metadata": {},
     "output_type": "execute_result"
    }
   ],
   "source": [
    "levels"
   ]
  },
  {
   "cell_type": "code",
   "execution_count": 48,
   "metadata": {},
   "outputs": [
    {
     "ename": "NameError",
     "evalue": "name 'ci_6' is not defined",
     "output_type": "error",
     "traceback": [
      "\u001b[0;31m---------------------------------------------------------------------------\u001b[0m",
      "\u001b[0;31mNameError\u001b[0m                                 Traceback (most recent call last)",
      "\u001b[0;32m<ipython-input-48-3df6041bb6b4>\u001b[0m in \u001b[0;36m<module>\u001b[0;34m()\u001b[0m\n\u001b[1;32m      1\u001b[0m \u001b[0mci_6_flat\u001b[0m\u001b[0;34m=\u001b[0m\u001b[0;34m[\u001b[0m\u001b[0;34m]\u001b[0m\u001b[0;34m\u001b[0m\u001b[0;34m\u001b[0m\u001b[0m\n\u001b[0;32m----> 2\u001b[0;31m \u001b[0;32mfor\u001b[0m \u001b[0msublist\u001b[0m \u001b[0;32min\u001b[0m \u001b[0mci_6\u001b[0m\u001b[0;34m:\u001b[0m\u001b[0;34m\u001b[0m\u001b[0;34m\u001b[0m\u001b[0m\n\u001b[0m\u001b[1;32m      3\u001b[0m     \u001b[0;32mfor\u001b[0m \u001b[0mitem\u001b[0m \u001b[0;32min\u001b[0m \u001b[0msublist\u001b[0m\u001b[0;34m:\u001b[0m\u001b[0;34m\u001b[0m\u001b[0;34m\u001b[0m\u001b[0m\n\u001b[1;32m      4\u001b[0m         \u001b[0mci_6_flat\u001b[0m\u001b[0;34m.\u001b[0m\u001b[0mappend\u001b[0m\u001b[0;34m(\u001b[0m\u001b[0mitem\u001b[0m\u001b[0;34m)\u001b[0m\u001b[0;34m\u001b[0m\u001b[0;34m\u001b[0m\u001b[0m\n\u001b[1;32m      5\u001b[0m \u001b[0;34m\u001b[0m\u001b[0m\n",
      "\u001b[0;31mNameError\u001b[0m: name 'ci_6' is not defined"
     ]
    }
   ],
   "source": [
    "ci_6_flat=[]\n",
    "for sublist in ci_6:\n",
    "    for item in sublist:\n",
    "        ci_6_flat.append(item)\n",
    "        \n",
    "ci_4_flat=[]\n",
    "for sublist in ci_4:\n",
    "    for item in sublist:\n",
    "        ci_4_flat.append(item)\n",
    "        \n",
    "ci_2_flat=[]\n",
    "for sublist in ci_2:\n",
    "    for item in sublist:\n",
    "        ci_2_flat.append(item)        \n",
    "\n",
    "        \n",
    "        \n",
    "        \n",
    "        \n",
    "plt.clf()        \n",
    "plt.hist(ci_6_flat,bins=30)\n",
    "plt.show()\n",
    "\n",
    "plt.clf()        \n",
    "plt.hist(ci_4_flat,bins=30)\n",
    "plt.show()\n",
    "\n",
    "\n",
    "plt.clf()        \n",
    "plt.hist(ci_2_flat,bins=30)\n",
    "plt.show()\n"
   ]
  },
  {
   "cell_type": "code",
   "execution_count": null,
   "metadata": {},
   "outputs": [],
   "source": []
  },
  {
   "cell_type": "code",
   "execution_count": 9,
   "metadata": {},
   "outputs": [
    {
     "name": "stderr",
     "output_type": "stream",
     "text": [
      "/home/ahaimovici/anaconda3/lib/python3.6/site-packages/matplotlib/pyplot.py:524: RuntimeWarning: More than 20 figures have been opened. Figures created through the pyplot interface (`matplotlib.pyplot.figure`) are retained until explicitly closed and may consume too much memory. (To control this warning, see the rcParam `figure.max_open_warning`).\n",
      "  max_open_warning, RuntimeWarning)\n"
     ]
    }
   ],
   "source": [
    "\n",
    "tos_6=[]\n",
    "tos_4=[]\n",
    "tos_2=[]\n",
    "\n",
    "sample_info_6=[]\n",
    "teachers_entropy_6=[]\n",
    "\n",
    "sample_info_4=[]\n",
    "teachers_entropy_4=[]\n",
    "\n",
    "sample_info_2=[]\n",
    "teachers_entropy_2=[]\n",
    "\n",
    "for i in analyzed_pairs:\n",
    "    d=Data_discretized[i]\n",
    "    #print('#### NEW PAIR ######')\n",
    "    #print('#### Level:'+str(d['Level'])+' ######')\n",
    "    plt.clf()\n",
    "    plt.figure()\n",
    "    trial_number=-1\n",
    "    \n",
    "    for t in d['Trials']:\n",
    "       # print('----- NEW TRIAL ------')\n",
    "        trial_number+=1\n",
    "        if 'CI' in t.keys():            \n",
    "            '''\n",
    "            plt.plot(t['CI'],'-o')\n",
    "            plt.ylabel('CI')\n",
    "            plt.xlabel('move')\n",
    "            plt.title(['Level:',d['Level'],'Trial:',trial_number,'pair:',d['Teachers_Id'],'Last move Id:',t['Examples'][-1]['move_Id']])\n",
    "            plt.show()\n",
    "            '''\n",
    "            \n",
    "            \n",
    "            typicalllity_of_sample=np.array(t['Sample_information'])/np.array(t['Teachers_entropy'])\n",
    "                \n",
    "            \n",
    "            if d['Level']==6:                \n",
    "                tos_6.append(typicalllity_of_sample)\n",
    "                sample_info_6.append(t['Sample_information'])\n",
    "                teachers_entropy_6.append(t['Teachers_entropy'])\n",
    "                #ci_6.append(t['CI'])\n",
    "            elif d['Level']==4:\n",
    "                tos_4.append(typicalllity_of_sample)\n",
    "                sample_info_4.append(t['Sample_information'])\n",
    "                teachers_entropy_4.append(t['Teachers_entropy'])\n",
    "                #ci_4.append(t['CI'])\n",
    "            elif d['Level']==2:\n",
    "                sample_info_2.append(t['Sample_information'])\n",
    "                teachers_entropy_2.append(t['Teachers_entropy'])\n",
    "                tos_2.append(typicalllity_of_sample)\n",
    "                #ci_2.append(t['CI'])\n",
    "                \n",
    "            \n",
    "            \n",
    "            \n",
    "            \n",
    "            "
   ]
  },
  {
   "cell_type": "code",
   "execution_count": 13,
   "metadata": {},
   "outputs": [
    {
     "data": {
      "image/png": "[encoded data removed]",
      "text/plain": [
       "<matplotlib.figure.Figure at 0x7faa74d63358>"
      ]
     },
     "metadata": {},
     "output_type": "display_data"
    },
    {
     "data": {
      "image/png": "[encoded data removed]",
      "text/plain": [
       "<matplotlib.figure.Figure at 0x7faa74d54860>"
      ]
     },
     "metadata": {},
     "output_type": "display_data"
    },
    {
     "data": {
      "image/png": "[encoded data removed]",
      "text/plain": [
       "<matplotlib.figure.Figure at 0x7faa74add978>"
      ]
     },
     "metadata": {},
     "output_type": "display_data"
    }
   ],
   "source": [
    "sample_info_6_flat=[]\n",
    "for sublist in sample_info_6:\n",
    "    for item in sublist:\n",
    "        sample_info_6_flat.append(item)\n",
    "        \n",
    "sample_info_4_flat=[]\n",
    "for sublist in sample_info_4:\n",
    "    for item in sublist:\n",
    "        sample_info_4_flat.append(item)\n",
    "\n",
    "sample_info_2_flat=[]\n",
    "for sublist in sample_info_2:\n",
    "    for item in sublist:\n",
    "        sample_info_2_flat.append(item)\n",
    "        \n",
    "sample_info_6_flat=list(filter(lambda a: a != -np.Inf, sample_info_6_flat))\n",
    "sample_info_6_flat=list(filter(lambda a: a != np.Inf, sample_info_6_flat))\n",
    "\n",
    "sample_info_4_flat=list(filter(lambda a: a != -np.Inf, sample_info_4_flat))\n",
    "sample_info_4_flat=list(filter(lambda a: a != np.Inf, sample_info_4_flat))\n",
    "\n",
    "sample_info_2_flat=list(filter(lambda a: a != -np.Inf, sample_info_2_flat))\n",
    "sample_info_2_flat=list(filter(lambda a: a != np.Inf, sample_info_2_flat))\n",
    "\n",
    "\n",
    "plt.clf()        \n",
    "plt.hist(sample_info_6_flat)\n",
    "plt.xlim([0,12])\n",
    "plt.show()\n",
    "\n",
    "plt.clf()        \n",
    "plt.hist(sample_info_4_flat)\n",
    "plt.xlim([0,12])\n",
    "plt.show()\n",
    "\n",
    "plt.clf()        \n",
    "plt.hist(sample_info_2_flat)\n",
    "plt.xlim([0,12])\n",
    "plt.show()        \n",
    "        \n",
    "        "
   ]
  },
  {
   "cell_type": "code",
   "execution_count": null,
   "metadata": {},
   "outputs": [],
   "source": []
  },
  {
   "cell_type": "code",
   "execution_count": 7,
   "metadata": {},
   "outputs": [
    {
     "data": {
      "text/plain": [
       "'\\nplt.clf()        \\nplt.hist(tos_6_flat)\\nplt.show()\\n\\nplt.clf()        \\nplt.hist(tos_4_flat)\\nplt.show()\\n\\nplt.clf()        \\nplt.hist(tos_2_flat)\\nplt.show()\\n'"
      ]
     },
     "execution_count": 7,
     "metadata": {},
     "output_type": "execute_result"
    }
   ],
   "source": [
    "tos_6_flat=[]\n",
    "for sublist in tos_6:\n",
    "    for item in sublist:\n",
    "        tos_6_flat.append(item)\n",
    "        \n",
    "tos_4_flat=[]\n",
    "for sublist in tos_4:\n",
    "    for item in sublist:\n",
    "        tos_4_flat.append(item)\n",
    "        \n",
    "tos_2_flat=[]\n",
    "for sublist in tos_2:\n",
    "    for item in sublist:\n",
    "        tos_2_flat.append(item)        \n",
    "\n",
    "        \n",
    "      "
   ]
  },
  {
   "cell_type": "code",
   "execution_count": 47,
   "metadata": {},
   "outputs": [
    {
     "data": {
      "text/plain": [
       "<matplotlib.figure.Figure at 0x7f263a7f16d8>"
      ]
     },
     "metadata": {},
     "output_type": "display_data"
    },
    {
     "data": {
      "image/png": "[encoded data removed]",
      "text/plain": [
       "<matplotlib.figure.Figure at 0x7f263a7f3ba8>"
      ]
     },
     "metadata": {},
     "output_type": "display_data"
    },
    {
     "data": {
      "image/png": "[encoded data removed]",
      "text/plain": [
       "<matplotlib.figure.Figure at 0x7f263696ca20>"
      ]
     },
     "metadata": {},
     "output_type": "display_data"
    },
    {
     "data": {
      "image/png": "[encoded data removed]",
      "text/plain": [
       "<matplotlib.figure.Figure at 0x7f263693c748>"
      ]
     },
     "metadata": {},
     "output_type": "display_data"
    }
   ],
   "source": [
    "tos_6_flat=np.array(tos_6_flat)\n",
    "plt.clf()        \n",
    "plt.hist(tos_6_flat[tos_6_flat<10])\n",
    "plt.xlim([0,5])\n",
    "plt.show()\n",
    "\n",
    "plt.clf()        \n",
    "plt.hist(tos_4_flat)\n",
    "plt.xlim([0,5])\n",
    "plt.show()\n",
    "\n",
    "plt.clf()        \n",
    "plt.hist(tos_2_flat)\n",
    "plt.xlim([0,5])\n",
    "plt.show()\n",
    "  "
   ]
  },
  {
   "cell_type": "code",
   "execution_count": 44,
   "metadata": {},
   "outputs": [
    {
     "data": {
      "text/plain": [
       "73.859907172785114"
      ]
     },
     "execution_count": 44,
     "metadata": {},
     "output_type": "execute_result"
    }
   ],
   "source": [
    "max(tos_6_flat)"
   ]
  },
  {
   "cell_type": "code",
   "execution_count": 28,
   "metadata": {},
   "outputs": [
    {
     "data": {
      "text/plain": [
       "True"
      ]
     },
     "execution_count": 28,
     "metadata": {},
     "output_type": "execute_result"
    }
   ],
   "source": [
    "-np.Inf in tos_6_flat"
   ]
  },
  {
   "cell_type": "code",
   "execution_count": 41,
   "metadata": {},
   "outputs": [],
   "source": [
    "tos_6_flat=list(filter(lambda a: a != -np.Inf, tos_6_flat))\n",
    "tos_6_flat=list(filter(lambda a: a != np.Inf, tos_6_flat))\n",
    "\n",
    "tos_4_flat=list(filter(lambda a: a != -np.Inf, tos_4_flat))\n",
    "tos_4_flat=list(filter(lambda a: a != np.Inf, tos_4_flat))\n",
    "\n",
    "tos_2_flat=list(filter(lambda a: a != -np.Inf, tos_2_flat))\n",
    "tos_2_flat=list(filter(lambda a: a != np.Inf, tos_2_flat))"
   ]
  },
  {
   "cell_type": "code",
   "execution_count": 40,
   "metadata": {},
   "outputs": [
    {
     "data": {
      "text/plain": [
       "342"
      ]
     },
     "execution_count": 40,
     "metadata": {},
     "output_type": "execute_result"
    }
   ],
   "source": [
    "len(tos_6_flat)"
   ]
  },
  {
   "cell_type": "code",
   "execution_count": null,
   "metadata": {},
   "outputs": [],
   "source": [
    "np.array(Data_discretized[0]['Trials'][0]['Sample_information'])/np.array(Data_discretized[0]['Trials'][0]['Teachers_entropy'])"
   ]
  },
  {
   "cell_type": "code",
   "execution_count": null,
   "metadata": {},
   "outputs": [],
   "source": [
    "print(Data_discretized[0]['Trials'][0]['Sample_information'])\n",
    "print(Data_discretized[0]['Trials'][0]['Teachers_entropy'])"
   ]
  },
  {
   "cell_type": "code",
   "execution_count": null,
   "metadata": {},
   "outputs": [],
   "source": [
    "5.9627075258301039/6.6938858291807657"
   ]
  }
 ],
 "metadata": {
  "kernelspec": {
   "display_name": "Python 3",
   "language": "python",
   "name": "python3"
  },
  "language_info": {
   "codemirror_mode": {
    "name": "ipython",
    "version": 3
   },
   "file_extension": ".py",
   "mimetype": "text/x-python",
   "name": "python",
   "nbconvert_exporter": "python",
   "pygments_lexer": "ipython3",
   "version": "3.6.8"
  }
 },
 "nbformat": 4,
 "nbformat_minor": 2
}
