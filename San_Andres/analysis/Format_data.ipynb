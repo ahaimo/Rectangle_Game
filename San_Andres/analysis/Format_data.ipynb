{
 "cells": [
  {
   "cell_type": "markdown",
   "metadata": {},
   "source": [
    "Open and reshape data"
   ]
  },
  {
   "cell_type": "code",
   "execution_count": 1,
   "metadata": {
    "collapsed": true
   },
   "outputs": [],
   "source": [
    "import pandas as pd\n",
    "import numpy as np\n",
    "import pickle\n",
    "import matplotlib.pyplot as plt\n",
    "from os import listdir\n",
    "import shutil \n",
    "from scipy.stats import norm\n",
    "import pdb\n"
   ]
  },
  {
   "cell_type": "markdown",
   "metadata": {},
   "source": [
    " RENAME RECTANGLE GAME FILES WITH DIEGO'S IDs "
   ]
  },
  {
   "cell_type": "code",
   "execution_count": null,
   "metadata": {
    "scrolled": false
   },
   "outputs": [],
   "source": [
    "\n",
    "Id_ah=pd.read_excel('/home/ahaimovici/Documents/Teaching/Rectangle_Game/San_Andres/protocolo/lista_estudiantes_ah.xlsx');      \n",
    "Id_dlh=pd.read_excel('/home/ahaimovici/Documents/Teaching/Rectangle_Game/San_Andres/protocolo/new_ids_diego.xlsx');\n",
    "\n",
    "List_ah=[];\n",
    "for i in range(0,len(Id_ah)):\n",
    "    if not np.isnan(Id_ah['ID'][i]):\n",
    "        List_ah.append([int(Id_ah['ID'][i]),Id_ah['Nombre y apellido'][i],Id_ah['Nombre y apellido'][i].lower().replace(' ','')])\n",
    "        \n",
    "List_dlh=[];\n",
    "for i in range(0,len(Id_dlh)):\n",
    "    List_dlh.append([int(Id_dlh['ID'][i]),Id_dlh['Nombre y apellido'][i],Id_dlh['Nombre y apellido'][i].lower().replace(' ',''),Id_dlh['Grupo'][i][0],Id_dlh['Gén.'][i]]);\n",
    "\n",
    "List_ah=np.array(List_ah);\n",
    "List_dlh=np.array(List_dlh);\n"
   ]
  },
  {
   "cell_type": "markdown",
   "metadata": {},
   "source": [
    "COPY AND RENAME FILES"
   ]
  },
  {
   "cell_type": "code",
   "execution_count": null,
   "metadata": {},
   "outputs": [],
   "source": [
    "where='/home/ahaimovici/Documents/Teaching/Rectangle_Game/San_Andres/Data/';\n",
    "to='/home/ahaimovici/Documents/Teaching/Rectangle_Game/San_Andres/Data_new_Id/';\n",
    "\n",
    "c=0\n",
    "for f in listdir(where):\n",
    "    idx1=f.find('_');\n",
    "    idx2=f[idx1+1:].find('_')+idx1+1;\n",
    "    Id_T=f[0:idx1];\n",
    "    Id_L=f[idx1+1:idx2]   \n",
    "    \n",
    "    Id_T_new=List_dlh[List_dlh[:,2]==List_ah[List_ah[:,0]==Id_T,2],0];    \n",
    "    Id_L_new=List_dlh[List_dlh[:,2]==List_ah[List_ah[:,0]==Id_L,2],0];    \n",
    "    \n",
    "    new_filename=str(Id_T_new[0])+'_'+str(Id_L_new[0])+f[idx2:];\n",
    "    \n",
    "    if Id_T != Id_T_new:\n",
    "        print(Id_T,Id_T_new)\n",
    "        print(f)\n",
    "        print(new_filename)\n",
    "        print('------------------')\n",
    "    shutil.copyfile(where+f,to+new_filename)\n",
    "    \n",
    "    \n",
    "    "
   ]
  },
  {
   "cell_type": "markdown",
   "metadata": {},
   "source": [
    " FUNCTION TO READ CSV DATA"
   ]
  },
  {
   "cell_type": "code",
   "execution_count": null,
   "metadata": {},
   "outputs": [],
   "source": [
    "def read_data(where,f,List_dlh):\n",
    "    Pair={};\n",
    "    idx1=f.find('_');\n",
    "    idx2=f[idx1+1:].find('_')+idx1+1;\n",
    "    Id_T=f[0:idx1];\n",
    "    Id_L=f[idx1+1:idx2];                    \n",
    "    Pair['Teachers_Id']=int(Id_T);\n",
    "    Pair['Learners_Id']=int(Id_L);    \n",
    "    level_T=List_dlh[List_dlh[:,0]==Id_T,3];\n",
    "    level_L=List_dlh[List_dlh[:,0]==Id_L,3];\n",
    "    if level_T!=level_L:\n",
    "        print('Warning: level_T!=level_L')\n",
    "    \n",
    "    Pair['Level']=int(level_T[0]);\n",
    "    \n",
    "    df = pd.read_csv(where+f, delimiter=','); \n",
    "    columns=df.columns.tolist();        \n",
    "    tuples = [tuple(x) for x in df.values];\n",
    "    Pair['Total_time']=int(tuples[-1][columns.index('time_elapsed')])/60000; # minutes\n",
    "    Pair['Trials']=[];\n",
    "    n_trial=0;    \n",
    "    for row in tuples:         \n",
    "        if (row[1]=='teacher' or row[1]=='learner') and isinstance(row[columns.index('Learners_Guess')], str) :            \n",
    "            n_trial+=1;               \n",
    "            examples=row[columns.index('Examples')];\n",
    "            canvas_size=row[columns.index('canvas_size')];\n",
    "            print(canvas_size)\n",
    "            inside=row[columns.index('Inside')];\n",
    "            inside=inside.split(',');\n",
    "            examples_list=[];                \n",
    "            if not(pd.isnull(examples)):\n",
    "                examples=examples.split(\",\");            \n",
    "                for element in examples:                \n",
    "                    if element[0]=='[':\n",
    "                        element=element[1:];\n",
    "                    if element[-1]==']':\n",
    "                        element=element[0:-1];\n",
    "                    examples_list.append(float(element));\n",
    "                examples_list = list(zip(*[iter(examples_list)] * 2));\n",
    "            Examples=[];                \n",
    "            i=0;\n",
    "            for element in examples_list:\n",
    "                Examples.append({'x':element[0],'y':element[1],'inside':inside[i]})\n",
    "                i+=1;\n",
    "            teachers_box=row[columns.index('Teachers_Box')];\n",
    "            teachers_box=teachers_box[1:-1];\n",
    "            teachers_box=teachers_box.split(\",\");   \n",
    "            aux=[];\n",
    "            for element in teachers_box:\n",
    "                element=int(element);\n",
    "                aux.append(element);\n",
    "            teachers_box=aux;\n",
    "            learners_guess=row[columns.index('Learners_Guess')];\n",
    "            learners_guess=learners_guess.split(\",\");\n",
    "            learners_guess_list=[];\n",
    "            for element in learners_guess:\n",
    "                if element[0]=='[':\n",
    "                    element=element[1:];\n",
    "                if element[-1]==']':\n",
    "                    element=element[0:-1];\n",
    "                learners_guess_list.append(float(element));\n",
    "            learners_guess_list = list(zip(*[iter(learners_guess_list)] * 4))  \n",
    "            won=row[columns.index('won')];\n",
    "            Pair['Trials'].append({'Teachers_box':teachers_box,'Examples':Examples,'n_examples':len(Examples),'Learners_guess':learners_guess_list,'won':won});\n",
    "    return Pair\n"
   ]
  },
  {
   "cell_type": "markdown",
   "metadata": {},
   "source": [
    "CONCATENATE SEPARATED FILES"
   ]
  },
  {
   "cell_type": "code",
   "execution_count": null,
   "metadata": {},
   "outputs": [],
   "source": [
    "where='/home/ahaimovici/Documents/Teaching/Rectangle_Game/San_Andres/Data_new_Id/';\n",
    "\n",
    "def cat_data(filetype): # filetype= 'learner' or 'teacher'   \n",
    "    files_list=[];\n",
    "    for f in listdir(where):\n",
    "        if f[-4:]=='.csv':\n",
    "            idx1=f.find('_');\n",
    "            idx2=f[idx1+1:].find('_')+idx1+1;\n",
    "            Id_T=f[0:idx1];\n",
    "            Id_L=f[idx1+1:idx2]   \n",
    "            if filetype in f:\n",
    "                files_list.append(f)\n",
    "\n",
    "    files_list=np.sort(files_list);\n",
    "\n",
    "    new_list = [] # group files with same id's\n",
    "    for f in files_list:\n",
    "        idx1=f.find('_');\n",
    "        idx2=f[idx1+1:].find('_')+idx1+1;\n",
    "        if new_list and new_list[-1][0][0:idx2] == f[0:idx2]:\n",
    "            new_list[-1].append(f)\n",
    "        else:\n",
    "            new_list.append([f])\n",
    "\n",
    "    Data=[];\n",
    "    for files in new_list:\n",
    "        if len(files)==1:\n",
    "            P=read_data(where,files[0],List_dlh);\n",
    "            P['Trials'].pop(); # Remove last trial\n",
    "            Data.append(P);\n",
    "        if len(files)>1:\n",
    "            P0=read_data(where,files[0],List_dlh);\n",
    "            P0['Trials'].pop(); # Remove last trial before the crash\n",
    "            for f in files[1:]:\n",
    "                P=read_data(where,f,List_dlh);\n",
    "                P0['Trials'].extend(P['Trials']);\n",
    "            P0['Trials'].pop(); # Remove last trial\n",
    "            Data.append(P0);\n",
    "    return Data;\n"
   ]
  },
  {
   "cell_type": "code",
   "execution_count": null,
   "metadata": {},
   "outputs": [],
   "source": [
    "Data_L=cat_data('learner');\n",
    "Data_T=cat_data('teacher');"
   ]
  },
  {
   "cell_type": "code",
   "execution_count": null,
   "metadata": {},
   "outputs": [],
   "source": [
    "for i in range(0,len(Data_L)):\n",
    "    if Data_L[i]['Teachers_Id']==Data_T[i]['Teachers_Id']:        \n",
    "        T_L=Data_L[i]['Trials'];\n",
    "        T_T=Data_T[i]['Trials'];  \n",
    "        if len(T_L)==len(T_T):\n",
    "            for t in range(0,len(T_L)):\n",
    "                if len(T_L[t]['Learners_guess'])!=len(T_T[t]['Learners_guess']):\n",
    "                    print('Different Learners guess in trial: ',t,'of Teacher Id:',Data_T[i]['Teachers_Id'],'Learner Id:',Data_T[i]['Learners_Id'],'Couple idx: ',i)        \n",
    "                if len(T_L[t]['Examples'])!=len(T_T[t]['Examples']):\n",
    "                    print('Different Examples in trial: ',t,'of Teacher Id:',Data_T[i]['Teachers_Id'],'Learner Id:',Data_T[i]['Learners_Id'],'Couple idx: ',i)        \n",
    "        if len(T_L)!=len(T_T):\n",
    "            print('Different number of trials in Teachers_id:', Data_L[i]['Teachers_Id'],'index:',i)\n",
    "    else: \n",
    "        print('missalignment')\n",
    "\n",
    "# Correct missing trials in one of the two subjects\n",
    "#Data_T[31]['Trials'].append(Data_L[31]['Trials'][-1])       \n",
    "#Data_T[56]['Trials'].insert(11,Data_L[56]['Trials'][11]);\n",
    "        "
   ]
  },
  {
   "cell_type": "code",
   "execution_count": 3,
   "metadata": {},
   "outputs": [],
   "source": [
    "def save_obj(obj, name ):\n",
    "    with open(name + '.pkl', 'wb') as f:\n",
    "        pickle.dump(obj, f, pickle.HIGHEST_PROTOCOL)\n",
    "\n",
    "def load_obj(name ):\n",
    "    with open(name + '.pkl', 'rb') as f:\n",
    "        return pickle.load(f)"
   ]
  },
  {
   "cell_type": "code",
   "execution_count": null,
   "metadata": {},
   "outputs": [],
   "source": [
    "#save_obj(Data_L,'Data')"
   ]
  },
  {
   "cell_type": "code",
   "execution_count": null,
   "metadata": {},
   "outputs": [],
   "source": [
    "T_L=Data_L[56]['Trials'];\n",
    "T_T=Data_T[56]['Trials'];\n",
    "\n",
    "#T_T.insert(11,T_L[11]);\n",
    "\n",
    "for i in range(0,len(T_L)):\n",
    "    print('TRIAL:',i)\n",
    "    print('LEARNER')\n",
    "    print(T_L[i])\n",
    "    print('TEACHER')\n",
    "    print(T_T[i])                \n",
    "    print('--------------------')\n",
    "    "
   ]
  },
  {
   "cell_type": "markdown",
   "metadata": {},
   "source": [
    " ADD GENDER INFO"
   ]
  },
  {
   "cell_type": "code",
   "execution_count": 37,
   "metadata": {},
   "outputs": [],
   "source": [
    "\n",
    "\n",
    "Data=load_obj('/home/ahaimovici/Documents/Teaching/Rectangle_Game/San_Andres/Data_new_Id/Data');\n",
    "for d in Data:\n",
    "    g=List_dlh[List_dlh[:,0]==str(d['Teachers_Id']),4];    \n",
    "    d['Teachers_gender']=g[0];\n",
    "    \n",
    "    g=List_dlh[List_dlh[:,0]==str(d['Learners_Id']),4];    \n",
    "    d['Learners_gender']=g[0];    \n",
    "    \n",
    "#save_obj(Data,'/home/ahaimovici/Documents/Teaching/Rectangle_Game/San_Andres/Data_new_Id/Data')    \n",
    "\n",
    "\n"
   ]
  },
  {
   "cell_type": "code",
   "execution_count": 6,
   "metadata": {},
   "outputs": [
    {
     "data": {
      "text/plain": [
       "{'Examples': [{'inside': 'true', 'x': 108.5, 'y': 333.0},\n",
       "  {'inside': 'false', 'x': 107.5, 'y': 228.0},\n",
       "  {'inside': 'false', 'x': 110.5, 'y': 420.0},\n",
       "  {'inside': 'false', 'x': 154.5, 'y': 320.0},\n",
       "  {'inside': 'true', 'x': 70.5, 'y': 326.0}],\n",
       " 'Learners_guess': [(74.0, 144.0, 316.0, 465.0),\n",
       "  (80.0, 146.0, 259.0, 408.0),\n",
       "  (67.0, 125.0, 255.0, 389.0),\n",
       "  (79.0, 135.0, 263.0, 398.0),\n",
       "  (61.0, 135.0, 250.0, 399.0)],\n",
       " 'Teachers_box': [67, 152, 229, 416],\n",
       " 'n_examples': 5,\n",
       " 'won': False}"
      ]
     },
     "execution_count": 6,
     "metadata": {},
     "output_type": "execute_result"
    }
   ],
   "source": [
    "Data=load_obj('/home/ahaimovici/Documents/Teaching/Rectangle_Game/San_Andres/Data_new_Id/Data');\n",
    "Data[0]['Trials'][0]"
   ]
  },
  {
   "cell_type": "markdown",
   "metadata": {},
   "source": [
    "ADD CONSISTENCY OF LEARNERS GUESS WITH AVAILABLE DATA SAMPLES"
   ]
  },
  {
   "cell_type": "code",
   "execution_count": 16,
   "metadata": {},
   "outputs": [],
   "source": [
    "Data=load_obj('/home/ahaimovici/Documents/Teaching/Rectangle_Game/San_Andres/Data_new_Id/Data');\n",
    "\n",
    "\n",
    "def check_consistency(Examples,box):\n",
    "# Examples is a list of Examples coordinates and category (inside=true means circle. inside=false means cross)\n",
    "# box is the box-tuple (xleft, xright, ytop, ybottom) drawn by the learner\n",
    "    consistent=True\n",
    "    for e in Examples:\n",
    "        if (e['x']<box[0] or e['x']>box[1] or e['y']<box[2] or e['y']>box[3]) and e['inside']=='true':\n",
    "            consistent=False\n",
    "        elif not(e['x']<box[0] or e['x']>box[1] or e['y']<box[2] or e['y']>box[3]) and e['inside']=='false':\n",
    "            consistent=False\n",
    "    return consistent\n",
    "\n",
    "for d in Data:\n",
    "    for trial in d['Trials']:\n",
    "        \n",
    "        Examples=trial['Examples']\n",
    "        \n",
    "        Aux=trial['Learners_guess']\n",
    "        Learners_guess_dict=[];\n",
    "        idx=0\n",
    "        for guess in Aux:\n",
    "            idx+=1            \n",
    "            consistent=check_consistency(Examples[0:idx],guess)\n",
    "            Learners_guess_dict.append({'box':guess,'consistency':consistent})\n",
    "            \n",
    "        trial['Learners_guess']=Learners_guess_dict\n",
    "    \n",
    "#save_obj(Data,'/home/ahaimovici/Documents/Teaching/Rectangle_Game/San_Andres/Data_new_Id/Data')\n"
   ]
  },
  {
   "cell_type": "code",
   "execution_count": 15,
   "metadata": {},
   "outputs": [
    {
     "data": {
      "text/plain": [
       "{'Examples': [{'inside': 'true', 'x': 370.5, 'y': 415.0},\n",
       "  {'inside': 'true', 'x': 426.5, 'y': 415.0},\n",
       "  {'inside': 'false', 'x': 430.5, 'y': 468.0},\n",
       "  {'inside': 'true', 'x': 366.5, 'y': 519.0},\n",
       "  {'inside': 'false', 'x': 428.5, 'y': 524.0}],\n",
       " 'Learners_guess': [{'box': (192.0, 540.0, 303.0, 442.0), 'consistency': True},\n",
       "  {'box': (327.0, 529.0, 389.0, 476.0), 'consistency': True},\n",
       "  {'box': (328.0, 529.0, 384.0, 458.0), 'consistency': True},\n",
       "  {'box': (315.0, 431.0, 393.0, 532.0), 'consistency': False},\n",
       "  {'box': (317.0, 425.0, 392.0, 536.0), 'consistency': False}],\n",
       " 'Teachers_box': [366, 427, 414, 523],\n",
       " 'n_examples': 5,\n",
       " 'won': False}"
      ]
     },
     "execution_count": 15,
     "metadata": {},
     "output_type": "execute_result"
    }
   ],
   "source": [
    "Data[1]['Trials'][1]"
   ]
  }
 ],
 "metadata": {
  "kernelspec": {
   "display_name": "Python 3",
   "language": "python",
   "name": "python3"
  },
  "language_info": {
   "codemirror_mode": {
    "name": "ipython",
    "version": 3
   },
   "file_extension": ".py",
   "mimetype": "text/x-python",
   "name": "python",
   "nbconvert_exporter": "python",
   "pygments_lexer": "ipython3",
   "version": "3.6.1"
  }
 },
 "nbformat": 4,
 "nbformat_minor": 2
}
