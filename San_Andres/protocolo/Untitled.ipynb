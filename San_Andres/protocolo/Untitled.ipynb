{
 "cells": [
  {
   "cell_type": "code",
   "execution_count": 12,
   "metadata": {
    "collapsed": true
   },
   "outputs": [],
   "source": [
    "import pandas as pd\n",
    "import numpy as np\n",
    "\n"
   ]
  },
  {
   "cell_type": "code",
   "execution_count": 16,
   "metadata": {
    "scrolled": true
   },
   "outputs": [
    {
     "name": "stdout",
     "output_type": "stream",
     "text": [
      "2. A 6 6\n",
      "2. B 7 6\n",
      "2. C 5 7\n",
      "4. A 9 11\n",
      "4. B 9 8\n",
      "4. C 11 12\n",
      "6. A 10 4\n",
      "6. B 2 5\n",
      "6. C 9 2\n"
     ]
    }
   ],
   "source": [
    "xls = pd.ExcelFile(\"Participantes_gen.xlsx\")\n",
    "\n",
    "sheetX = xls.parse(0) #2 is the sheet number\n",
    "\n",
    "nivel = sheetX['Nivel'];\n",
    "alumno=sheetX['Alumno'];\n",
    "curso=sheetX['Curso'];\n",
    "genero=sheetX['Género supuesto'];\n",
    "\n",
    "uc,nc=np.unique(curso, return_counts=True);\n",
    "g,ng=np.unique(genero, return_counts=True);\n",
    "\n",
    "Data=[];\n",
    "for c in uc:     \n",
    "    idx=[];\n",
    "    j=0;\n",
    "    for i in curso:        \n",
    "        if i==c:\n",
    "            idx.append(j);\n",
    "        j+=1;    \n",
    "    nF=0;\n",
    "    nM=0;\n",
    "    F=[];\n",
    "    M=[];        \n",
    "    for k in idx:\n",
    "        if genero[k]=='F':\n",
    "            nF+=1;\n",
    "            F.append(alumno[k]);\n",
    "        else:\n",
    "            nM+=1;\n",
    "            M.append(alumno[k]);\n",
    "            \n",
    "    Data.append({'curso':c,'nivel':c[0],'M':M,'F':F})\n",
    "    print(c,nF,nM)\n",
    "    \n",
    "n=0;\n",
    "D=[];\n",
    "for a in alumno:\n",
    "    D.append({'alumno':a,'nivel':nivel[n],'curso':curso[n],'genero':genero[n]})\n",
    "    n+=1;\n",
    "    \n",
    "    "
   ]
  },
  {
   "cell_type": "markdown",
   "metadata": {},
   "source": [
    "# Dos días: 5hs total - 8 sesiones de 35min \n",
    "\n",
    "\n",
    "\n"
   ]
  },
  {
   "cell_type": "code",
   "execution_count": 65,
   "metadata": {},
   "outputs": [],
   "source": [
    "\n",
    "\n",
    "\n",
    "\n",
    "\n",
    "\n",
    "# parejas 2do\n",
    "lista=[];\n",
    "for a in D:\n",
    "    if a['genero']=='M' and a['nivel']==2:\n",
    "        lista.append(a);\n",
    "\n",
    "\n",
    "\n",
    "\n",
    "\n",
    "\n",
    "\n",
    "\n",
    "\n",
    "\n"
   ]
  },
  {
   "cell_type": "code",
   "execution_count": 60,
   "metadata": {},
   "outputs": [
    {
     "data": {
      "text/plain": [
       "19"
      ]
     },
     "execution_count": 60,
     "metadata": {},
     "output_type": "execute_result"
    }
   ],
   "source": [
    "len(lista)"
   ]
  },
  {
   "cell_type": "code",
   "execution_count": 63,
   "metadata": {},
   "outputs": [
    {
     "name": "stdout",
     "output_type": "stream",
     "text": [
      "AMELOTTI Felipe - 2. A - FERRERO Mateo - 2. B\n",
      "ANELLO Pedro - 2. A - GALPERIN Teo - 2. B\n",
      "BLAQUIER Facundo Luis - 2. A - HIRSCHEN Félix - 2. B\n",
      "GONZALEZ MOENAERT Nicolás - 2. A - MAROTTA ARBISER Vicente - 2. B\n",
      "HEYMANN Francisco - 2. A - WANG Alan - 2. B\n",
      "MARQUINA Franco Matias - 2. A - YABLON CESTAU Manuel - 2. B\n",
      "Quedó libre: [{'alumno': 'MARTINEZ TENREIRO Lucas', 'nivel': 2, 'curso': '2. C', 'genero': 'M'}, {'alumno': 'POLIJRONOPULOS Helena Maria', 'nivel': 2, 'curso': '2. C', 'genero': 'M'}, {'alumno': 'SOLERNÓ Manuel Santiago', 'nivel': 2, 'curso': '2. C', 'genero': 'M'}, {'alumno': 'URIA Iñaki', 'nivel': 2, 'curso': '2. C', 'genero': 'M'}]\n"
     ]
    }
   ],
   "source": [
    "parejas=[];\n",
    "for i in range(0,int(np.floor(len(lista)*0.5))):\n",
    "    a1=lista[0];\n",
    "    lista.remove(a1);\n",
    "    for a in lista:\n",
    "        if a['curso'] != a1['curso']:\n",
    "            parejas.append([a1,a])\n",
    "            lista.remove(a);\n",
    "            break;\n",
    "            \n",
    "\n",
    "for p in parejas:\n",
    "    print(p[0]['alumno'],'-',p[0]['curso'],'-',p[1]['alumno'],'-',p[1]['curso'])\n",
    "    \n",
    "if  lista:\n",
    "    print('Quedó libre:',lista)"
   ]
  },
  {
   "cell_type": "code",
   "execution_count": 64,
   "metadata": {},
   "outputs": [
    {
     "data": {
      "text/plain": [
       "4"
      ]
     },
     "execution_count": 64,
     "metadata": {},
     "output_type": "execute_result"
    }
   ],
   "source": [
    "len(lista)"
   ]
  }
 ],
 "metadata": {
  "kernelspec": {
   "display_name": "Python 3",
   "language": "python",
   "name": "python3"
  },
  "language_info": {
   "codemirror_mode": {
    "name": "ipython",
    "version": 3
   },
   "file_extension": ".py",
   "mimetype": "text/x-python",
   "name": "python",
   "nbconvert_exporter": "python",
   "pygments_lexer": "ipython3",
   "version": "3.6.1"
  }
 },
 "nbformat": 4,
 "nbformat_minor": 2
}
