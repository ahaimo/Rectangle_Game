{
 "cells": [
  {
   "cell_type": "code",
   "execution_count": 29,
   "metadata": {},
   "outputs": [
    {
     "name": "stdout",
     "output_type": "stream",
     "text": [
      "[100, 14.399999999999997, 13.799999999999997, 13.199999999999998, 11.999999999999996, 11.249999999999998, 10.499999999999998, 8.999999999999998, 7.499999999999998]\n",
      "[100, 14, 13, 13, 11, 11, 10, 8, 7]\n"
     ]
    }
   ],
   "source": [
    "size_pattern = [96, 92, 88, 80, 75, 70, 60, 50];\n",
    "level=0.9; \n",
    "scale = 1 - level\n",
    "max_size=100;\n",
    "sizes = [max_size] + [(max(1, min(1.5*scale*size, max_size-1))) for size in size_pattern]\n",
    "\n",
    "print(sizes)\n",
    "\n",
    "sizes = [max_size] + [int(max(1, min(1.5*scale*size, max_size-1))) for size in size_pattern]\n",
    "\n",
    "print(sizes)"
   ]
  },
  {
   "cell_type": "code",
   "execution_count": 45,
   "metadata": {},
   "outputs": [
    {
     "name": "stdout",
     "output_type": "stream",
     "text": [
      "[(-250.0, -200.0), (0.0, -200.0), (250.0, -200.0), (-250.0, 50.0), (0.0, 50.0), (250.0, 50.0), (-250.0, 300.0), (0.0, 300.0), (250.0, 300.0)]\n"
     ]
    }
   ],
   "source": [
    "\n",
    "win=[1300,700];\n",
    "size_pattern = [96, 92, 88, 80, 75, 70, 60, 50]\n",
    "max_size = 100\n",
    "circle_distance = max_size*2.5#150\n",
    "min_dist = circle_distance - 2*max_size\n",
    "xoffset = -circle_distance\n",
    "yoffset = -float(win[1]) / 2 + max_size*1.5\n",
    "circle_positions = [(circle_distance * (i % 3) + xoffset, circle_distance * (i - i % 3) / 3 + yoffset) for i in range(9)]\n",
    "circle_units = 'pix'\n",
    "print(circle_positions)"
   ]
  },
  {
   "cell_type": "code",
   "execution_count": 46,
   "metadata": {},
   "outputs": [
    {
     "ename": "NameError",
     "evalue": "name 'randint' is not defined",
     "output_type": "error",
     "traceback": [
      "\u001b[0;31m---------------------------------------------------------------------------\u001b[0m",
      "\u001b[0;31mNameError\u001b[0m                                 Traceback (most recent call last)",
      "\u001b[0;32m<ipython-input-46-020107b3df2c>\u001b[0m in \u001b[0;36m<module>\u001b[0;34m()\u001b[0m\n\u001b[0;32m----> 1\u001b[0;31m \u001b[0mrandint\u001b[0m\u001b[0;34m(\u001b[0m\u001b[0;34m-\u001b[0m\u001b[0mmin_dist\u001b[0m \u001b[0;34m/\u001b[0m \u001b[0;36m2\u001b[0m\u001b[0;34m,\u001b[0m \u001b[0mmin_dist\u001b[0m \u001b[0;34m/\u001b[0m \u001b[0;36m2\u001b[0m\u001b[0;34m)\u001b[0m\u001b[0;34m\u001b[0m\u001b[0m\n\u001b[0m",
      "\u001b[0;31mNameError\u001b[0m: name 'randint' is not defined"
     ]
    }
   ],
   "source": [
    "randint(-min_dist / 2, min_dist / 2)"
   ]
  },
  {
   "cell_type": "code",
   "execution_count": null,
   "metadata": {
    "collapsed": true
   },
   "outputs": [],
   "source": []
  },
  {
   "cell_type": "code",
   "execution_count": 18,
   "metadata": {},
   "outputs": [
    {
     "ename": "NameError",
     "evalue": "name 'data' is not defined",
     "output_type": "error",
     "traceback": [
      "\u001b[0;31m---------------------------------------------------------------------------\u001b[0m",
      "\u001b[0;31mNameError\u001b[0m                                 Traceback (most recent call last)",
      "\u001b[0;32m<ipython-input-18-d115afd1f9af>\u001b[0m in \u001b[0;36m<module>\u001b[0;34m()\u001b[0m\n\u001b[0;32m----> 1\u001b[0;31m trials = data.StairHandler(startVal=0.3, extraInfo=expInfo,\n\u001b[0m\u001b[1;32m      2\u001b[0m     \u001b[0mstepSizes\u001b[0m\u001b[0;34m=\u001b[0m\u001b[0;34m[\u001b[0m\u001b[0;36m0.1\u001b[0m\u001b[0;34m,\u001b[0m \u001b[0;36m0.05\u001b[0m\u001b[0;34m,\u001b[0m \u001b[0;36m0.05\u001b[0m\u001b[0;34m,\u001b[0m \u001b[0;36m0.01\u001b[0m\u001b[0;34m]\u001b[0m\u001b[0;34m,\u001b[0m \u001b[0mstepType\u001b[0m\u001b[0;34m=\u001b[0m\u001b[0;34m'lin'\u001b[0m\u001b[0;34m,\u001b[0m\u001b[0;34m\u001b[0m\u001b[0m\n\u001b[1;32m      3\u001b[0m     \u001b[0mnReversals\u001b[0m\u001b[0;34m=\u001b[0m\u001b[0;36m0\u001b[0m\u001b[0;34m,\u001b[0m \u001b[0mnTrials\u001b[0m\u001b[0;34m=\u001b[0m\u001b[0;36m50\u001b[0m\u001b[0;34m,\u001b[0m\u001b[0;34m\u001b[0m\u001b[0m\n\u001b[1;32m      4\u001b[0m     \u001b[0mnUp\u001b[0m\u001b[0;34m=\u001b[0m\u001b[0;36m1\u001b[0m\u001b[0;34m,\u001b[0m \u001b[0mnDown\u001b[0m\u001b[0;34m=\u001b[0m\u001b[0;36m3\u001b[0m\u001b[0;34m,\u001b[0m\u001b[0;34m\u001b[0m\u001b[0m\n\u001b[1;32m      5\u001b[0m     \u001b[0mminVal\u001b[0m\u001b[0;34m=\u001b[0m\u001b[0;36m0\u001b[0m\u001b[0;34m,\u001b[0m \u001b[0mmaxVal\u001b[0m\u001b[0;34m=\u001b[0m\u001b[0;36m1\u001b[0m\u001b[0;34m,\u001b[0m\u001b[0;34m\u001b[0m\u001b[0m\n",
      "\u001b[0;31mNameError\u001b[0m: name 'data' is not defined"
     ]
    }
   ],
   "source": [
    "trials = data.StairHandler(startVal=0.3, extraInfo=expInfo,\n",
    "    stepSizes=[0.1, 0.05, 0.05, 0.01], stepType='lin',\n",
    "    nReversals=0, nTrials=50, \n",
    "    nUp=1, nDown=3,\n",
    "    minVal=0, maxVal=1,\n",
    "    originPath=-1, name='trials')"
   ]
  }
 ],
 "metadata": {
  "kernelspec": {
   "display_name": "Python 3",
   "language": "python",
   "name": "python3"
  },
  "language_info": {
   "codemirror_mode": {
    "name": "ipython",
    "version": 3
   },
   "file_extension": ".py",
   "mimetype": "text/x-python",
   "name": "python",
   "nbconvert_exporter": "python",
   "pygments_lexer": "ipython3",
   "version": "3.6.1"
  }
 },
 "nbformat": 4,
 "nbformat_minor": 2
}
